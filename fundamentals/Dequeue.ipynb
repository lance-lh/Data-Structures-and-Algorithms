{
 "cells": [
  {
   "cell_type": "markdown",
   "metadata": {},
   "source": [
    "[Dequeue](https://www.tutorialspoint.com/python/python_deque.htm)\n",
    "\n",
    "A double-ended queue, or deque, has the feature of adding and removing elements from either end. The Deque module is a part of **collections** library. It has the methods for adding and removing elements which can be invoked directly with arguments. In the below program we import the collections module and declare a deque. Without need of any class we use the **in-built implement** these methods directly."
   ]
  },
  {
   "cell_type": "code",
   "execution_count": 1,
   "metadata": {},
   "outputs": [
    {
     "name": "stdout",
     "output_type": "stream",
     "text": [
      "deque(['Mon', 'Tue', 'Wed'])\n",
      "Adding to the right: \n",
      "deque(['Mon', 'Tue', 'Wed', 'Thu'])\n",
      "Adding to the left: \n",
      "deque(['Sun', 'Mon', 'Tue', 'Wed', 'Thu'])\n",
      "Removing from the right: \n",
      "deque(['Sun', 'Mon', 'Tue', 'Wed'])\n",
      "Removing from the left: \n",
      "deque(['Mon', 'Tue', 'Wed'])\n",
      "Reversing the deque: \n",
      "deque(['Wed', 'Tue', 'Mon'])\n"
     ]
    }
   ],
   "source": [
    "# append, appendleft, pop and popleft methods\n",
    "\n",
    "import collections\n",
    "\n",
    "# Create a deque\n",
    "Dequeue = collections.deque([\"Mon\",\"Tue\",\"Wed\"])\n",
    "print (Dequeue)\n",
    "\n",
    "# Append to the right\n",
    "print(\"Adding to the right: \")\n",
    "Dequeue.append(\"Thu\")\n",
    "print (Dequeue)\n",
    "\n",
    "# append to the left\n",
    "print(\"Adding to the left: \")\n",
    "Dequeue.appendleft(\"Sun\")\n",
    "print (Dequeue)\n",
    "\n",
    "# Remove from the right\n",
    "print(\"Removing from the right: \")\n",
    "Dequeue.pop()\n",
    "print (Dequeue)\n",
    "\n",
    "# Remove from the left\n",
    "print(\"Removing from the left: \")\n",
    "Dequeue.popleft()\n",
    "print (Dequeue)\n",
    "\n",
    "# Reverse the dequeue\n",
    "print(\"Reversing the deque: \")\n",
    "Dequeue.reverse()\n",
    "print (Dequeue)"
   ]
  }
 ],
 "metadata": {
  "kernelspec": {
   "display_name": "Python 3",
   "language": "python",
   "name": "python3"
  },
  "language_info": {
   "codemirror_mode": {
    "name": "ipython",
    "version": 3
   },
   "file_extension": ".py",
   "mimetype": "text/x-python",
   "name": "python",
   "nbconvert_exporter": "python",
   "pygments_lexer": "ipython3",
   "version": "3.6.4"
  }
 },
 "nbformat": 4,
 "nbformat_minor": 2
}
