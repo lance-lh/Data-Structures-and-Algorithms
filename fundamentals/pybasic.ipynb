{
 "cells": [
  {
   "cell_type": "code",
   "execution_count": 1,
   "metadata": {},
   "outputs": [],
   "source": [
    "#coding:utf-8\n",
    "\n",
    "'''for loop'''\n",
    "sum = 0\n",
    "i = range(9)\n",
    "for j in i:\n",
    "    sum += j\n",
    "print(sum)"
   ]
  },
  {
   "cell_type": "code",
   "execution_count": 2,
   "metadata": {},
   "outputs": [],
   "source": [
    "#coding:utf-8\n",
    "'''while loop'''\n",
    "sum = 0\n",
    "j = 0\n",
    "while(j < 9):\n",
    "    sum += j\n",
    "    j = j + 1\n",
    "print(sum)"
   ]
  },
  {
   "cell_type": "code",
   "execution_count": 3,
   "metadata": {},
   "outputs": [],
   "source": [
    "#coding:utf-8\n",
    "'''单一tuple'''\n",
    "a = (5,)\n",
    "print(a)"
   ]
  },
  {
   "cell_type": "code",
   "execution_count": 4,
   "metadata": {},
   "outputs": [],
   "source": [
    "#coding:utf-8\n",
    "'''break'''\n",
    "n = 1\n",
    "while n <= 100:\n",
    "    if n > 10:\n",
    "        break\n",
    "    print(n)\n",
    "    n = n + 1\n",
    "print('END')"
   ]
  },
  {
   "cell_type": "code",
   "execution_count": 5,
   "metadata": {},
   "outputs": [
    {
     "ename": "KeyError",
     "evalue": "95",
     "output_type": "error",
     "traceback": [
      "\u001b[1;31m---------------------------------------------------------------------------\u001b[0m",
      "\u001b[1;31mKeyError\u001b[0m                                  Traceback (most recent call last)",
      "\u001b[1;32m<ipython-input-5-8eb192ea1ffe>\u001b[0m in \u001b[0;36m<module>\u001b[1;34m()\u001b[0m\n\u001b[0;32m      4\u001b[0m \u001b[1;31m#d.pop('Bob')\u001b[0m\u001b[1;33m\u001b[0m\u001b[1;33m\u001b[0m\u001b[0m\n\u001b[0;32m      5\u001b[0m \u001b[1;31m#print(d)\u001b[0m\u001b[1;33m\u001b[0m\u001b[1;33m\u001b[0m\u001b[0m\n\u001b[1;32m----> 6\u001b[1;33m \u001b[0md\u001b[0m\u001b[1;33m[\u001b[0m\u001b[1;36m95\u001b[0m\u001b[1;33m]\u001b[0m\u001b[1;33m\u001b[0m\u001b[0m\n\u001b[0m",
      "\u001b[1;31mKeyError\u001b[0m: 95"
     ]
    }
   ],
   "source": [
    "#coding:utf-8\n",
    "'''dict'''\n",
    "d = {'Michael': 95, 'Bob': 75, 'Tracy': 85}\n",
    "#d.pop('Bob')\n",
    "#print(d)\n",
    "d[95]"
   ]
  },
  {
   "cell_type": "code",
   "execution_count": null,
   "metadata": {},
   "outputs": [],
   "source": [
    "#coding:utf-8\n",
    "'''function'''\n",
    "def my_abs(x):\n",
    "    if not isinstance(x,(int,float)):\n",
    "        raise TypeError('bad operand type')\n",
    "    if x>= 0:\n",
    "        return x\n",
    "    else:\n",
    "        return -x\n",
    "\n",
    "my_abs('A')"
   ]
  },
  {
   "cell_type": "code",
   "execution_count": null,
   "metadata": {},
   "outputs": [],
   "source": [
    "#coding:utf-8\n",
    "'''func return multiple values'''\n",
    "import math\n",
    "\n",
    "def move(x, y, step, angle=0):\n",
    "    nx = x + step * math.cos(angle)\n",
    "    ny = y - step * math.sin(angle)\n",
    "    return nx, ny\n",
    "\n",
    "x, y = move(100, 100, 60, math.pi / 6)\n",
    "print(x, y)  # it actually returns a tuple"
   ]
  },
  {
   "cell_type": "code",
   "execution_count": null,
   "metadata": {},
   "outputs": [],
   "source": [
    "#coding:utf-8\n",
    "'''multiple paras'''\n",
    "def power(x,n = 2):\n",
    "    s = 1\n",
    "    while n > 0:\n",
    "        n = n - 1\n",
    "        s = s * x\n",
    "    return s\n",
    "\n",
    "print(power(5,3))"
   ]
  },
  {
   "cell_type": "code",
   "execution_count": null,
   "metadata": {},
   "outputs": [],
   "source": [
    "#coding:utf-8\n",
    "'''可变参数'''\n",
    "def calc(*numbers):\n",
    "    sum = 0\n",
    "    for n in numbers:\n",
    "        sum = sum + n * n\n",
    "    return sum\n",
    "\n",
    "print(calc(1,2))\n",
    "print(calc())\n",
    "nums = [1, 2, 3]\n",
    "print(calc(*nums))"
   ]
  },
  {
   "cell_type": "code",
   "execution_count": null,
   "metadata": {},
   "outputs": [],
   "source": [
    "#coding:utf-8\n",
    "'''关键字参数,组装为dict'''\n",
    "def person(name, age, **kw):\n",
    "    print('name:', name, 'age:', age, 'other:', kw)\n",
    "\n",
    "extra = {'city': 'Beijing', 'job': 'Engineer'}\n",
    "person('Jack', 24, **extra)"
   ]
  },
  {
   "cell_type": "code",
   "execution_count": null,
   "metadata": {},
   "outputs": [],
   "source": [
    "#coding:utf-8\n",
    "'''命名关键字参数: 限制关键字参数的名字'''\n",
    "def person(name, age, *, city, job):\n",
    "    print(name, age, city, job)\n",
    "\n",
    "person('Jack', 24, city='Beijing', job='Engineer')"
   ]
  },
  {
   "cell_type": "markdown",
   "metadata": {},
   "source": [
    "#coding:utf-8\n",
    "'''如果函数定义中已经有了\n",
    "一个可变参数，后面跟着的命名关键字参数\n",
    "就不再需要一个特殊分隔符*了'''\n",
    "\n",
    "def person(name, age, *args, city, job):\n",
    "    print(name, age, args, city, job)"
   ]
  },
  {
   "cell_type": "markdown",
   "metadata": {},
   "source": [
    "'''在Python中定义函数，\n",
    "可以用必选参数、默认参数、可变参数、关键字参数和命名关键字参数，\n",
    "这5种参数都可以组合使用。但是请注意，参数定义的顺序必须是：\n",
    "必选参数、默认参数、可变参数(*para)、\n",
    "命名关键字(z)参数(x,y,*,z)和关键字参数(**para)。'''"
   ]
  },
  {
   "cell_type": "code",
   "execution_count": null,
   "metadata": {},
   "outputs": [],
   "source": [
    "#coding:utf-8\n",
    "def f1(a, b, c=0, *args, **kw):\n",
    "    print('a =', a, 'b =', b, 'c =', c, 'args =', args, 'kw =', kw)\n",
    "\n",
    "def f2(a, b, c=0, *, d, **kw):\n",
    "    print('a =', a, 'b =', b, 'c =', c, 'd =', d, 'kw =', kw)\n",
    "\n",
    "args = (1, 2, 3, 4)\n",
    "kw = {'d': 99, 'x': '#'}\n",
    "f1(*args, **kw)\n",
    "# a = 1 b = 2 c = 3 args = (4,) kw = {'d': 99, 'x': '#'}\n",
    "args = (1, 2, 3)\n",
    "kw = {'d': 88, 'x': '#'}\n",
    "f2(*args, **kw)\n",
    "# a = 1 b = 2 c = 3 d = 88 kw = {'x': '#'}"
   ]
  },
  {
   "cell_type": "markdown",
   "metadata": {},
   "source": [
    "默认参数一定要用不可变对象，如果是可变对象，程序运行时会有逻辑错误！\n",
    "\n",
    "要注意定义可变参数和关键字参数的语法：\n",
    "\n",
    "*args是可变参数，args接收的是一个tuple；\n",
    "\n",
    "**kw是关键字参数，kw接收的是一个dict。\n",
    "\n",
    "以及调用函数时如何传入可变参数和关键字参数的语法：\n",
    "\n",
    "可变参数既可以直接传入：func(1, 2, 3)，又可以先组装list或tuple，再通过*args传入：func(*(1, 2, 3))；\n",
    "\n",
    "关键字参数既可以直接传入：func(a=1, b=2)，又可以先组装dict，再通过**kw传入：func(**{'a': 1, 'b': 2})。\n",
    "\n",
    "使用*args和**kw是Python的习惯写法，当然也可以用其他参数名，但最好使用习惯用法。\n",
    "\n",
    "命名的关键字参数是为了限制调用者可以传入的参数名，同时可以提供默认值。\n",
    "\n",
    "定义命名的关键字参数在没有可变参数的情况下不要忘了写分隔符*，否则定义的将是位置参数。"
   ]
  },
  {
   "cell_type": "markdown",
   "metadata": {},
   "source": [
    "切片\n",
    "可以对list，tuple，string使用切片，返回的仍然是原来的类型\n",
    "L[:]\n",
    "L[:10]\n",
    "L[-10:]\n",
    "L[:10:2] #前10个数，每两个取一个\n",
    "L[::5] #所有数，每5个取一个："
   ]
  },
  {
   "cell_type": "markdown",
   "metadata": {},
   "source": [
    "迭代\n",
    "`for ... in` 可以用于list[],tuple(),dict{},字符串等。\n",
    "\n",
    "> 默认情况下，dict迭代的是key。如果要迭代value，可以用for value in d.values()，如果要同时迭代key和value，可以用for k, v in d.items()。\n",
    "\n",
    "```\n",
    "for ch in 'ABC':\n",
    "    print(ch)\n",
    "```\n",
    "\n",
    "判断是否可迭代\n",
    "from collections import Iterable\n",
    "isinstance('abc', Iterable) # str是否可迭代\n",
    "\n",
    "Python内置的`enumerate`函数可以把一个list变成索引-元素对，这样就可以在for循环中同时迭代索引和元素本身："
   ]
  },
  {
   "cell_type": "code",
   "execution_count": null,
   "metadata": {},
   "outputs": [],
   "source": [
    "for i, value in enumerate(['A', 'B', 'C']):\n",
    "...     print(i, value)"
   ]
  },
  {
   "cell_type": "code",
   "execution_count": null,
   "metadata": {},
   "outputs": [],
   "source": [
    "# 列表生成式,List Comprehensions 或者说列表解析\n",
    "list(range(1,11))"
   ]
  },
  {
   "cell_type": "code",
   "execution_count": null,
   "metadata": {},
   "outputs": [],
   "source": [
    "L = []\n",
    "for x in range(1,11):\n",
    "    L.append(x * x)\n",
    "L"
   ]
  },
  {
   "cell_type": "code",
   "execution_count": null,
   "metadata": {},
   "outputs": [],
   "source": [
    "[x * x for x in range(1,11)]"
   ]
  },
  {
   "cell_type": "code",
   "execution_count": null,
   "metadata": {},
   "outputs": [],
   "source": [
    "[x * x for x in range(1, 11) if x % 2 == 0]"
   ]
  },
  {
   "cell_type": "code",
   "execution_count": null,
   "metadata": {},
   "outputs": [],
   "source": [
    "[m + n for m in 'ABC' for n in 'XYZ']"
   ]
  },
  {
   "cell_type": "code",
   "execution_count": null,
   "metadata": {},
   "outputs": [],
   "source": [
    "# 列出当前目录下所有文件和目录名\n",
    "import os\n",
    "[d for d in os.listdir('.')]"
   ]
  },
  {
   "cell_type": "code",
   "execution_count": null,
   "metadata": {},
   "outputs": [],
   "source": [
    "# 输出字典\n",
    "d = {'x': 'A', 'y': 'B', 'z': 'C' }\n",
    "for k, v in d.items():\n",
    "    print(k,'=',v)"
   ]
  },
  {
   "cell_type": "code",
   "execution_count": null,
   "metadata": {},
   "outputs": [],
   "source": [
    "L = [x * x for x in range(10)] # 列表解析\n",
    "g = (x * x for x in range(10)) # 生成器, save the algorithm to predict next value\n",
    "# next(g) \n",
    "\n",
    "for i in g:  # print all values\n",
    "    print(i)"
   ]
  },
  {
   "cell_type": "code",
   "execution_count": null,
   "metadata": {},
   "outputs": [],
   "source": [
    "# normal function without generator\n",
    "def fib(max):\n",
    "    n,a,b = 0,0,1\n",
    "    while n < max:\n",
    "        print(b)\n",
    "        a,b = b, a + b # special assighment \n",
    "        n = n + 1\n",
    "    return 'done'\n",
    "\n",
    "fib(6)"
   ]
  },
  {
   "cell_type": "code",
   "execution_count": null,
   "metadata": {},
   "outputs": [],
   "source": [
    "# function with generator\n",
    "def fib(max):\n",
    "    n,a,b = 0,0,1\n",
    "    while n < max:\n",
    "        yield b\n",
    "        a,b = b, a + b # special assighment \n",
    "        n = n + 1\n",
    "    return 'done'\n",
    "\n",
    "'''\n",
    "for n in fib(6):\n",
    "    print(n)\n",
    "'''\n",
    "\n",
    "g = fib(6)\n",
    "while True:\n",
    "    try:\n",
    "        x = next(g)\n",
    "        print('g:',x)\n",
    "    except StopIteration as e:\n",
    "        print('Generator return value:', e.value)\n",
    "        break"
   ]
  },
  {
   "cell_type": "markdown",
   "metadata": {},
   "source": [
    "可以直接作用于for循环的数据类型有以下几种：\n",
    "\n",
    "一类是集合数据类型，如list、tuple、dict、set、str等；\n",
    "\n",
    "一类是generator，包括生成器和带yield的generator function。\n",
    "\n",
    "这些可以直接作用于for循环的对象统称为可迭代对象：Iterable。\n",
    "\n",
    "可以使用isinstance()判断一个对象是否是Iterable对象："
   ]
  },
  {
   "cell_type": "code",
   "execution_count": null,
   "metadata": {},
   "outputs": [],
   "source": [
    "from collections import Iterable\n",
    "isinstance([], Iterable)\n",
    "isinstance({}, Iterable)\n",
    "isinstance('abc', Iterable)\n",
    "isinstance((x for x in range(10)), Iterable)\n",
    "isinstance(100, Iterable)"
   ]
  },
  {
   "cell_type": "markdown",
   "metadata": {},
   "source": [
    "可以被next()函数调用并不断返回下一个值的对象称为迭代器：Iterator。\n",
    "\n",
    "list,dict,string,generator都是Iteratable\n",
    "只有generator是iterator（迭代器）\n",
    "\n",
    "把list、dict、str等Iterable变成Iterator可以使用iter()函数：\n",
    "\n",
    "isinstance(iter([]), Iterator)\n",
    "True\n",
    "isinstance(iter('abc'), Iterator)\n",
    "True\n",
    "\n",
    "为什么list、dict、str等数据类型不是Iterator？\n",
    "\n",
    "这是因为Python的Iterator对象表示的是一个数据流，Iterator对象可以被next()函数调用并不断返回下一个数据，直到没有数据时抛出StopIteration错误。可以把这个数据流看做是一个有序序列，但我们却不能提前知道序列的长度，只能不断通过next()函数实现按需计算下一个数据，所以Iterator的计算是惰性的，只有在需要返回下一个数据时它才会计算。\n",
    "\n",
    "Iterator甚至可以表示一个无限大的数据流，例如全体自然数。而使用list是永远不可能存储全体自然数的。"
   ]
  },
  {
   "cell_type": "code",
   "execution_count": null,
   "metadata": {},
   "outputs": [],
   "source": [
    "for i in range(0,5):\n",
    "    print(i)"
   ]
  },
  {
   "cell_type": "code",
   "execution_count": null,
   "metadata": {},
   "outputs": [],
   "source": [
    "#函数名其实就是指向函数的变量\n",
    "\n",
    "#f = abs\n",
    "#f(-10)\n",
    "#10\n",
    "\n",
    "# 把函数作为参数传入，这样的函数称为高阶函数，\n",
    "# 函数式编程就是指这种高度抽象的编程范式。\n",
    "def add(x,y,f):\n",
    "    return f(x)+f(y)\n",
    "\n",
    "print(add(-5,6,abs))"
   ]
  },
  {
   "cell_type": "markdown",
   "metadata": {},
   "source": [
    "map()函数接收两个参数，一个是函数，一个是Iterable(list,tuple,dict,string,generator)，map将传入的函数依次作用到序列的每个元素，并把结果作为新的Iterator返回。\n",
    "\n",
    "def f(x):\n",
    "    return x * x\n",
    "\n",
    "r = map(f, [1, 2, 3, 4, 5, 6, 7, 8, 9])\n",
    "list(r)\n",
    "\n",
    "list(map(str, [1, 2, 3, 4, 5, 6, 7, 8, 9]))\n",
    "output: ['1', '2', '3', '4', '5', '6', '7', '8', '9']\n",
    "\n",
    "\n",
    "reduce把一个函数作用在一个序列[x1, x2, x3, ...]上，这个函数必须接收两个参数，reduce把结果继续和序列的下一个元素做累积计算，其效果就是：\n",
    "\n",
    "reduce(f, [x1, x2, x3, x4]) = f(f(f(x1, x2), x3), x4)"
   ]
  },
  {
   "cell_type": "code",
   "execution_count": null,
   "metadata": {},
   "outputs": [],
   "source": [
    "# str2int\n",
    "from functools import reduce\n",
    "def fn(x,y):\n",
    "    return x * 10 + y\n",
    "def char2num(s):\n",
    "    digits = {'0': 0, '1': 1, '2': 2, '3': 3, '4': 4, '5': 5, '6': 6, '7': 7, '8': 8, '9': 9}\n",
    "    return digits[s]\n",
    "\n",
    "#list(map(char2num, '13579'))\n",
    "reduce(fn, map(char2num, '13579'))"
   ]
  },
  {
   "cell_type": "code",
   "execution_count": null,
   "metadata": {},
   "outputs": [],
   "source": [
    "# name list -> first letter to be capital\n",
    " \n",
    "def normalize(name):\n",
    "    return name[0].upper() + name[1:].lower()\n",
    "\n",
    "L1 = ['adam', 'LISA', 'barT']\n",
    "L2 = list(map(normalize, L1))\n",
    "print(L2)"
   ]
  },
  {
   "cell_type": "code",
   "execution_count": null,
   "metadata": {},
   "outputs": [],
   "source": [
    "# minic product\n",
    "\n",
    "from functools import reduce\n",
    "\n",
    "def prod(L):\n",
    "    return reduce(lambda a, b : a * b, L)\n",
    "\n",
    "print('3 * 5 * 7 * 9 =', prod([3, 5, 7, 9]))\n",
    "if prod([3, 5, 7, 9]) == 945:\n",
    "    print('测试成功!')\n",
    "else:\n",
    "    print('测试失败!')"
   ]
  },
  {
   "cell_type": "code",
   "execution_count": null,
   "metadata": {
    "scrolled": true
   },
   "outputs": [],
   "source": [
    "# str2float\n",
    "\n",
    "from functools import reduce\n",
    "\n",
    "def str2float(s):\n",
    "    s = s.split('.')\n",
    "    digits=reduce(lambda x,y:int(x)*10**len(y)+int(y),s)\n",
    "    return digits/(10**len(s[1])\n",
    "\n",
    "#print('str2float(\\'123.456\\') =', str2float('123.456'))\n",
    "if abs(str2float('123.456') - 123.456) < 0.00001:\n",
    "    print('测试成功!')\n",
    "else:\n",
    "    print('测试失败!')"
   ]
  },
  {
   "cell_type": "markdown",
   "metadata": {},
   "source": [
    "Python内建的filter()函数用于过滤序列。\n",
    "\n",
    "和map()类似，filter()也接收一个函数和一个序列。和map()不同的是，filter()把传入的函数依次作用于每个元素，然后根据返回值是True还是False决定保留还是丢弃该元素。\n",
    "\n",
    "注意到filter()函数返回的是一个Iterator，也就是一个惰性序列，所以要强迫filter()完成计算结果，需要用list()函数获得所有结果并返回list。"
   ]
  },
  {
   "cell_type": "code",
   "execution_count": null,
   "metadata": {},
   "outputs": [],
   "source": [
    "# 埃氏筛法\n",
    "\n",
    "# construct a generator to contain numbers\n",
    "def _odd_iter():\n",
    "    n = 1\n",
    "    while True:\n",
    "        n = n + 2\n",
    "        yield n\n",
    "        \n",
    "# define a selective func\n",
    "def _not_divisible(n):\n",
    "    return lambda x: x % n > 0\n",
    "\n",
    "def primes():\n",
    "    yield 2\n",
    "    it = _odd_iter() # 初始序列\n",
    "    while True:\n",
    "        n = next(it) # 返回序列的第一个数\n",
    "        yield n\n",
    "        it = filter(_not_divisible(n), it) # 构造新序列\n",
    "        \n",
    "# 打印1000以内的素数:\n",
    "for n in primes():\n",
    "    if n < 1000:\n",
    "        print(n)\n",
    "    else:\n",
    "        break"
   ]
  },
  {
   "cell_type": "code",
   "execution_count": null,
   "metadata": {},
   "outputs": [],
   "source": [
    "def is_palindrome(n):\n",
    "    s_n = str(n)\n",
    "    return s_n == s_n[::-1]\n",
    "\n",
    "# 测试:\n",
    "output = filter(is_palindrome, range(1, 1000))\n",
    "print('1~1000:', list(output))\n",
    "if list(filter(is_palindrome, range(1, 200))) == [1, 2, 3, 4, 5, 6, 7, 8, 9, 11, 22, 33, 44, 55, 66, 77, 88, 99, 101, 111, 121, 131, 141, 151, 161, 171, 181, 191]:\n",
    "    print('测试成功!')\n",
    "else:\n",
    "    print('测试失败!')"
   ]
  },
  {
   "cell_type": "code",
   "execution_count": null,
   "metadata": {},
   "outputs": [],
   "source": [
    "# 排序算法\n",
    "sorted([36,5,-12,9,-21])\n",
    "sorted([36, 5, -12, 9, -21], key=abs)\n",
    "sorted(['bob', 'about', 'Zoo', 'Credit'])\n",
    "sorted(['bob', 'about', 'Zoo', 'Credit'], key=str.lower)\n",
    "sorted(['bob', 'about', 'Zoo', 'Credit'], key=str.lower, reverse=True)"
   ]
  },
  {
   "cell_type": "code",
   "execution_count": null,
   "metadata": {},
   "outputs": [],
   "source": [
    "# -*- coding: utf-8 -*-\n",
    "\n",
    "L = [('Bob', 75), ('Adam', 92), ('Bart', 66), ('Lisa', 88)]\n",
    "def by_name(t):\n",
    "    for x in t:\n",
    "        return x[0].lower()\n",
    "\n",
    "#测试\n",
    "L2 = sorted(L, key=by_name)\n",
    "print(L2)"
   ]
  },
  {
   "cell_type": "code",
   "execution_count": null,
   "metadata": {},
   "outputs": [],
   "source": [
    "# 作用域，外部无法引用局部变量\n",
    "def foo():\n",
    "    num = 10 # 局部变量\n",
    "print(num) "
   ]
  },
  {
   "cell_type": "code",
   "execution_count": null,
   "metadata": {},
   "outputs": [],
   "source": [
    "# 函数内可访问全局变量\n",
    "num = 10 # 全局变量\n",
    "def foo():\n",
    "    print(num)  # 10\n",
    "    \n",
    "foo()"
   ]
  },
  {
   "cell_type": "code",
   "execution_count": null,
   "metadata": {},
   "outputs": [],
   "source": [
    "# 嵌套函数\n",
    "def print_msg():\n",
    "    # print_msg 是外围函数\n",
    "    msg = \"zen of python\"\n",
    "\n",
    "    def printer():\n",
    "        # printer是嵌套函数\n",
    "        print(msg)\n",
    "    printer()\n",
    "# 输出 zen of python\n",
    "print_msg()"
   ]
  },
  {
   "cell_type": "code",
   "execution_count": null,
   "metadata": {},
   "outputs": [],
   "source": [
    "# 闭包： 局部变量脱离函数作用范围，仍然可以被访问\n",
    "def print_msg():\n",
    "    # print_msg 是外围函数\n",
    "    msg = \"zen of python\"\n",
    "    def printer():\n",
    "        # printer 是嵌套函数\n",
    "        print(msg)\n",
    "    return printer\n",
    "\n",
    "another = print_msg()\n",
    "# 输出 zen of python\n",
    "another()"
   ]
  },
  {
   "cell_type": "markdown",
   "metadata": {},
   "source": [
    "**闭包避免了使用全局变量**，此外，**闭包允许将函数与其所操作的某些数据（环境）关连起来**。这一点与**面向对象**编程是非常类似的，在面对象编程中，对象允许我们将某些数据（对象的属性）与一个或者多个方法相关联。\n",
    "\n",
    "一般来说，**当对象中只有一个方法时，这时使用闭包是更好的选择**。\n",
    "\n",
    "返回函数不要引用任何循环变量，或者后续会发生变化的变量。"
   ]
  },
  {
   "cell_type": "code",
   "execution_count": null,
   "metadata": {},
   "outputs": [],
   "source": [
    "def log(func):\n",
    "    def wrapper(*args, **kw):\n",
    "        print('call %s():' % func.__name__)\n",
    "        return func(*args, **kw)\n",
    "    return wrapper\n",
    "\n",
    "@log  # 等同于 now = log(now()),装饰器\n",
    "def now():\n",
    "    print('2019-3-6')\n",
    "    \n",
    "now()"
   ]
  },
  {
   "cell_type": "code",
   "execution_count": null,
   "metadata": {},
   "outputs": [],
   "source": [
    "# 偏函数，functools.partial的作用就是，把一个函数的某些参数给固定住\n",
    "#（也就是设置默认值），返回一个新的函数，调用这个新函数会更简单。\n",
    "import functools\n",
    "int2 = functools.partial(int, base = 2)\n",
    "\n",
    "int2('1000000')"
   ]
  },
  {
   "cell_type": "markdown",
   "metadata": {},
   "source": [
    "一个.py文件就称之为一个模块（Module）\n",
    "\n",
    "举个例子，一个abc.py的文件就是一个名字叫abc的模块，一个xyz.py的文件就是一个名字叫xyz的模块。\n",
    "\n",
    "Python又引入了按目录来组织模块的方法，称为包（Package）\n",
    "\n",
    "mycompany\n",
    "├─ __init__.py\n",
    "├─ abc.py\n",
    "└─ xyz.py"
   ]
  },
  {
   "cell_type": "markdown",
   "metadata": {},
   "source": [
    "if __name__=='__main__':\n",
    "    test()\n",
    "    \n",
    "当我们在命令行运行hello模块文件时，Python解释器把一个特殊变量__name__置为__main__，而如果在其他地方导入该hello模块时，if判断将失败，因此，这种if测试可以让一个模块通过命令行运行时执行一些额外的代码，最常见的就是运行测试。\n",
    "\n",
    "\n",
    "类似__xxx__这样的变量是特殊变量，可以被直接引用，但是有特殊用途，比如上面的__author__，__name__就是特殊变量，hello模块定义的文档注释也可以用特殊变量__doc__访问，我们自己的变量一般不要用这种变量名；\n",
    "\n",
    "类似_xxx和__xxx这样的函数或变量就是非公开的（private），不应该被直接引用，比如_abc，__abc等；\n",
    "\n",
    "之所以我们说，private函数和变量“不应该”被直接引用，而不是“不能”被直接引用，是因为Python并没有一种方法可以完全限制访问private函数或变量，但是，从编程习惯上不应该引用private函数或变量。"
   ]
  },
  {
   "cell_type": "code",
   "execution_count": null,
   "metadata": {},
   "outputs": [],
   "source": [
    "def _private_1(name):\n",
    "    return 'Hello, %s' % name\n",
    "\n",
    "def _private_2(name):\n",
    "    return 'Hi, %s' % name\n",
    "\n",
    "def greeting(name):\n",
    "    if len(name) > 3:\n",
    "        return _private_1(name)\n",
    "    else:\n",
    "        return _private_2(name)"
   ]
  },
  {
   "cell_type": "markdown",
   "metadata": {},
   "source": [
    "我们在模块里公开greeting()函数，而把内部逻辑用private函数隐藏起来了，这样，调用greeting()函数不用关心内部的private函数细节，这也是一种非常有用的**代码封装和抽象**的方法，即：\n",
    "\n",
    "外部不需要引用的函数全部定义成private，只有外部需要引用的函数才定义为public。"
   ]
  },
  {
   "cell_type": "code",
   "execution_count": null,
   "metadata": {},
   "outputs": [],
   "source": [
    "# OOP\n",
    "class Student(object):\n",
    "    def __init__(self, name, score):\n",
    "        self.name = name\n",
    "        self.score = score\n",
    "        \n",
    "    def print_score(self):\n",
    "        print('%s: %s' %(self.name, self.score))"
   ]
  },
  {
   "cell_type": "markdown",
   "metadata": {},
   "source": [
    "Class是一种抽象概念，比如我们定义的Class——Student，是指学生这个概念，而实例（Instance）则是一个个具体的Student，比如，Bart Simpson和Lisa Simpson是两个具体的Student。\n",
    "\n",
    "面向对象的设计思想是抽象出Class，根据Class创建Instance。\n",
    "\n",
    "面向对象的抽象程度又比函数要高，因为一个Class既包含数据，又包含操作数据的方法。"
   ]
  },
  {
   "cell_type": "code",
   "execution_count": null,
   "metadata": {},
   "outputs": [],
   "source": [
    "# create a class\n",
    "class Student(object):\n",
    "    pass\n",
    "\n",
    "# create an instance\n",
    "bart = Student()\n",
    "\n",
    "\n",
    "class Student(object):\n",
    "\n",
    "    # 外部无法访问\n",
    "    def __init__(self, name, score):\n",
    "        self.__name = name\n",
    "        self.__score = score\n",
    "\n",
    "    def print_score(self):\n",
    "        print('%s: %s' % (self.__name, self.__score)\n",
    "    \n",
    "    # 从外部获取属性      \n",
    "    def get_name(self):\n",
    "        return self.__name\n",
    "\n",
    "    def get_score(self):\n",
    "        return self.__score\n",
    "              \n",
    "    # 修改属性值，参数检查\n",
    "    def set_score(self, score):\n",
    "        if 0 <= score <= 100:\n",
    "            self.__score = score\n",
    "        else:\n",
    "            raise ValueError('bad score')\n",
    "              \n"
   ]
  },
  {
   "cell_type": "markdown",
   "metadata": {},
   "source": [
    "如果要让内部属性不被外部访问，可以把属性的名称前加上两个下划线__，在Python中，实例的变量名如果以__开头，就变成了一个私有变量（private），只有内部可以访问，外部不能访问\n",
    "\n",
    "变量名类似__xxx__的，也就是以双下划线开头，并且以双下划线结尾的，是特殊变量，特殊变量是可以直接访问的，不是private变量，所以，不能用__name__、__score__这样的变量名\n",
    "\n",
    "有些时候，你会看到以一个下划线开头的实例变量名，比如_name，这样的实例变量外部是可以访问的，但是，按照约定俗成的规定，当你看到这样的变量时，意思就是，“虽然我可以被访问，但是，请把我视为私有变量，不要随意访问”。\n",
    "\n",
    "在继承关系中，如果一个实例的数据类型是某个子类，那它的数据类型也可以被看做是父类\n",
    "\n",
    "***\n",
    "\n",
    "\n",
    "我们来判断对象类型，使用type()函数\n",
    "\n",
    "能用type()判断的基本类型也可以用isinstance()判断\n",
    "\n",
    "如果要获得一个对象的所有属性和方法，可以使用dir()函数，它返回一个包含字符串的list，比如，获得一个str对象的所有属性和方法：\n",
    "dir('ABC')\n",
    "\n",
    "['__add__', '__class__',..., '__subclasshook__', 'capitalize', 'casefold',..., 'zfill']\n",
    "\n",
    "在Python这类动态语言中，根据鸭子类型，有read()方法，不代表该fp对象就是一个文件流，它也可能是网络流，  也可能是内存中的一个字节流，但只要read()方法返回的是有效的图像数据，就不影响读取图像的功能。"
   ]
  },
  {
   "cell_type": "markdown",
   "metadata": {},
   "source": [
    "`None`\n",
    "\n",
    "* [Python None Keyword](https://www.w3schools.com/python/ref_keyword_none.asp)\n",
    "> The None keyword is used to define a null value, or no value at all.\n",
    "> \n",
    "> None is not the same as **0**, **False**, or an **empty string**. None is a datatype of its own (NoneType) and only None can be None.\n",
    "\n",
    "* [What is a None value?](https://stackoverflow.com/questions/19473185/what-is-a-none-value)\n",
    "> None is just a **value** that commonly is used to signify 'empty', or 'no value here'. It is a signal object; it only has meaning because the Python documentation says it has that meaning.\n",
    "> \n",
    "> There is only one copy of that object in a given Python interpreter session.\n",
    "> \n",
    "> If you write a function, and that function doesn't use an explicit return statement, None is returned instead, for example. That way, programming with functions is much simplified; a function always returns something, even if it is only that one None object.\n",
    ">\n",
    "> You can test for it explicitly:\n",
    "\n",
    "```\n",
    "if foo is None:\n",
    "    # foo is set to None\n",
    "\n",
    "if bar is not None:\n",
    "    # bar is set to something *other* than None\n",
    "```\n",
    "> Another use is to give optional parameters to functions an 'empty' default:\n",
    "\n",
    "```\n",
    "def spam(foo=None):\n",
    "    if foo is not None:\n",
    "        # foo was specified, do something clever!\n",
    "```\n",
    "> The function spam() has a optional argument; if you call spam() without specifying it, the default value None is given to it, making it easy to detect if the function was called with an argument or not.\n",
    "> \n",
    "> Other languages have similar concepts. SQL has NULL; JavaScript has undefined and null, etc.\n",
    "> \n",
    "> Note that in Python, variables exist by virtue of being used. You don't need to declare a variable first, so there are no really empty variables in Python. Setting a variable to None is then not the same thing as setting it to a default empty value; None is a value too, albeit one that is often used to signal emptyness. "
   ]
  },
  {
   "cell_type": "markdown",
   "metadata": {},
   "source": [
    "`if not`\n",
    "\n",
    "None,False,0,空列表[],空字典{},空元祖(),6种情况都相当于false"
   ]
  },
  {
   "cell_type": "code",
   "execution_count": 2,
   "metadata": {},
   "outputs": [
    {
     "data": {
      "text/plain": [
       "int"
      ]
     },
     "execution_count": 2,
     "metadata": {},
     "output_type": "execute_result"
    }
   ],
   "source": [
    "import math\n",
    "type(math.floor(3.1))\n",
    "type(math.ceil(3.1))"
   ]
  },
  {
   "cell_type": "markdown",
   "metadata": {},
   "source": [
    "- [How Recursion Works — explained with flowcharts and a video](https://medium.freecodecamp.org/how-recursion-works-explained-with-flowcharts-and-a-video-de61f40cb7f9)\n",
    "- [Demystifying Python Recursion](https://code.tutsplus.com/tutorials/demystifying-python-recursion--cms-30418)\n",
    "- [Thinking Recursively in Python](https://realpython.com/python-thinking-recursively/)\n",
    "\n",
    "> Recursive functions use something called “the call stack.” When a program calls a function, that function goes on top of the call stack. This similar to a stack of books. You add things one at a time. Then, when you are ready to take something off, you always take off the top item.\n",
    ">\n",
    "> Recursion takes a lot of stack space, hence making it a bit slow to maintain the program.\n",
    ">\n",
    "> Recursion functions require more space and time to execute."
   ]
  },
  {
   "cell_type": "code",
   "execution_count": 1,
   "metadata": {},
   "outputs": [
    {
     "name": "stdout",
     "output_type": "stream",
     "text": [
      "5\n",
      "4\n",
      "3\n",
      "2\n",
      "1\n"
     ]
    }
   ],
   "source": [
    "def count(i):\n",
    "    print(i)\n",
    "    if i <= 1:\n",
    "        return\n",
    "    else:\n",
    "        return count(i - 1)\n",
    "        # count(i - 1)\n",
    "\n",
    "\n",
    "count(5)"
   ]
  }
 ],
 "metadata": {
  "kernelspec": {
   "display_name": "Python 3",
   "language": "python",
   "name": "python3"
  },
  "language_info": {
   "codemirror_mode": {
    "name": "ipython",
    "version": 3
   },
   "file_extension": ".py",
   "mimetype": "text/x-python",
   "name": "python",
   "nbconvert_exporter": "python",
   "pygments_lexer": "ipython3",
   "version": "3.6.4"
  }
 },
 "nbformat": 4,
 "nbformat_minor": 2
}
