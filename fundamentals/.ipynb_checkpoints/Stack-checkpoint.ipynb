{
 "cells": [
  {
   "cell_type": "code",
   "execution_count": 1,
   "metadata": {},
   "outputs": [
    {
     "name": "stdout",
     "output_type": "stream",
     "text": [
      "Tue\n",
      "Thu\n",
      "\n",
      "pop data:\n",
      "Thu\n",
      "Wed\n",
      "Tue\n",
      "Mon\n",
      "No element in the stack!\n"
     ]
    }
   ],
   "source": [
    "# implement stack using python3\n",
    "# push and pop method\n",
    "# FILO\n",
    "\n",
    "class Stack:\n",
    "    def __init__(self):\n",
    "        self.stack = []\n",
    "\n",
    "    def add(self, dataval):\n",
    "        # Use list append method to add element\n",
    "        if dataval not in self.stack:\n",
    "            self.stack.append(dataval)\n",
    "            return True\n",
    "        else:\n",
    "            return False\n",
    "\n",
    "    # look up the top of the stack\n",
    "    def peek(self):\n",
    "        return self.stack[-1]\n",
    "\n",
    "    def remove(self):\n",
    "        if not self.stack:\n",
    "            return \"No element in the stack!\"\n",
    "        else:\n",
    "            return self.stack.pop()\n",
    "\n",
    "\n",
    "# test\n",
    "AStack = Stack()\n",
    "\n",
    "AStack.add(\"Mon\")\n",
    "AStack.add(\"Tue\")\n",
    "\n",
    "AStack.peek()\n",
    "print(AStack.peek())\n",
    "\n",
    "AStack.add(\"Wed\")\n",
    "AStack.add(\"Thu\")\n",
    "\n",
    "print(AStack.peek())\n",
    "\n",
    "print(\"\\npop data:\")\n",
    "print(AStack.remove())\n",
    "print(AStack.remove())\n",
    "print(AStack.remove())\n",
    "print(AStack.remove())\n",
    "print(AStack.remove())"
   ]
  }
 ],
 "metadata": {
  "kernelspec": {
   "display_name": "Python 3",
   "language": "python",
   "name": "python3"
  },
  "language_info": {
   "codemirror_mode": {
    "name": "ipython",
    "version": 3
   },
   "file_extension": ".py",
   "mimetype": "text/x-python",
   "name": "python",
   "nbconvert_exporter": "python",
   "pygments_lexer": "ipython3",
   "version": "3.6.4"
  }
 },
 "nbformat": 4,
 "nbformat_minor": 2
}
