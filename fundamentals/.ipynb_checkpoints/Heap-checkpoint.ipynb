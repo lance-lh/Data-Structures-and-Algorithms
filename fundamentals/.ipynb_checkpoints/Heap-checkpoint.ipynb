{
 "cells": [
  {
   "cell_type": "markdown",
   "metadata": {},
   "source": [
    "Heap is a special **tree structure** in which **each parent node is less than or equal to its child node**. Then it is called a **Min Heap**. If each parent node is greater than or equal to its child node then it is called a **max heap**. It is very useful in implementing **priority queues** where the queue item with higher weightage is given more priority in processing. \n",
    "\n",
    "***\n",
    "\n",
    "### Create a Heap\n",
    "A heap is created by using python’s inbuilt library named `heapq`. This library has the relevant functions to carry out various operations on heap data structure. Below is a list of these functions.\n",
    "\n",
    "- `heapify` - This function converts a regular list to a heap. In the resulting heap the smallest element gets pushed to the index position 0. But rest of the data elements are not necessarily sorted.将列表转化为heap，并且第一个元素是最小的，后面heap中元素则是乱序的\n",
    "- `heappush` – This function adds an element to the heap without altering the current heap.将元素添加到heap尾部\n",
    "- `heappop` - This function returns the smallest data element from the heap.弹出heap中的第一个也就是最小元素\n",
    "- `heapreplace` – This function replaces the smallest data element with a new value supplied in the function.替换最小元素为新元素"
   ]
  },
  {
   "cell_type": "code",
   "execution_count": 1,
   "metadata": {},
   "outputs": [
    {
     "name": "stdout",
     "output_type": "stream",
     "text": [
      "[1, 3, 5, 78, 21, 45]\n"
     ]
    }
   ],
   "source": [
    "# convert list to heap\n",
    "\n",
    "import heapq\n",
    "\n",
    "H = [21,1,45,78,3,5]\n",
    "# Use heapify to rearrange the elements\n",
    "heapq.heapify(H)\n",
    "print(H)"
   ]
  },
  {
   "cell_type": "code",
   "execution_count": 2,
   "metadata": {},
   "outputs": [
    {
     "name": "stdout",
     "output_type": "stream",
     "text": [
      "[1, 3, 5, 78, 21, 45]\n",
      "[1, 3, 5, 78, 21, 45, 8]\n"
     ]
    }
   ],
   "source": [
    "# push element to the end of heap\n",
    "\n",
    "import heapq\n",
    "\n",
    "H = [21,1,45,78,3,5]\n",
    "# Covert to a heap\n",
    "heapq.heapify(H)\n",
    "print(H)\n",
    "# Add element\n",
    "heapq.heappush(H,8)\n",
    "print(H)"
   ]
  },
  {
   "cell_type": "code",
   "execution_count": 3,
   "metadata": {},
   "outputs": [
    {
     "name": "stdout",
     "output_type": "stream",
     "text": [
      "[1, 3, 5, 78, 21, 45]\n",
      "[3, 21, 5, 78, 45]\n"
     ]
    }
   ],
   "source": [
    "# pop\n",
    "\n",
    "import heapq\n",
    "\n",
    "H = [21,1,45,78,3,5]\n",
    "# Create the heap\n",
    "\n",
    "heapq.heapify(H)\n",
    "print(H)\n",
    "\n",
    "# Remove element from the heap\n",
    "heapq.heappop(H)\n",
    "\n",
    "print(H)"
   ]
  },
  {
   "cell_type": "code",
   "execution_count": 4,
   "metadata": {},
   "outputs": [
    {
     "name": "stdout",
     "output_type": "stream",
     "text": [
      "[1, 3, 5, 78, 21, 45]\n",
      "[3, 6, 5, 78, 21, 45]\n"
     ]
    }
   ],
   "source": [
    "# replace\n",
    "# The heapreplace function always removes the smallest element \n",
    "# of the heap and inserts the new incoming element \n",
    "# at some place not fixed by any order.\n",
    "\n",
    "import heapq\n",
    "\n",
    "H = [21,1,45,78,3,5]\n",
    "# Create the heap\n",
    "\n",
    "heapq.heapify(H)\n",
    "print(H)\n",
    "\n",
    "# Replace an element\n",
    "heapq.heapreplace(H,6)\n",
    "print(H)\n"
   ]
  }
 ],
 "metadata": {
  "kernelspec": {
   "display_name": "Python 3",
   "language": "python",
   "name": "python3"
  },
  "language_info": {
   "codemirror_mode": {
    "name": "ipython",
    "version": 3
   },
   "file_extension": ".py",
   "mimetype": "text/x-python",
   "name": "python",
   "nbconvert_exporter": "python",
   "pygments_lexer": "ipython3",
   "version": "3.6.4"
  }
 },
 "nbformat": 4,
 "nbformat_minor": 2
}
