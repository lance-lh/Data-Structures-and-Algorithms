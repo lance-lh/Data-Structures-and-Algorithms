{
 "cells": [
  {
   "cell_type": "code",
   "execution_count": 1,
   "metadata": {},
   "outputs": [
    {
     "name": "stdout",
     "output_type": "stream",
     "text": [
      "\n",
      "push data:\n",
      "['Thu', 'Wed', 'Tue', 'Mon']\n",
      "\n",
      "pop data:\n",
      "Mon\n",
      "Tue\n",
      "Wed\n",
      "Thu\n",
      "No element in the queue!\n"
     ]
    }
   ],
   "source": [
    "# implement queue using python3\n",
    "# push and pop method\n",
    "# FIFO\n",
    "\n",
    "class Queue:\n",
    "    def __init__(self):\n",
    "        self.queue = []\n",
    "\n",
    "    def add(self, val):\n",
    "        # Use list insert method to add element, head insert\n",
    "        if val not in self.queue:\n",
    "            self.queue.insert(0, val)\n",
    "            return True\n",
    "        else:\n",
    "            return False\n",
    "\n",
    "    def remove(self):\n",
    "        if not self.queue:\n",
    "            return \"No element in the queue!\"\n",
    "        else:\n",
    "            return self.queue.pop()\n",
    "\n",
    "\n",
    "# test\n",
    "AQueue = Queue()\n",
    "\n",
    "AQueue.add(\"Mon\")\n",
    "AQueue.add(\"Tue\")\n",
    "AQueue.add(\"Wed\")\n",
    "AQueue.add(\"Thu\")\n",
    "\n",
    "print(\"\\npush data:\")\n",
    "print(AQueue.queue)\n",
    "\n",
    "print(\"\\npop data:\")\n",
    "print(AQueue.remove())\n",
    "print(AQueue.remove())\n",
    "print(AQueue.remove())\n",
    "print(AQueue.remove())\n",
    "print(AQueue.remove())"
   ]
  }
 ],
 "metadata": {
  "kernelspec": {
   "display_name": "Python 3",
   "language": "python",
   "name": "python3"
  },
  "language_info": {
   "codemirror_mode": {
    "name": "ipython",
    "version": 3
   },
   "file_extension": ".py",
   "mimetype": "text/x-python",
   "name": "python",
   "nbconvert_exporter": "python",
   "pygments_lexer": "ipython3",
   "version": "3.6.4"
  }
 },
 "nbformat": 4,
 "nbformat_minor": 2
}
