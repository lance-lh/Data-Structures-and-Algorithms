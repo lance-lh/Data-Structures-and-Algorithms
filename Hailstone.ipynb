{
 "cells": [
  {
   "cell_type": "code",
   "execution_count": 1,
   "metadata": {},
   "outputs": [],
   "source": [
    "#coding:utf-8\n",
    "\n",
    "'冰雹序列'\n",
    "\n",
    "class Hailstone():\n",
    "\n",
    "    def __init__(self, num):\n",
    "        self.num = num\n",
    "\n",
    "    def get_hailstone_length(self):\n",
    "        # initial len equals to 1, since the last element of list is 1\n",
    "        len = 1\n",
    "        while(self.num > 1):\n",
    "            if self.num % 2:\n",
    "                self.num = 3*self.num + 1\n",
    "                len += 1\n",
    "            else:\n",
    "                self.num = self.num // 2  # 整数除法\n",
    "                len += 1\n",
    "        return len\n",
    "\n",
    "    def show_hailstone(self):\n",
    "        hail_list = []\n",
    "        while (self.num > 1):\n",
    "            hail_list.append(self.num)\n",
    "            if self.num % 2:\n",
    "                self.num = 3 * self.num + 1\n",
    "            else:\n",
    "                self.num = self.num // 2\n",
    "        else:\n",
    "            hail_list.append(1)\n",
    "        return hail_list"
   ]
  },
  {
   "cell_type": "code",
   "execution_count": 2,
   "metadata": {},
   "outputs": [
    {
     "name": "stdout",
     "output_type": "stream",
     "text": [
      "[42, 21, 64, 32, 16, 8, 4, 2, 1]\n",
      "9\n"
     ]
    }
   ],
   "source": [
    "# test\n",
    "h1 = Hailstone(42)\n",
    "h2 = Hailstone(42)\n",
    "print(h1.show_hailstone())\n",
    "print(h2.get_hailstone_length())"
   ]
  }
 ],
 "metadata": {
  "kernelspec": {
   "display_name": "Python 3",
   "language": "python",
   "name": "python3"
  },
  "language_info": {
   "codemirror_mode": {
    "name": "ipython",
    "version": 3
   },
   "file_extension": ".py",
   "mimetype": "text/x-python",
   "name": "python",
   "nbconvert_exporter": "python",
   "pygments_lexer": "ipython3",
   "version": "3.7.0"
  }
 },
 "nbformat": 4,
 "nbformat_minor": 2
}
