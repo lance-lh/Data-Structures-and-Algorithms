{
 "cells": [
  {
   "cell_type": "markdown",
   "metadata": {},
   "source": [
    "Given a string containing just the characters `'('`, `')'`, `'{'`, `'}'`, `'['` and `']'`, determine if the input string is valid.\n",
    "\n",
    "An input string is valid if:\n",
    "\n",
    "1. Open brackets must be closed by the same type of brackets.\n",
    "2. Open brackets must be closed in the correct order.\n",
    "\n",
    "Note that an empty string is also considered valid.\n",
    "\n",
    "Example 1:\n",
    "\n",
    "    Input: \"()\"\n",
    "    Output: true\n",
    "Example 2:\n",
    "\n",
    "    Input: \"()[]{}\"\n",
    "    Output: true\n",
    "Example 3:\n",
    "\n",
    "    Input: \"(]\"\n",
    "    Output: false\n",
    "Example 4:\n",
    "\n",
    "    Input: \"([)]\"\n",
    "    Output: false\n",
    "Example 5:\n",
    "\n",
    "    Input: \"{[]}\"\n",
    "    Output: true"
   ]
  },
  {
   "cell_type": "code",
   "execution_count": 1,
   "metadata": {},
   "outputs": [
    {
     "data": {
      "text/plain": [
       "True"
      ]
     },
     "execution_count": 1,
     "metadata": {},
     "output_type": "execute_result"
    }
   ],
   "source": [
    "class Solution(object):\n",
    "    def isValid(self, s):\n",
    "        \"\"\"\n",
    "        :type s: str\n",
    "        :rtype: bool\n",
    "        \"\"\"\n",
    "        if not s:\n",
    "            return True\n",
    "        stack = []\n",
    "        \n",
    "        d = {'(': ')','[': ']', '{': '}'}\n",
    "        \n",
    "        for ch in s:\n",
    "            # only push left parentheses into the stack\n",
    "            # then check the stack,there are two False cases:\n",
    "            # first, only right patrentheses exists but the stack is empty\n",
    "            # second, element in the top of stack not equals to any ch\n",
    "            if ch in d:\n",
    "                stack.append(ch)\n",
    "            elif len(stack) == 0 or d[stack.pop()] != ch:\n",
    "                return False\n",
    "        return len(stack) == 0 \n",
    "    \n",
    "# test\n",
    "s = \"{[]}\"\n",
    "Solution().isValid(s)"
   ]
  }
 ],
 "metadata": {
  "kernelspec": {
   "display_name": "Python 3",
   "language": "python",
   "name": "python3"
  },
  "language_info": {
   "codemirror_mode": {
    "name": "ipython",
    "version": 3
   },
   "file_extension": ".py",
   "mimetype": "text/x-python",
   "name": "python",
   "nbconvert_exporter": "python",
   "pygments_lexer": "ipython3",
   "version": "3.6.4"
  }
 },
 "nbformat": 4,
 "nbformat_minor": 2
}
