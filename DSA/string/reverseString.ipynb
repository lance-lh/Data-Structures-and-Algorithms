{
 "cells": [
  {
   "cell_type": "markdown",
   "metadata": {},
   "source": [
    "Write a function that reverses a string. The input string is given as an array of characters char[].\n",
    "\n",
    "Do not allocate extra space for another array, you must do this by modifying the input array in-place with O(1) extra memory.\n",
    "\n",
    "You may assume all the characters consist of printable ascii characters.\n",
    "\n",
    " \n",
    "\n",
    "Example 1:\n",
    "\n",
    "    Input: [\"h\",\"e\",\"l\",\"l\",\"o\"]\n",
    "    Output: [\"o\",\"l\",\"l\",\"e\",\"h\"]\n",
    "Example 2:\n",
    "\n",
    "    Input: [\"H\",\"a\",\"n\",\"n\",\"a\",\"h\"]\n",
    "    Output: [\"h\",\"a\",\"n\",\"n\",\"a\",\"H\"]"
   ]
  },
  {
   "cell_type": "code",
   "execution_count": 1,
   "metadata": {},
   "outputs": [
    {
     "data": {
      "text/plain": [
       "['o', 'l', 'l', 'e', 'h']"
      ]
     },
     "execution_count": 1,
     "metadata": {},
     "output_type": "execute_result"
    }
   ],
   "source": [
    "class Solution:\n",
    "    def reverseString(self, s):\n",
    "        '''\n",
    "        s: List[str]\n",
    "        rtype:None\n",
    "        '''\n",
    "        \n",
    "        \"\"\"\n",
    "        Do not return anything, modify s in-place instead.\n",
    "        \"\"\"\n",
    "        i, j = 0, len(s)-1\n",
    "        while i <= j:\n",
    "            s[i],s[j] = s[j],s[i]\n",
    "            i += 1\n",
    "            j -= 1\n",
    "        return s\n",
    "            \n",
    "# test\n",
    "s = [\"h\",\"e\",\"l\",\"l\",\"o\"]\n",
    "Solution().reverseString(s)"
   ]
  }
 ],
 "metadata": {
  "kernelspec": {
   "display_name": "Python 3",
   "language": "python",
   "name": "python3"
  },
  "language_info": {
   "codemirror_mode": {
    "name": "ipython",
    "version": 3
   },
   "file_extension": ".py",
   "mimetype": "text/x-python",
   "name": "python",
   "nbconvert_exporter": "python",
   "pygments_lexer": "ipython3",
   "version": "3.6.4"
  }
 },
 "nbformat": 4,
 "nbformat_minor": 2
}
