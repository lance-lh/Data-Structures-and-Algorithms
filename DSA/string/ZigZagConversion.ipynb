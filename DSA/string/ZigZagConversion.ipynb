{
 "cells": [
  {
   "cell_type": "markdown",
   "metadata": {},
   "source": [
    "The string \"PAYPALISHIRING\" is written in a zigzag pattern on a given number of rows like this: (you may want to display this pattern in a fixed font for better legibility)\n",
    "\n",
    "    P   A   H   N\n",
    "    A P L S I I G\n",
    "    Y   I   R\n",
    "\n",
    "And then read line by line: \"PAHNAPLSIIGYIR\"\n",
    "\n",
    "Write the code that will take a string and make this conversion given a number of rows:\n",
    "\n",
    "`string convert(string s, int numRows);`\n",
    "\n",
    "Example 1:\n",
    "\n",
    "    Input: s = \"PAYPALISHIRING\", numRows = 3\n",
    "    Output: \"PAHNAPLSIIGYIR\"\n",
    "Example 2:\n",
    "\n",
    "    Input: s = \"PAYPALISHIRING\", numRows = 4\n",
    "    Output: \"PINALSIGYAHRPI\"\n",
    "    Explanation:\n",
    "\n",
    "    P     I    N\n",
    "    A   L S  I G\n",
    "    Y A   H R\n",
    "    P     I"
   ]
  },
  {
   "cell_type": "code",
   "execution_count": 1,
   "metadata": {},
   "outputs": [
    {
     "name": "stdout",
     "output_type": "stream",
     "text": [
      "PINALSIGYAHRPI\n"
     ]
    }
   ],
   "source": [
    "def convert(s, numRows):\n",
    "    '''\n",
    "    :param s:str\n",
    "    :param numRows: int\n",
    "    :return: str\n",
    "    '''\n",
    "    # Corner Case\n",
    "    if numRows == 1 or numRows >= len(s):\n",
    "        return s\n",
    "\n",
    "    # Create an array of strings for all n rows\n",
    "    arr = [\"\" for x in range(numRows)]\n",
    "\n",
    "    # Initialize index for array of strings arr[]\n",
    "    row = 0\n",
    "\n",
    "    # Travers through given string\n",
    "    for i in range(len(s)):\n",
    "\n",
    "        # append current character to current row\n",
    "        arr[row] += s[i]\n",
    "\n",
    "        # If last row is reached, change direction to 'up'\n",
    "        if row == numRows - 1:\n",
    "            down = False\n",
    "\n",
    "        # If 1st row is reached, change direction to 'down'\n",
    "        elif row == 0:\n",
    "            down = True\n",
    "\n",
    "        # If direction is down, increment, else decrement\n",
    "        if down:\n",
    "            row += 1\n",
    "        else:\n",
    "            row -= 1\n",
    "\n",
    "    return ''.join(arr)\n",
    "\n",
    "# test\n",
    "s = \"PAYPALISHIRING\"\n",
    "numRows = 4\n",
    "print(convert(s, numRows))"
   ]
  }
 ],
 "metadata": {
  "kernelspec": {
   "display_name": "Python 3",
   "language": "python",
   "name": "python3"
  },
  "language_info": {
   "codemirror_mode": {
    "name": "ipython",
    "version": 3
   },
   "file_extension": ".py",
   "mimetype": "text/x-python",
   "name": "python",
   "nbconvert_exporter": "python",
   "pygments_lexer": "ipython3",
   "version": "3.6.4"
  }
 },
 "nbformat": 4,
 "nbformat_minor": 2
}
