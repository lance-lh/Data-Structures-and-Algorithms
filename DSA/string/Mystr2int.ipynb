{
 "cells": [
  {
   "cell_type": "markdown",
   "metadata": {},
   "source": [
    "Implement `atoi` which converts a string to an integer.\n",
    "\n",
    "The function first discards as many whitespace characters as necessary until the first non-whitespace character is found. Then, starting from this character, takes an optional initial plus or minus sign followed by as many numerical digits as possible, and interprets them as a numerical value.\n",
    "\n",
    "The string can contain additional characters after those that form the integral number, which are ignored and have no effect on the behavior of this function.\n",
    "\n",
    "If the first sequence of non-whitespace characters in str is not a valid integral number, or if no such sequence exists because either str is empty or it contains only whitespace characters, no conversion is performed.\n",
    "\n",
    "If no valid conversion could be performed, a zero value is returned.\n",
    "\n",
    "Note:\n",
    "\n",
    "Only the space character `' '` is considered as whitespace character.\n",
    "Assume we are dealing with an environment which could only store integers within the 32-bit signed integer range: [−231,  231 − 1]. If the numerical value is out of the range of representable values, INT_MAX (231 − 1) or INT_MIN (−231) is returned.\n",
    "\n",
    "Example 1:\n",
    "\n",
    "    Input: \"42\"\n",
    "    Output: 42\n",
    "Example 2:\n",
    "\n",
    "    Input: \"   -42\"\n",
    "    Output: -42\n",
    "    Explanation: The first non-whitespace character is '-', which is the minus sign.\n",
    "                 Then take as many numerical digits as possible, which gets 42.\n",
    "Example 3:\n",
    "\n",
    "    Input: \"4193 with words\"\n",
    "    Output: 4193\n",
    "    Explanation: Conversion stops at digit '3' as the next character is not a numerical digit.\n",
    "Example 4:\n",
    "\n",
    "    Input: \"words and 987\"\n",
    "    Output: 0\n",
    "    Explanation: The first non-whitespace character is 'w', which is not a numerical \n",
    "                 digit or a +/- sign. Therefore no valid conversion could be performed.\n",
    "Example 5:\n",
    "\n",
    "    Input: \"-91283472332\"\n",
    "    Output: -2147483648\n",
    "    Explanation: The number \"-91283472332\" is out of the range of a 32-bit signed integer.\n",
    "                 Thefore INT_MIN (−231) is returned.\n"
   ]
  },
  {
   "cell_type": "code",
   "execution_count": 1,
   "metadata": {},
   "outputs": [
    {
     "name": "stdout",
     "output_type": "stream",
     "text": [
      "0\n"
     ]
    }
   ],
   "source": [
    "class Solution:\n",
    "    def myAtoi(self, s: str) -> int:\n",
    "        \"\"\"\n",
    "        :type str: str\n",
    "        :rtype: int\n",
    "        \"\"\"\n",
    "\n",
    "        if len(s) == 0:\n",
    "            return 0\n",
    "\n",
    "        lst = list(s.strip())\n",
    "\n",
    "        if len(lst) == 0:\n",
    "            return 0\n",
    "\n",
    "        sign = -1 if lst[0] == '-' else 1\n",
    "\n",
    "        if lst[0] in ['-','+']:\n",
    "            del lst[0]\n",
    "\n",
    "        res = 0\n",
    "        i = 0\n",
    "        while i < len(lst) and lst[i].isdigit():\n",
    "            res = res * 10 + ord(lst[i]) - ord('0')\n",
    "            i += 1\n",
    "        # if sign == -1, return sign * res\n",
    "        # if sign == 1, return sign * res\n",
    "        return max(-2**31,min(sign * res, 2**31-1))\n",
    "\n",
    "# test\n",
    "# sin = \"   -42\"\n",
    "sin = \" \"\n",
    "print(Solution().myAtoi(sin))"
   ]
  }
 ],
 "metadata": {
  "kernelspec": {
   "display_name": "Python 3",
   "language": "python",
   "name": "python3"
  },
  "language_info": {
   "codemirror_mode": {
    "name": "ipython",
    "version": 3
   },
   "file_extension": ".py",
   "mimetype": "text/x-python",
   "name": "python",
   "nbconvert_exporter": "python",
   "pygments_lexer": "ipython3",
   "version": "3.6.4"
  }
 },
 "nbformat": 4,
 "nbformat_minor": 2
}
