{
 "cells": [
  {
   "cell_type": "markdown",
   "metadata": {},
   "source": [
    "Given a string, find the length of the longest substring without repeating characters.\n",
    "\n",
    "Example 1:\n",
    "\n",
    "    Input: \"abcabcbb\"\n",
    "    Output: 3 \n",
    "    Explanation: The answer is \"abc\", with the length of 3. \n",
    "Example 2:\n",
    "\n",
    "    Input: \"bbbbb\"\n",
    "    Output: 1\n",
    "    Explanation: The answer is \"b\", with the length of 1.\n",
    "Example 3:\n",
    "\n",
    "    Input: \"pwwkew\"\n",
    "    Output: 3\n",
    "    Explanation: The answer is \"wke\", with the length of 3. \n",
    "                 Note that the answer must be a substring, \"pwke\" is a subsequence and not a substring."
   ]
  },
  {
   "cell_type": "code",
   "execution_count": 1,
   "metadata": {},
   "outputs": [
    {
     "name": "stdout",
     "output_type": "stream",
     "text": [
      "3\n"
     ]
    }
   ],
   "source": [
    "def lengthOfLongestSubstring(s):\n",
    "    '''\n",
    "    :param s: str\n",
    "    :return: int\n",
    "    '''\n",
    "    d, res, start = {}, 0, 0\n",
    "    # i is index, it points to the current character\n",
    "    # ch is character in the string\n",
    "\n",
    "    # res to indicate max length of longest substring\n",
    "    # when ch does not change, res adds 1 because of fixed start\n",
    "    # when ch is repeated, res holds its previous value because of difference of its function\n",
    "\n",
    "    # start like a flag, when the character is not in the dict, it holds the value\n",
    "    # when the character changes, it find the pos of that repeated character\n",
    "    # and move start to (pos + 1) location\n",
    "\n",
    "    # (i - start + 1) to indicate res\n",
    "    for i, ch in enumerate(s):\n",
    "        # ch as d's key\n",
    "        if ch in d:\n",
    "            start = max(start, d[ch]+1)\n",
    "            # If this last recorded ch occurred after start,\n",
    "            # the above line of code starts the sub-string right after the last occurrence of ch,\n",
    "            # eliminating the duplicate.\n",
    "\n",
    "            # If the last recorded ch occurred before the start,\n",
    "            # then this new ch that we see is actually unique in the sub-string s[start : i]\n",
    "            # (inclusive on both sides), and start remains.\n",
    "        res = max(res, i-start+1)\n",
    "        d[ch] = i\n",
    "    return res\n",
    "\n",
    "# test\n",
    "s = \"abcabcbb\"\n",
    "print(lengthOfLongestSubstring(s))"
   ]
  }
 ],
 "metadata": {
  "kernelspec": {
   "display_name": "Python 3",
   "language": "python",
   "name": "python3"
  },
  "language_info": {
   "codemirror_mode": {
    "name": "ipython",
    "version": 3
   },
   "file_extension": ".py",
   "mimetype": "text/x-python",
   "name": "python",
   "nbconvert_exporter": "python",
   "pygments_lexer": "ipython3",
   "version": "3.6.4"
  }
 },
 "nbformat": 4,
 "nbformat_minor": 2
}
