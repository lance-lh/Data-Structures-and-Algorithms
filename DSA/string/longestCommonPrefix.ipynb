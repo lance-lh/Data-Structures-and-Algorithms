{
 "cells": [
  {
   "cell_type": "markdown",
   "metadata": {},
   "source": [
    "Write a function to find the longest common prefix string amongst an array of strings.\n",
    "\n",
    "If there is no common prefix, return an empty string `\"\"`.\n",
    "\n",
    "Example 1:\n",
    "\n",
    "    Input: [\"flower\",\"flow\",\"flight\"]\n",
    "    Output: \"fl\"\n",
    "Example 2:\n",
    "\n",
    "    Input: [\"dog\",\"racecar\",\"car\"]\n",
    "    Output: \"\"\n",
    "    Explanation: There is no common prefix among the input strings.\n",
    "Note:\n",
    "\n",
    "    All given inputs are in lowercase letters a-z."
   ]
  },
  {
   "cell_type": "code",
   "execution_count": 1,
   "metadata": {},
   "outputs": [
    {
     "name": "stdout",
     "output_type": "stream",
     "text": [
      "5\n",
      "0\n",
      "14\n"
     ]
    }
   ],
   "source": [
    "#coding:utf-8\n",
    "# 可变参数\n",
    "# *args是可变参数，args接收的是一个tuple；\n",
    "# 可变参数既可以直接传入：func(1, 2, 3)，又可以先组装list或tuple，再通过args传入：func((1, 2, 3))；\n",
    "\n",
    "\n",
    "def calc(*numbers):\n",
    "    sum = 0\n",
    "    for n in numbers:\n",
    "        sum = sum + n * n\n",
    "    return sum\n",
    "\n",
    "print(calc(1,2))\n",
    "print(calc())\n",
    "nums = [1, 2, 3]\n",
    "print(calc(*nums))"
   ]
  },
  {
   "cell_type": "code",
   "execution_count": 2,
   "metadata": {},
   "outputs": [
    {
     "data": {
      "text/plain": [
       "[('f', 'f', 'f'), ('l', 'l', 'l'), ('o', 'o', 'i'), ('w', 'w', 'g')]"
      ]
     },
     "execution_count": 2,
     "metadata": {},
     "output_type": "execute_result"
    }
   ],
   "source": [
    "# example\n",
    "a=[\"flower\",\"flow\",\"flight\"]\n",
    "list(zip(*a))"
   ]
  },
  {
   "cell_type": "code",
   "execution_count": 3,
   "metadata": {},
   "outputs": [
    {
     "data": {
      "text/plain": [
       "'fl'"
      ]
     },
     "execution_count": 3,
     "metadata": {},
     "output_type": "execute_result"
    }
   ],
   "source": [
    "class Solution:\n",
    "    def longestCommonPrefix(self, strs):\n",
    "        '''\n",
    "        strs: list[str]\n",
    "        return: str\n",
    "        '''\n",
    "        res = \"\"\n",
    "        ch = zip(*strs)\n",
    "        \n",
    "        for c in ch:\n",
    "            if len(set(c)) > 1:\n",
    "                break\n",
    "            res += c[0]\n",
    "        \n",
    "        return res\n",
    "    \n",
    "# test\n",
    "strs = [\"flower\",\"flow\",\"flight\"]\n",
    "Solution().longestCommonPrefix(strs)"
   ]
  }
 ],
 "metadata": {
  "kernelspec": {
   "display_name": "Python 3",
   "language": "python",
   "name": "python3"
  },
  "language_info": {
   "codemirror_mode": {
    "name": "ipython",
    "version": 3
   },
   "file_extension": ".py",
   "mimetype": "text/x-python",
   "name": "python",
   "nbconvert_exporter": "python",
   "pygments_lexer": "ipython3",
   "version": "3.6.4"
  }
 },
 "nbformat": 4,
 "nbformat_minor": 2
}
