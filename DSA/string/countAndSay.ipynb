{
 "cells": [
  {
   "cell_type": "markdown",
   "metadata": {},
   "source": [
    "The count-and-say sequence is the sequence of integers with the first five terms as following:\n",
    "\n",
    "    1.     1\n",
    "    2.     11\n",
    "    3.     21\n",
    "    4.     1211\n",
    "    5.     111221\n",
    "1 is read off as \"one 1\" or 11.\n",
    "\n",
    "11 is read off as \"two 1s\" or 21.\n",
    "\n",
    "21 is read off as \"one 2, then one 1\" or 1211.\n",
    "\n",
    "Given an integer n where `1 ≤ n ≤ 30`, generate the nth term of the count-and-say sequence.\n",
    "\n",
    "Note: Each term of the sequence of integers will be represented as a string.\n",
    "\n",
    " \n",
    "\n",
    "Example 1:\n",
    "\n",
    "    Input: 1\n",
    "    Output: \"1\"\n",
    "Example 2:\n",
    "\n",
    "    Input: 4\n",
    "    Output: \"1211\""
   ]
  },
  {
   "cell_type": "markdown",
   "metadata": {},
   "source": [
    "[理解题意](https://leetcode.windliang.cc/leetCode-38-Count-and-Say.html)\n",
    "\n",
    "> 难在了题目是什么意思呢？\n",
    ">\n",
    "> 初始值第一行是 1。\n",
    ">\n",
    "> 第二行读第一行，1 个 1，去掉个字，所以第二行就是 11。\n",
    ">\n",
    "> 第三行读第二行，2 个 1，去掉个字，所以第三行就是 21。\n",
    ">\n",
    "> 第四行读第三行，1 个 2，1 个 1，去掉所有个字，所以第四行就是 1211。\n",
    ">\n",
    "> 第五行读第四行，1 个 1，1 个 2，2 个 1，去掉所有个字，所以第五行就是 111221。\n",
    ">\n",
    "> 第六行读第五行，3 个 1，2 个 2，1 个 1，去掉所以个字，所以第六行就是 312211。\n",
    ">\n",
    "> 然后题目要求输入 1 - 30 的任意行数，输出该行是啥。\n",
    "\n",
    "\n",
    " 1.     1\n",
    " 2.     11\n",
    " 3.     21\n",
    " 4.     1211\n",
    " 5.     111221 \n",
    " 6.     312211\n",
    " 7.     13112221\n",
    " 8.     1113213211\n",
    " 9.     31131211131221\n",
    " 10.   13211311123113112211\n"
   ]
  },
  {
   "cell_type": "code",
   "execution_count": 1,
   "metadata": {},
   "outputs": [
    {
     "data": {
      "text/plain": [
       "'111221'"
      ]
     },
     "execution_count": 1,
     "metadata": {},
     "output_type": "execute_result"
    }
   ],
   "source": [
    "class Solution:\n",
    "    def countAndSay(self, n: int) -> str:\n",
    "        res = \"1\"\n",
    "        i = 0\n",
    "        while i < n-1:\n",
    "            res = self.helper(res)\n",
    "            i += 1\n",
    "        return res\n",
    "    \n",
    "    \n",
    "    def helper(self, s):\n",
    "        count = 1\n",
    "        res = \"\"\n",
    "        i = 0\n",
    "        while i < len(s)-1:\n",
    "            if s[i] == s[i+1]:\n",
    "                count += 1\n",
    "            else:\n",
    "                res += str(count) + s[i]\n",
    "                count = 1\n",
    "            i += 1\n",
    "        res += str(count) + s[i]\n",
    "        return res\n",
    "\n",
    "# test\n",
    "n = 5\n",
    "Solution().countAndSay(n)"
   ]
  }
 ],
 "metadata": {
  "kernelspec": {
   "display_name": "Python 3",
   "language": "python",
   "name": "python3"
  },
  "language_info": {
   "codemirror_mode": {
    "name": "ipython",
    "version": 3
   },
   "file_extension": ".py",
   "mimetype": "text/x-python",
   "name": "python",
   "nbconvert_exporter": "python",
   "pygments_lexer": "ipython3",
   "version": "3.6.4"
  }
 },
 "nbformat": 4,
 "nbformat_minor": 2
}
