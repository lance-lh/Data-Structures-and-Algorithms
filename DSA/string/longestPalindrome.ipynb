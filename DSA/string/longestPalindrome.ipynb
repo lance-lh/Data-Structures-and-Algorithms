{
 "cells": [
  {
   "cell_type": "markdown",
   "metadata": {},
   "source": [
    "Given a string s, find the longest palindromic substring in s. You may assume that the maximum length of s is 1000.\n",
    "\n",
    "Example 1:\n",
    "\n",
    "    Input: \"babad\"\n",
    "    Output: \"bab\"\n",
    "    Note: \"aba\" is also a valid answer.\n",
    "Example 2:\n",
    "\n",
    "    Input: \"cbbd\"\n",
    "    Output: \"bb\"\n",
    "    \n",
    "**Solution:**\n",
    "\n",
    "- [Manacher 算法](https://subetter.com/algorithm/manacher-algorithm.html)\n",
    "- [Manacher算法总结](https://blog.csdn.net/dyx404514/article/details/42061017)\n",
    "- [最长回文子串——Manacher 算法](https://segmentfault.com/a/1190000003914228)"
   ]
  },
  {
   "cell_type": "code",
   "execution_count": 1,
   "metadata": {},
   "outputs": [
    {
     "name": "stdout",
     "output_type": "stream",
     "text": [
      "('bab', 3)\n"
     ]
    }
   ],
   "source": [
    "# Manacher algorithm in python O(n)\n",
    "\n",
    "def longestpalindrome(s):\n",
    "    '''\n",
    "    :param s: str\n",
    "    :return: str\n",
    "    '''\n",
    "\n",
    "    t='#'+'#'.join(s)+'#'\n",
    "    RL=[0]*len(t)\n",
    "    MaxRight=0\n",
    "    pos=0\n",
    "    MaxLen=0\n",
    "    for i in range(len(t)):\n",
    "        if i<MaxRight:\n",
    "            RL[i]=min(RL[2*pos-i], MaxRight-i)\n",
    "        else:\n",
    "            RL[i]=1\n",
    "        #尝试扩展，注意处理边界\n",
    "        while i >= RL[i] and i + RL[i] < len(t) and t[i - RL[i]] == t[i + RL[i]]:\n",
    "            RL[i]+=1\n",
    "        #更新MaxRight,pos\n",
    "        if RL[i] + i - 1 > MaxRight:\n",
    "            MaxRight = RL[i] + i - 1\n",
    "            pos = i\n",
    "\n",
    "        if RL[i] > MaxLen:\n",
    "            MaxLen = RL[i]\n",
    "            ans = s[(i + 1 - MaxLen) // 2: (i - 1 + MaxLen) // 2]\n",
    "    return ans, MaxLen - 1\n",
    "\n",
    "# test\n",
    "s = 'babad'\n",
    "print(longestpalindrome(s))"
   ]
  }
 ],
 "metadata": {
  "kernelspec": {
   "display_name": "Python 3",
   "language": "python",
   "name": "python3"
  },
  "language_info": {
   "codemirror_mode": {
    "name": "ipython",
    "version": 3
   },
   "file_extension": ".py",
   "mimetype": "text/x-python",
   "name": "python",
   "nbconvert_exporter": "python",
   "pygments_lexer": "ipython3",
   "version": "3.6.4"
  }
 },
 "nbformat": 4,
 "nbformat_minor": 2
}
