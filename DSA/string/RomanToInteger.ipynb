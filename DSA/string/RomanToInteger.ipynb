{
 "cells": [
  {
   "cell_type": "markdown",
   "metadata": {},
   "source": [
    "Roman numerals are represented by seven different symbols: I, V, X, L, C, D and M.\n",
    "\n",
    "Symbol       Value\n",
    "I             1\n",
    "V             5\n",
    "X             10\n",
    "L             50\n",
    "C             100\n",
    "D             500\n",
    "M             1000\n",
    "\n",
    "For example, two is written as II in Roman numeral, just two one's added together. Twelve is written as, XII, which is simply X + II. The number twenty seven is written as XXVII, which is XX + V + II.\n",
    "\n",
    "Roman numerals are usually written largest to smallest from left to right. However, the numeral for four is not IIII. Instead, the number four is written as IV. Because the one is before the five we subtract it making four. The same principle applies to the number nine, which is written as IX. There are six instances where subtraction is used:\n",
    "\n",
    "    I can be placed before V (5) and X (10) to make 4 and 9. \n",
    "    X can be placed before L (50) and C (100) to make 40 and 90. \n",
    "    C can be placed before D (500) and M (1000) to make 400 and 900.\n",
    "    Given a roman numeral, convert it to an integer. Input is guaranteed to be within the range from 1 to 3999.\n",
    "\n",
    "Example 1:\n",
    "\n",
    "    Input: \"III\"\n",
    "    Output: 3\n",
    "Example 2:\n",
    "\n",
    "    Input: \"IV\"\n",
    "    Output: 4\n",
    "Example 3:\n",
    "\n",
    "    Input: \"IX\"\n",
    "    Output: 9\n",
    "Example 4:\n",
    "\n",
    "    Input: \"LVIII\"\n",
    "    Output: 58\n",
    "    Explanation: L = 50, V= 5, III = 3.\n",
    "Example 5:\n",
    "\n",
    "    Input: \"MCMXCIV\"\n",
    "    Output: 1994\n",
    "    Explanation: M = 1000, CM = 900, XC = 90 and IV = 4."
   ]
  },
  {
   "cell_type": "code",
   "execution_count": 1,
   "metadata": {},
   "outputs": [
    {
     "name": "stdout",
     "output_type": "stream",
     "text": [
      "1994\n"
     ]
    }
   ],
   "source": [
    "def romanToInt(s):\n",
    "    '''\n",
    "    :param s: str\n",
    "    :return: int\n",
    "    '''\n",
    "    sym = 'IVXLCDM'\n",
    "    val = [1,5,10,50,100,500,1000]\n",
    "    highest, res = 0, 0\n",
    "    for i in s[::-1]:\n",
    "        ix = sym.index(i)\n",
    "        if ix >= highest:\n",
    "            res += val[ix]\n",
    "            highest = ix\n",
    "        else:\n",
    "            res -= val[ix]\n",
    "    return res\n",
    "\n",
    "# test\n",
    "s = 'MCMXCIV'\n",
    "print(romanToInt(s))"
   ]
  },
  {
   "cell_type": "code",
   "execution_count": 2,
   "metadata": {},
   "outputs": [
    {
     "name": "stdout",
     "output_type": "stream",
     "text": [
      "1994\n"
     ]
    }
   ],
   "source": [
    "def symtoval(sym):\n",
    "    if sym == 'I':\n",
    "        return 1\n",
    "    if sym == 'V':\n",
    "        return 5\n",
    "    if sym == 'X':\n",
    "        return 10\n",
    "    if sym == 'L':\n",
    "        return 50\n",
    "    if sym == 'C':\n",
    "        return 100\n",
    "    if sym == 'D':\n",
    "        return 500\n",
    "    if sym == 'M':\n",
    "        return 1000\n",
    "    return -1\n",
    "\n",
    "def romanToInt(s):\n",
    "    '''\n",
    "    :param s: str\n",
    "    :return: int\n",
    "    '''\n",
    "    # return value\n",
    "    result = 0\n",
    "    i = 0\n",
    "\n",
    "    while i < len(s):\n",
    "        s1 = symtoval(s[i])\n",
    "        if i + 1 < len(s):\n",
    "            s2 = symtoval(s[i + 1])\n",
    "            if s1 >= s2:\n",
    "                result += s1\n",
    "                i = i + 1\n",
    "            else:\n",
    "                result += s2 - s1\n",
    "                i = i + 2\n",
    "        else:\n",
    "            result += s1\n",
    "            i = i + 1\n",
    "    return result\n",
    "\n",
    "# test\n",
    "s = 'MCMXCIV'\n",
    "print(romanToInt(s))"
   ]
  }
 ],
 "metadata": {
  "kernelspec": {
   "display_name": "Python 3",
   "language": "python",
   "name": "python3"
  },
  "language_info": {
   "codemirror_mode": {
    "name": "ipython",
    "version": 3
   },
   "file_extension": ".py",
   "mimetype": "text/x-python",
   "name": "python",
   "nbconvert_exporter": "python",
   "pygments_lexer": "ipython3",
   "version": "3.6.4"
  }
 },
 "nbformat": 4,
 "nbformat_minor": 2
}
