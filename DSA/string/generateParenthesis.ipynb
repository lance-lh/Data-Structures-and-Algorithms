{
 "cells": [
  {
   "cell_type": "markdown",
   "metadata": {},
   "source": [
    "Given n pairs of parentheses, write a function to generate all combinations of well-formed parentheses.\n",
    "\n",
    "For example, given n = 3, a solution set is:\n",
    "\n",
    "    [\n",
    "      \"((()))\",\n",
    "      \"(()())\",\n",
    "      \"(())()\",\n",
    "      \"()(())\",\n",
    "      \"()()()\"\n",
    "    ]"
   ]
  },
  {
   "cell_type": "markdown",
   "metadata": {},
   "source": [
    "Ref:\n",
    "1. [Simple Python DFS solution with explanation](https://leetcode.com/problems/generate-parentheses/discuss/10110/Simple-Python-DFS-solution-with-explanation)\n",
    "2. [[LeetCode] Generate Parentheses 生成括号](https://www.cnblogs.com/grandyang/p/4444160.html)\n",
    "3. [[Leetcode] generate parentheses 生成括号](https://www.cnblogs.com/love-yh/p/7159404.html)"
   ]
  },
  {
   "cell_type": "code",
   "execution_count": 1,
   "metadata": {},
   "outputs": [
    {
     "data": {
      "text/plain": [
       "['((()))', '(()())', '(())()', '()(())', '()()()']"
      ]
     },
     "execution_count": 1,
     "metadata": {},
     "output_type": "execute_result"
    }
   ],
   "source": [
    "class Solution(object):\n",
    "    def generateParenthesis(self, n):\n",
    "        \"\"\"\n",
    "        :type n: int\n",
    "        :rtype: List[str]\n",
    "        \"\"\"\n",
    "        # hold answer\n",
    "        res = []\n",
    "        self.dfs(n, n, '', res)\n",
    "        return res\n",
    "    \n",
    "    # here, left and right denote the remaining nums in the left/right stack\n",
    "    def dfs(self, left, right, string, res):\n",
    "        # right stack num should be larger than left ones, or wrong and skip this case\n",
    "        if left > right:\n",
    "            return \n",
    "        # if no remaining element in two stacks, add new string to res and return \n",
    "        if left == 0 and right == 0:\n",
    "            res.append(string)\n",
    "            return\n",
    "        # the left case is very simple, just fill left first and then right\n",
    "        if left:\n",
    "            self.dfs(left - 1, right, string + '(', res)\n",
    "        if right:\n",
    "            self.dfs(left, right - 1, string + ')', res)\n",
    "            \n",
    "# test\n",
    "n = 3\n",
    "Solution().generateParenthesis(n)"
   ]
  }
 ],
 "metadata": {
  "kernelspec": {
   "display_name": "Python 3",
   "language": "python",
   "name": "python3"
  },
  "language_info": {
   "codemirror_mode": {
    "name": "ipython",
    "version": 3
   },
   "file_extension": ".py",
   "mimetype": "text/x-python",
   "name": "python",
   "nbconvert_exporter": "python",
   "pygments_lexer": "ipython3",
   "version": "3.6.4"
  }
 },
 "nbformat": 4,
 "nbformat_minor": 2
}
