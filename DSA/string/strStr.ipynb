{
 "cells": [
  {
   "cell_type": "markdown",
   "metadata": {},
   "source": [
    "Implement strStr().\n",
    "\n",
    "Return the index of the first occurrence of needle in haystack, or -1 if needle is not part of haystack.\n",
    "\n",
    "Example 1:\n",
    "\n",
    "    Input: haystack = \"hello\", needle = \"ll\"\n",
    "    Output: 2\n",
    "Example 2:\n",
    "\n",
    "    Input: haystack = \"aaaaa\", needle = \"bba\"\n",
    "    Output: -1\n",
    "Clarification:\n",
    "\n",
    "What should we return when needle is an empty string? This is a great question to ask during an interview.\n",
    "\n",
    "For the purpose of this problem, we will return 0 when needle is an empty string. This is consistent to C's strstr() and Java's indexOf()."
   ]
  },
  {
   "cell_type": "code",
   "execution_count": 1,
   "metadata": {},
   "outputs": [
    {
     "data": {
      "text/plain": [
       "4"
      ]
     },
     "execution_count": 1,
     "metadata": {},
     "output_type": "execute_result"
    }
   ],
   "source": [
    "class Solution:\n",
    "    def strStr(self, strings: str, pattern: str) -> int:\n",
    "        if not pattern:\n",
    "            return 0\n",
    "        m,n = len(strings),len(pattern)\n",
    "        i,j = 0,0\n",
    "        while i < m and j < n:\n",
    "            if strings[i] == pattern[j]:\n",
    "                i += 1\n",
    "                j += 1\n",
    "            else:\n",
    "                i = i-j+1\n",
    "                j = 0\n",
    "        if j == n:\n",
    "            return i-j\n",
    "        return -1\n",
    "\n",
    "# test\n",
    "s = \"mississippi\"\n",
    "p = \"issip\"\n",
    "Solution().strStr(s,p)"
   ]
  },
  {
   "cell_type": "code",
   "execution_count": 2,
   "metadata": {},
   "outputs": [
    {
     "data": {
      "text/plain": [
       "4"
      ]
     },
     "execution_count": 2,
     "metadata": {},
     "output_type": "execute_result"
    }
   ],
   "source": [
    "class Solution:\n",
    "    def strStr(self, s: str, p: str) -> int:\n",
    "        # when pattern is empty, we should return 0\n",
    "        if not p:\n",
    "            return 0\n",
    "        \n",
    "        m, n = len(s), len(p)\n",
    "        # lps means the longest proper prefix that same as suffix\n",
    "        # initialize lps array generated from pattern\n",
    "        lps = [0] * n\n",
    "        # compute lps\n",
    "        self.findlps(p, lps, n)\n",
    "        \n",
    "        i, j = 0, 0\n",
    "        while i < m and j < n:\n",
    "            # if string matched, move i and j one step ahead\n",
    "            if s[i] == p[j]:\n",
    "                i,j = i+1, j+1\n",
    "            # if string not matched, \n",
    "            else:\n",
    "                # if j backtrack to 0, which indicate that at i-th index \n",
    "                # there is no match, so i move one step ahead\n",
    "                if j == 0:\n",
    "                    i += 1\n",
    "                # if j not backtrack to 0, now j backtracks to previous loc in lps\n",
    "                else:\n",
    "                    j = lps[j-1]\n",
    "        \n",
    "        # finally, if j equals to size of pattern\n",
    "        # which indicates that pattern is fully matched\n",
    "        # return the index (i locates last char in pattern in s to be found)\n",
    "        # thus i should minus the index j (which index the length of pattern)\n",
    "        if j == n:\n",
    "            return i - j\n",
    "        # if no match, return error code -1\n",
    "        return -1\n",
    "        \n",
    "    \n",
    "    def findlps(self, p, lps, n):\n",
    "        # pre indicates the longest prefix\n",
    "        pre, i = 0,1\n",
    "        # lps[0] is always zero!\n",
    "        while i < n:\n",
    "            if p[i] == p[pre]:\n",
    "                pre += 1\n",
    "                lps[i] = pre\n",
    "                i += 1\n",
    "            else:\n",
    "                # at the very beginnning, lps[0] = 0,  and i = i+1\n",
    "                if pre == 0:\n",
    "                    lps[i] = 0\n",
    "                    i += 1\n",
    "                else:\n",
    "                    pre = lps[pre-1]\n",
    "# test\n",
    "s = \"mississippi\"\n",
    "p = \"issip\"\n",
    "Solution().strStr(s,p)"
   ]
  }
 ],
 "metadata": {
  "kernelspec": {
   "display_name": "Python 3",
   "language": "python",
   "name": "python3"
  },
  "language_info": {
   "codemirror_mode": {
    "name": "ipython",
    "version": 3
   },
   "file_extension": ".py",
   "mimetype": "text/x-python",
   "name": "python",
   "nbconvert_exporter": "python",
   "pygments_lexer": "ipython3",
   "version": "3.6.4"
  }
 },
 "nbformat": 4,
 "nbformat_minor": 2
}
