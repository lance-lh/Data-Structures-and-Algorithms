{
 "cells": [
  {
   "cell_type": "markdown",
   "metadata": {},
   "source": [
    "Given a 2d grid map of '1's (land) and '0's (water), count the number of islands. An island is surrounded by water and is formed by connecting adjacent lands horizontally or vertically. You may assume all four edges of the grid are all surrounded by water.\n",
    "\n",
    "Example 1:\n",
    "\n",
    "    Input:\n",
    "    11110\n",
    "    11010\n",
    "    11000\n",
    "    00000\n",
    "\n",
    "    Output: 1\n",
    "Example 2:\n",
    "\n",
    "    Input:\n",
    "    11000\n",
    "    11000\n",
    "    00100\n",
    "    00011\n",
    "\n",
    "    Output: 3"
   ]
  },
  {
   "cell_type": "code",
   "execution_count": 1,
   "metadata": {},
   "outputs": [
    {
     "data": {
      "text/plain": [
       "3"
      ]
     },
     "execution_count": 1,
     "metadata": {},
     "output_type": "execute_result"
    }
   ],
   "source": [
    "class Solution:\n",
    "    def numIslands(self, grid):\n",
    "        '''\n",
    "        gird: List[List[str]]\n",
    "        rtype: int\n",
    "        '''\n",
    "        if not grid or grid[0] == 0:\n",
    "            return 0\n",
    "        res = 0\n",
    "        \n",
    "        m, n = len(grid), len(grid[0])\n",
    "        \n",
    "        visited = [[False for j in range(n)] for i in range(m)]\n",
    "        \n",
    "        for i in range(m):\n",
    "            for j in range(n):\n",
    "                if grid[i][j] == '0' or visited[i][j] == True:\n",
    "                    continue\n",
    "                self.dfs(grid, visited, i, j)\n",
    "                res += 1\n",
    "        return res\n",
    "        \n",
    "    def dfs(self, grid, visited, x, y):\n",
    "        if x < 0 or x >= len(grid) or y < 0 or y >= len(grid[0])\\\n",
    "        or grid[x][y] == '0' or visited[x][y] == True:\n",
    "            return \n",
    "        \n",
    "        visited[x][y] = True\n",
    "        \n",
    "        self.dfs(grid, visited, x-1, y)\n",
    "        self.dfs(grid, visited, x+1, y)\n",
    "        self.dfs(grid, visited, x, y+1)\n",
    "        self.dfs(grid, visited, x, y-1)\n",
    "        \n",
    "# test\n",
    "nums = [[\"1\",\"1\",\"0\",\"0\",\"0\"],[\"1\",\"1\",\"0\",\"0\",\"0\"],[\"0\",\"0\",\"1\",\"0\",\"0\"],[\"0\",\"0\",\"0\",\"1\",\"1\"]]\n",
    "Solution().numIslands(nums)"
   ]
  }
 ],
 "metadata": {
  "kernelspec": {
   "display_name": "Python 3",
   "language": "python",
   "name": "python3"
  },
  "language_info": {
   "codemirror_mode": {
    "name": "ipython",
    "version": 3
   },
   "file_extension": ".py",
   "mimetype": "text/x-python",
   "name": "python",
   "nbconvert_exporter": "python",
   "pygments_lexer": "ipython3",
   "version": "3.6.4"
  }
 },
 "nbformat": 4,
 "nbformat_minor": 2
}
