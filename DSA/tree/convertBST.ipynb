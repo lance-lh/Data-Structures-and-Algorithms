{
 "cells": [
  {
   "cell_type": "markdown",
   "metadata": {},
   "source": [
    "Given a Binary Search Tree (BST), convert it to a Greater Tree such that every key of the original BST is changed to the original key plus sum of all keys greater than the original key in BST.\n",
    "\n",
    "Example:\n",
    "\n",
    "    Input: The root of a Binary Search Tree like this:\n",
    "                  5\n",
    "                /   \\\n",
    "               2     13\n",
    "\n",
    "    Output: The root of a Greater Tree like this:\n",
    "                 18\n",
    "                /   \\\n",
    "              20     13"
   ]
  },
  {
   "cell_type": "markdown",
   "metadata": {},
   "source": [
    "ref:\n",
    "- [Approach #1 Recursion [Accepted]](https://leetcode.com/problems/convert-bst-to-greater-tree/solution/)\n",
    "\n",
    "> Intuition\n",
    "> \n",
    "> One way to perform a reverse in-order traversal is via recursion. By using the call stack to return to previous nodes, we can easily visit the nodes in reverse order.\n",
    "> \n",
    ">\n",
    "> Algorithm\n",
    ">\n",
    "> For the recursive approach, we maintain some minor \"global\" state so each recursive call can access and modify the current total sum. Essentially, we ensure that the current node exists, recurse on the right subtree, visit the current node by updating its value and the total sum, and finally recurse on the left subtree. If we know that recursing on root.right properly updates the right subtree and that recursing on root.left properly updates the left subtree, then we are guaranteed to update all nodes with larger values before the current node and all nodes with smaller values after.\n",
    "\n"
   ]
  },
  {
   "cell_type": "code",
   "execution_count": null,
   "metadata": {},
   "outputs": [],
   "source": [
    "# Definition for a binary tree node.\n",
    "# class TreeNode:\n",
    "#     def __init__(self, x):\n",
    "#         self.val = x\n",
    "#         self.left = None\n",
    "#         self.right = None\n",
    "\n",
    "class Solution:\n",
    "    def __init__(self):\n",
    "        self.valsum = 0\n",
    "        \n",
    "    def convertBST(self, root: TreeNode) -> TreeNode:\n",
    "        if root:\n",
    "            self.convertBST(root.right)\n",
    "            self.valsum += root.val\n",
    "            root.val = self.valsum\n",
    "            self.convertBST(root.left)\n",
    "        return root"
   ]
  }
 ],
 "metadata": {
  "kernelspec": {
   "display_name": "Python 3",
   "language": "python",
   "name": "python3"
  },
  "language_info": {
   "codemirror_mode": {
    "name": "ipython",
    "version": 3
   },
   "file_extension": ".py",
   "mimetype": "text/x-python",
   "name": "python",
   "nbconvert_exporter": "python",
   "pygments_lexer": "ipython3",
   "version": "3.6.4"
  }
 },
 "nbformat": 4,
 "nbformat_minor": 2
}
