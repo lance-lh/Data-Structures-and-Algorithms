{
 "cells": [
  {
   "cell_type": "markdown",
   "metadata": {},
   "source": [
    "Given a binary tree, check whether it is a mirror of itself (ie, symmetric around its center).\n",
    "\n",
    "For example, this binary tree [1,2,2,3,4,4,3] is symmetric:\n",
    "\n",
    "        1\n",
    "       / \\\n",
    "      2   2\n",
    "     / \\ / \\\n",
    "    3  4 4  3\n",
    "    \n",
    "But the following [1,2,2,null,3,null,3] is not:\n",
    "\n",
    "        1\n",
    "       / \\\n",
    "      2   2\n",
    "       \\   \\\n",
    "       3    3\n"
   ]
  },
  {
   "cell_type": "code",
   "execution_count": 1,
   "metadata": {},
   "outputs": [],
   "source": [
    "# Definition for a binary tree node.\n",
    "# class TreeNode:\n",
    "#     def __init__(self, x):\n",
    "#         self.val = x\n",
    "#         self.left = None\n",
    "#         self.right = None\n",
    "\n",
    "class Solution:\n",
    "    def isSymmetric(self, root):\n",
    "        '''\n",
    "        :param root: TreeNode\n",
    "        :return: bool\n",
    "        '''\n",
    "        return root is None or self.isMirror(root.left, root.right)\n",
    "    \n",
    "    def isMirror(self,tn1, tn2):\n",
    "        if not tn1 or not tn2:  \n",
    "            return tn1 == tn2\n",
    "        if tn1.val != tn2.val:\n",
    "            return False\n",
    "        \n",
    "        return self.isMirror(tn1.left, tn2.right) and self.isMirror(tn1.right, tn2.left)    "
   ]
  }
 ],
 "metadata": {
  "kernelspec": {
   "display_name": "Python 3",
   "language": "python",
   "name": "python3"
  },
  "language_info": {
   "codemirror_mode": {
    "name": "ipython",
    "version": 3
   },
   "file_extension": ".py",
   "mimetype": "text/x-python",
   "name": "python",
   "nbconvert_exporter": "python",
   "pygments_lexer": "ipython3",
   "version": "3.6.4"
  }
 },
 "nbformat": 4,
 "nbformat_minor": 2
}
