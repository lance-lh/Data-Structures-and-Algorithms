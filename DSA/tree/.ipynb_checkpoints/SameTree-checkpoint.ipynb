{
 "cells": [
  {
   "cell_type": "markdown",
   "metadata": {},
   "source": [
    "Given two binary trees, write a function to check if they are the same or not.\n",
    "\n",
    "Two binary trees are considered the same if they are structurally identical and the nodes have the same value.\n",
    "\n",
    "Example 1:\n",
    "\n",
    "    Input:     1         1\n",
    "              / \\       / \\\n",
    "             2   3     2   3\n",
    "\n",
    "            [1,2,3],   [1,2,3]\n",
    "\n",
    "    Output: true\n",
    "Example 2:\n",
    "\n",
    "    Input:     1         1\n",
    "              /           \\\n",
    "             2             2\n",
    "\n",
    "            [1,2],     [1,null,2]\n",
    "\n",
    "    Output: false\n",
    "Example 3:\n",
    "\n",
    "    Input:     1         1\n",
    "              / \\       / \\\n",
    "             2   1     1   2\n",
    "\n",
    "            [1,2,1],   [1,1,2]\n",
    "\n",
    "    Output: false"
   ]
  },
  {
   "cell_type": "code",
   "execution_count": null,
   "metadata": {},
   "outputs": [],
   "source": [
    "# Definition for a binary tree node.\n",
    "# class TreeNode:\n",
    "#     def __init__(self, x):\n",
    "#         self.val = x\n",
    "#         self.left = None\n",
    "#         self.right = None\n",
    "\n",
    "class Solution:\n",
    "    def isSameTree(self, p: TreeNode, q: TreeNode) -> bool:\n",
    "        if not p and not q:\n",
    "            return True\n",
    "        if p and q:\n",
    "            return p.val == q.val and self.isSameTree(p.left,q.left) and self.isSameTree(p.right,q.right)\n",
    "        return False"
   ]
  },
  {
   "cell_type": "code",
   "execution_count": null,
   "metadata": {},
   "outputs": [],
   "source": [
    "# Definition for a binary tree node.\n",
    "# class TreeNode:\n",
    "#     def __init__(self, x):\n",
    "#         self.val = x\n",
    "#         self.left = None\n",
    "#         self.right = None\n",
    "\n",
    "class Solution:\n",
    "    def isSameTree(self, p, q):\n",
    "        '''\n",
    "        :param p: TreeNode\n",
    "        :param q: TreeNode\n",
    "        :return: bool\n",
    "        '''\n",
    "        # p and q are both empty\n",
    "        if not p and not q:\n",
    "            return True\n",
    "        \n",
    "        # one of p and q is not empty\n",
    "        if not p or not q:\n",
    "            return False\n",
    "        \n",
    "        # data included in p and q are not equal\n",
    "        if p.val != q.val:\n",
    "            return False\n",
    "        \n",
    "        # recursion, to decide the left subtree and right subtree\n",
    "        return self.isSameTree(p.left, q.left) and self.isSameTree(p.right, q.right)\n",
    "            "
   ]
  }
 ],
 "metadata": {
  "kernelspec": {
   "display_name": "Python 3",
   "language": "python",
   "name": "python3"
  },
  "language_info": {
   "codemirror_mode": {
    "name": "ipython",
    "version": 3
   },
   "file_extension": ".py",
   "mimetype": "text/x-python",
   "name": "python",
   "nbconvert_exporter": "python",
   "pygments_lexer": "ipython3",
   "version": "3.6.4"
  }
 },
 "nbformat": 4,
 "nbformat_minor": 2
}
