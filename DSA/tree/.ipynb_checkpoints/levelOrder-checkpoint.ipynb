{
 "cells": [
  {
   "cell_type": "markdown",
   "metadata": {},
   "source": [
    "Given a binary tree, return the level order traversal of its nodes' values. (ie, from left to right, level by level).\n",
    "\n",
    "For example:\n",
    "\n",
    "    Given binary tree [3,9,20,null,null,15,7],\n",
    "        3\n",
    "       / \\\n",
    "      9  20\n",
    "        /  \\\n",
    "       15   7\n",
    "       \n",
    "    return its level order traversal as:\n",
    "    [\n",
    "      [3],\n",
    "      [9,20],\n",
    "      [15,7]\n",
    "    ]"
   ]
  },
  {
   "cell_type": "code",
   "execution_count": null,
   "metadata": {},
   "outputs": [],
   "source": [
    "# Definition for a binary tree node.\n",
    "# class TreeNode:\n",
    "#     def __init__(self, x):\n",
    "#         self.val = x\n",
    "#         self.left = None\n",
    "#         self.right = None\n",
    "\n",
    "class Solution:\n",
    "    def levelOrder(self, root: TreeNode) -> List[List[int]]:\n",
    "        if root is None:\n",
    "            return []\n",
    "        # cur represents level or node addr\n",
    "        res, cur = [], [root]\n",
    "        \n",
    "        # loop till cur traverse to the leaf node\n",
    "        while cur:\n",
    "            tmp, new = [], []\n",
    "\n",
    "            for node in cur:\n",
    "                # add value into tmp\n",
    "                tmp.append(node.val)\n",
    "                # new to store addr\n",
    "                if node.left:\n",
    "                    new.append(node.left)\n",
    "                if node.right:\n",
    "                    new.append(node.right)\n",
    "            res.append(tmp)\n",
    "            #update cur\n",
    "            cur = new\n",
    "        \n",
    "        return res"
   ]
  }
 ],
 "metadata": {
  "kernelspec": {
   "display_name": "Python 3",
   "language": "python",
   "name": "python3"
  },
  "language_info": {
   "codemirror_mode": {
    "name": "ipython",
    "version": 3
   },
   "file_extension": ".py",
   "mimetype": "text/x-python",
   "name": "python",
   "nbconvert_exporter": "python",
   "pygments_lexer": "ipython3",
   "version": "3.6.4"
  }
 },
 "nbformat": 4,
 "nbformat_minor": 2
}
