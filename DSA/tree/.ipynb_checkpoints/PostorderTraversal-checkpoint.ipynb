{
 "cells": [
  {
   "cell_type": "markdown",
   "metadata": {},
   "source": [
    "Given a binary tree, return the postorder traversal of its nodes' values.\n",
    "\n",
    "Example:\n",
    "\n",
    "    Input: [1,null,2,3]\n",
    "       1\n",
    "        \\\n",
    "         2\n",
    "        /\n",
    "       3\n",
    "\n",
    "    Output: [3,2,1]"
   ]
  },
  {
   "cell_type": "code",
   "execution_count": null,
   "metadata": {},
   "outputs": [],
   "source": [
    "# Definition for a binary tree node.\n",
    "# class TreeNode:\n",
    "#     def __init__(self, x):\n",
    "#         self.val = x\n",
    "#         self.left = None\n",
    "#         self.right = None\n",
    "\n",
    "class Solution:\n",
    "    def postorderTraversal(self, root: TreeNode) -> List[int]:\n",
    "        '''\n",
    "        :param root: TreeNode\n",
    "        :return: List[int]\n",
    "        '''\n",
    "        # order: left, right, root\n",
    "        # recursive solution\n",
    "        res = []\n",
    "        if root:\n",
    "            res = self.postorderTraversal(root.left)\n",
    "            res += self.postorderTraversal(root.right)\n",
    "            res.append(root.val)\n",
    "        return res"
   ]
  },
  {
   "cell_type": "code",
   "execution_count": null,
   "metadata": {},
   "outputs": [],
   "source": [
    "# Definition for a binary tree node.\n",
    "# class TreeNode:\n",
    "#     def __init__(self, x):\n",
    "#         self.val = x\n",
    "#         self.left = None\n",
    "#         self.right = None\n",
    "\n",
    "class Solution:\n",
    "    def postorderTraversal(self, root: TreeNode) -> List[int]:\n",
    "        '''\n",
    "        :param root: TreeNode\n",
    "        :return: List[int]\n",
    "        '''\n",
    "        # order: left, right, root\n",
    "        # iterative solution\n",
    "        # add root val in res first, then stack pop the right node val, finally left ones\n",
    "        # finally, the stack contains root, right and left subtree val\n",
    "\n",
    "        res, stack = [], [root]\n",
    "        while stack:\n",
    "            node = stack.pop()\n",
    "            \n",
    "            if node:\n",
    "                res.append(node.val)\n",
    "                stack.append(node.left)\n",
    "                stack.append(node.right)\n",
    "                \n",
    "        return res[::-1]"
   ]
  }
 ],
 "metadata": {
  "kernelspec": {
   "display_name": "Python 3",
   "language": "python",
   "name": "python3"
  },
  "language_info": {
   "codemirror_mode": {
    "name": "ipython",
    "version": 3
   },
   "file_extension": ".py",
   "mimetype": "text/x-python",
   "name": "python",
   "nbconvert_exporter": "python",
   "pygments_lexer": "ipython3",
   "version": "3.6.4"
  }
 },
 "nbformat": 4,
 "nbformat_minor": 2
}
