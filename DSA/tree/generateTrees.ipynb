{
 "cells": [
  {
   "cell_type": "markdown",
   "metadata": {},
   "source": [
    "\n",
    "Given an integer n, generate all structurally unique BST's (binary search trees) that store values 1 ... n.\n",
    "\n",
    "Example:\n",
    "\n",
    "    Input: 3\n",
    "    Output:\n",
    "    [\n",
    "      [1,null,3,2],\n",
    "      [3,2,null,1],\n",
    "      [3,1,null,null,2],\n",
    "      [2,1,3],\n",
    "      [1,null,2,null,3]\n",
    "    ]\n",
    "    Explanation:\n",
    "    The above output corresponds to the 5 unique BST's shown below:\n",
    "\n",
    "       1         3     3      2      1\n",
    "        \\       /     /      / \\      \\\n",
    "         3     2     1      1   3      2\n",
    "        /     /       \\                 \\\n",
    "       2     1         2                 3"
   ]
  },
  {
   "cell_type": "markdown",
   "metadata": {},
   "source": [
    "- [【LeetCode】95. Unique Binary Search Trees II 解题报告（Python）](https://blog.csdn.net/fuxuemingzhu/article/details/80778651)\n",
    "\n",
    "> 这个题目难在构造出来。一般构造树都需要递归。从1–n中任意选择一个数当做根节点，所以其左边的数字构成其左子树，右边的数字当做右子树。因为要求出所有的子树，所以当左子树固定的时候，把所有可能的右子树都构成，然后再变换左子树。\n",
    ">\n",
    "> 这个代码难理解的地方在于left_nodes 和 right_nodes的求法，这个一定要结合递归的终止条件去看，当选择的根节点的值i比left小的时候，那么其实左子树就是空了。如果把这个理解了，那么下面的对左右子树的遍历应该也不难理解。\n",
    "\n",
    "- [A simple recursive solution](https://leetcode.com/problems/unique-binary-search-trees-ii/discuss/31494/A-simple-recursive-solution)\n",
    "\n",
    "> I start by noting that 1..n is the in-order traversal for any BST with nodes 1 to n. So if I pick i-th node as my root, the left subtree will contain elements 1 to (i-1), and the right subtree will contain elements (i+1) to n. I use recursive calls to get back all possible trees for left and right subtrees and combine them in all possible ways with the root."
   ]
  },
  {
   "cell_type": "code",
   "execution_count": null,
   "metadata": {},
   "outputs": [],
   "source": [
    "# Definition for a binary tree node.\n",
    "# class TreeNode:\n",
    "#     def __init__(self, x):\n",
    "#         self.val = x\n",
    "#         self.left = None\n",
    "#         self.right = None\n",
    "\n",
    "class Solution:\n",
    "    def generateTrees(self, n: int) -> List[TreeNode]:\n",
    "        if n == 0: \n",
    "            return []\n",
    "        return self.generateTreesDFS(1, n)\n",
    "\n",
    "    def generateTreesDFS(self, left, right):\n",
    "        # base case\n",
    "        if left > right:\n",
    "            return [None]\n",
    "        \n",
    "        res = []\n",
    "        # i is chosen as root\n",
    "        for i in range(left, right + 1):\n",
    "            # all left nodes from left to i - 1\n",
    "            left_nodes = self.generateTreesDFS(left, i - 1)\n",
    "            # all right nodes from i + 1 to right\n",
    "            right_nodes = self.generateTreesDFS(i + 1, right)\n",
    "            for left_node in left_nodes:\n",
    "                for right_node in right_nodes:\n",
    "                    root = TreeNode(i)\n",
    "                    root.left = left_node\n",
    "                    root.right = right_node\n",
    "                    res.append(root)\n",
    "        return res\n"
   ]
  }
 ],
 "metadata": {
  "kernelspec": {
   "display_name": "Python 3",
   "language": "python",
   "name": "python3"
  },
  "language_info": {
   "codemirror_mode": {
    "name": "ipython",
    "version": 3
   },
   "file_extension": ".py",
   "mimetype": "text/x-python",
   "name": "python",
   "nbconvert_exporter": "python",
   "pygments_lexer": "ipython3",
   "version": "3.6.4"
  }
 },
 "nbformat": 4,
 "nbformat_minor": 2
}
