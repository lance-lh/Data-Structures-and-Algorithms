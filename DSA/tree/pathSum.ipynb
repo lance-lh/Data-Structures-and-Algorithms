{
 "cells": [
  {
   "cell_type": "markdown",
   "metadata": {},
   "source": [
    "You are given a binary tree in which each node contains an integer value.\n",
    "\n",
    "Find the number of paths that sum to a given value.\n",
    "\n",
    "The path does not need to start or end at the root or a leaf, but it must go downwards (traveling only from parent nodes to child nodes).\n",
    "\n",
    "The tree has no more than 1,000 nodes and the values are in the range -1,000,000 to 1,000,000.\n",
    "\n",
    "Example:\n",
    "\n",
    "    root = [10,5,-3,3,2,null,11,3,-2,null,1], sum = 8\n",
    "\n",
    "          10\n",
    "         /  \\\n",
    "        5   -3\n",
    "       / \\    \\\n",
    "      3   2   11\n",
    "     / \\   \\\n",
    "    3  -2   1\n",
    "\n",
    "    Return 3. The paths that sum to 8 are:\n",
    "\n",
    "    1.  5 -> 3\n",
    "    2.  5 -> 2 -> 1\n",
    "    3. -3 -> 11"
   ]
  },
  {
   "cell_type": "code",
   "execution_count": null,
   "metadata": {},
   "outputs": [],
   "source": [
    "# Definition for a binary tree node.\n",
    "# class TreeNode:\n",
    "#     def __init__(self, x):\n",
    "#         self.val = x\n",
    "#         self.left = None\n",
    "#         self.right = None\n",
    "\n",
    "class Solution:\n",
    "    def pathSum(self, root: TreeNode, sum: int) -> int:\n",
    "        if not root:\n",
    "            return 0\n",
    "        return self.cnt(root, sum) + self.pathSum(root.left, sum) + self.pathSum(root.right, sum)\n",
    "    \n",
    "    def cnt(self, root,sum):\n",
    "        if not root:\n",
    "            return 0\n",
    "        top = 1 if root.val == sum else 0\n",
    "        left = self.cnt(root.left,sum-root.val)\n",
    "        right = self.cnt(root.right, sum-root.val)\n",
    "        \n",
    "        return top + left + right"
   ]
  }
 ],
 "metadata": {
  "kernelspec": {
   "display_name": "Python 3",
   "language": "python",
   "name": "python3"
  },
  "language_info": {
   "codemirror_mode": {
    "name": "ipython",
    "version": 3
   },
   "file_extension": ".py",
   "mimetype": "text/x-python",
   "name": "python",
   "nbconvert_exporter": "python",
   "pygments_lexer": "ipython3",
   "version": "3.6.4"
  }
 },
 "nbformat": 4,
 "nbformat_minor": 2
}
