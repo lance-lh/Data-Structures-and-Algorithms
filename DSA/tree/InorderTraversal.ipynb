{
 "cells": [
  {
   "cell_type": "markdown",
   "metadata": {},
   "source": [
    "Given a binary tree, return the inorder traversal of its nodes' values.\n",
    "\n",
    "Example:\n",
    "\n",
    "    Input: [1,null,2,3]\n",
    "       1\n",
    "        \\\n",
    "         2\n",
    "        /\n",
    "       3\n",
    "\n",
    "    Output: [1,3,2]"
   ]
  },
  {
   "cell_type": "code",
   "execution_count": 1,
   "metadata": {},
   "outputs": [],
   "source": [
    "# Iterative solution using stack\n",
    "\n",
    "# Definition for a binary tree node.\n",
    "# class TreeNode:\n",
    "#     def __init__(self, x):\n",
    "#         self.val = x\n",
    "#         self.left = None\n",
    "#         self.right = None\n",
    "\n",
    "class Solution:\n",
    "    def inorderTraversal(self, root):\n",
    "        '''\n",
    "        :param root: TreeNode\n",
    "        :return: List[int]\n",
    "        '''\n",
    "        \n",
    "        # order: left -> root -> right\n",
    "        res, stack = [], []\n",
    "        while True:\n",
    "            while root: # iteratively till root and all left subtree branch are pushed into the stack\n",
    "                stack.append(root)  # add root addr in stack\n",
    "                root = root.left    # now root changes to be its left node\n",
    "                \n",
    "            # use pop method and finally return res as result\n",
    "            if not stack:\n",
    "                return res\n",
    "            \n",
    "            # pop left subtree first, then root and finally right subtree\n",
    "            node = stack.pop()\n",
    "            # add data into res\n",
    "            res.append(node.val)\n",
    "            \n",
    "            # check right child of the poped node\n",
    "            root = node.right"
   ]
  },
  {
   "cell_type": "code",
   "execution_count": 2,
   "metadata": {},
   "outputs": [],
   "source": [
    "# Recursive solution\n",
    "\n",
    "# Definition for a binary tree node.\n",
    "# class TreeNode:\n",
    "#     def __init__(self, x):\n",
    "#         self.val = x\n",
    "#         self.left = None\n",
    "#         self.right = None\n",
    "\n",
    "class Solution:\n",
    "    def inorderTraversal(self, root):\n",
    "        '''\n",
    "        :param root: TreeNode\n",
    "        :return: List[int]\n",
    "        '''\n",
    "        res = []\n",
    "        if root:\n",
    "            res = self.inorderTraversal(root.left)\n",
    "            res.append(root.val)\n",
    "            res += self.inorderTraversal(root.right)\n",
    "        return res"
   ]
  }
 ],
 "metadata": {
  "kernelspec": {
   "display_name": "Python 3",
   "language": "python",
   "name": "python3"
  },
  "language_info": {
   "codemirror_mode": {
    "name": "ipython",
    "version": 3
   },
   "file_extension": ".py",
   "mimetype": "text/x-python",
   "name": "python",
   "nbconvert_exporter": "python",
   "pygments_lexer": "ipython3",
   "version": "3.6.4"
  }
 },
 "nbformat": 4,
 "nbformat_minor": 2
}
