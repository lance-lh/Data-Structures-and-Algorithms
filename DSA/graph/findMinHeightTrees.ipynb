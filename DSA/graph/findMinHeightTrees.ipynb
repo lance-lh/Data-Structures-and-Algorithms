{
 "cells": [
  {
   "cell_type": "markdown",
   "metadata": {},
   "source": [
    "For an undirected graph with tree characteristics, we can choose any node as the root. The result graph is then a rooted tree. Among all possible rooted trees, those with minimum height are called minimum height trees (MHTs). Given such a graph, write a function to find all the MHTs and return a list of their root labels.\n",
    "\n",
    "Format\n",
    "\n",
    "The graph contains n nodes which are labeled from 0 to n - 1. You will be given the number n and a list of undirected edges (each edge is a pair of labels).\n",
    "\n",
    "You can assume that no duplicate edges will appear in edges. Since all edges are undirected, [0, 1] is the same as [1, 0] and thus will not appear together in edges.\n",
    "\n",
    "Example 1 :\n",
    "\n",
    "    Input: n = 4, edges = [[1, 0], [1, 2], [1, 3]]\n",
    "\n",
    "            0\n",
    "            |\n",
    "            1\n",
    "           / \\\n",
    "          2   3 \n",
    "\n",
    "    Output: [1]\n",
    "\n",
    "Example 2 :\n",
    "\n",
    "    Input: n = 6, edges = [[0, 3], [1, 3], [2, 3], [4, 3], [5, 4]]\n",
    "\n",
    "         0  1  2\n",
    "          \\ | /\n",
    "            3\n",
    "            |\n",
    "            4\n",
    "            |\n",
    "            5 \n",
    "\n",
    "    Output: [3, 4]\n",
    "\n",
    "Note:\n",
    "\n",
    "- According to the definition of tree on Wikipedia: “a tree is an undirected graph in which any two vertices are connected by exactly one path. In other words, any connected graph without simple cycles is a tree.”\n",
    "- The height of a rooted tree is the number of edges on the longest downward path between the root and a leaf.\n"
   ]
  },
  {
   "cell_type": "markdown",
   "metadata": {},
   "source": [
    "***\n",
    "\n",
    "Ref:\n",
    "\n",
    "1. [Python Topological](https://leetcode.com/problems/minimum-height-trees/discuss/269060/Python-Topological)\n",
    "\n",
    "> High level idea is to **keep pruning the outer node which has zero or one edge from the tree**. Since it's a undircted graph, the only edge allowed for a outer node is the edge connect it with an inner node.\n",
    "Those last left nodes are at the \"center\" of the tree so expand from them, the tree will have minimal height.\n",
    "So in each iteration, we search those outer nodes. In each iteration, we prune those outer node by removing any edge that involves them. Thus, it's kind of a topological sort.\n",
    "Eventually, if next queue for next iteration is empty, current queue contains those center nodes.\n",
    "\n",
    "2. [[LeetCode] Minimum Height Trees 最小高度树](https://www.cnblogs.com/grandyang/p/5000291.html)\n",
    "\n",
    "> 发现大家推崇的方法是一个类似**剥洋葱**的方法，就是一层一层的褪去叶节点，最后剩下的一个或两个节点就是我们要求的最小高度树的根节点，这种思路非常的巧妙，而且实现起来也不难，跟之前那到课程清单的题一样，\n",
    "\n",
    "> 我们需要建立一个图g，是一个二维数组，其中g[i]是一个一维数组，保存了i节点可以到达的所有节点。\n",
    "\n",
    "> 我们开始将所有只有一个连接边的节点(叶节点)都存入到一个队列queue中，然后我们遍历每一个叶节点，通过图来找到和其相连的节点，并且在其相连节点的集合中将该叶节点删去，\n",
    "\n",
    "> 如果删完后此节点也也变成一个叶节点了，加入队列中，再下一轮删除。\n",
    "\n",
    "> **当节点数小于等于2时候停止，此时剩下的一个或两个节点就是我们要求的最小高度树的根节点啦**"
   ]
  },
  {
   "cell_type": "code",
   "execution_count": 1,
   "metadata": {},
   "outputs": [
    {
     "name": "stdout",
     "output_type": "stream",
     "text": [
      "[3, 4]\n"
     ]
    }
   ],
   "source": [
    "def findMinHeightTrees(n, edges):\n",
    "    '''\n",
    "    :param n: int\n",
    "    :param edges: List[List[int]]\n",
    "    :return: List[int]\n",
    "    '''\n",
    "\n",
    "    # create n empty set object\n",
    "    tree = [set() for _ in range(n)]\n",
    "\n",
    "    # u as vertex, v denotes neighbor vertices\n",
    "    # set add method ensure no repeat neighbor vertices\n",
    "    for u, v in edges:\n",
    "        tree[u].add(v), tree[v].add(u)\n",
    "\n",
    "    # q and nq are list\n",
    "    # q save leaf node\n",
    "    # nq is empty\n",
    "    q, nq = [x for x in range(n) if len(tree[x]) < 2], []\n",
    "\n",
    "    while True:\n",
    "        for x in q:\n",
    "            # check y in tree[x]\n",
    "            for y in tree[x]:\n",
    "                # delete x in tree[y]\n",
    "                tree[y].remove(x)\n",
    "                # after delete, if it becomes leaf node, add it to np waiting to delete in the next iteration\n",
    "                if len(tree[y]) == 1:\n",
    "                    nq.append(y)\n",
    "        # when nq is empty, quit the loop\n",
    "        if not nq:\n",
    "            break\n",
    "        nq, q = [], nq\n",
    "    return q\n",
    "\n",
    "# test\n",
    "n = 6\n",
    "edges = [[0, 3], [1, 3], [2, 3], [4, 3], [5, 4]]\n",
    "print(findMinHeightTrees(n, edges))"
   ]
  }
 ],
 "metadata": {
  "kernelspec": {
   "display_name": "Python 3",
   "language": "python",
   "name": "python3"
  },
  "language_info": {
   "codemirror_mode": {
    "name": "ipython",
    "version": 3
   },
   "file_extension": ".py",
   "mimetype": "text/x-python",
   "name": "python",
   "nbconvert_exporter": "python",
   "pygments_lexer": "ipython3",
   "version": "3.6.4"
  }
 },
 "nbformat": 4,
 "nbformat_minor": 2
}
