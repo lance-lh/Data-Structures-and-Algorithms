{
 "cells": [
  {
   "cell_type": "markdown",
   "metadata": {},
   "source": [
    "There are a total of n courses you have to take, labeled from 0 to n-1.\n",
    "\n",
    "Some courses may have prerequisites, for example to take course 0 you have to first take course 1, which is expressed as a pair: [0,1]\n",
    "\n",
    "Given the total number of courses and a list of prerequisite pairs, return the ordering of courses you should take to finish all courses.\n",
    "\n",
    "There may be multiple correct orders, you just need to return one of them. If it is impossible to finish all courses, return an empty array.\n",
    "\n",
    "Example 1:\n",
    "\n",
    "    Input: 2, [[1,0]] \n",
    "    Output: [0,1]\n",
    "    Explanation: There are a total of 2 courses to take. To take course 1 you should have finished   \n",
    "                 course 0. So the correct course order is [0,1] .\n",
    "Example 2:\n",
    "\n",
    "    Input: 4, [[1,0],[2,0],[3,1],[3,2]]\n",
    "    Output: [0,1,2,3] or [0,2,1,3]\n",
    "    Explanation: There are a total of 4 courses to take. To take course 3 you should have finished both     \n",
    "                 courses 1 and 2. Both courses 1 and 2 should be taken after you finished course 0. \n",
    "                 So one correct course order is [0,1,2,3]. Another correct ordering is [0,2,1,3] .\n",
    "Note:\n",
    "\n",
    "1. The input prerequisites is a graph represented by a list of edges, not adjacency matrices. Read more about how a graph is represented.\n",
    "2. You may assume that there are no duplicate edges in the input prerequisites."
   ]
  },
  {
   "cell_type": "code",
   "execution_count": 1,
   "metadata": {},
   "outputs": [
    {
     "name": "stdout",
     "output_type": "stream",
     "text": [
      "[0, 2, 1, 3]\n"
     ]
    }
   ],
   "source": [
    "def findOrder(numCourses, prerequisites):\n",
    "    \"\"\"\n",
    "    :type numCourse: int\n",
    "    :type prerequirements: List[List[int]]\n",
    "    :rtype:list\n",
    "    \"\"\"\n",
    "\n",
    "    L = []\n",
    "\n",
    "    in_degrees = [0 for _ in range(numCourses)]\n",
    "    graph = [[] for _ in range(numCourses)]\n",
    "\n",
    "    # Construct the graph\n",
    "    for u, v in prerequisites:\n",
    "        graph[v].append(u)\n",
    "        in_degrees[u] += 1\n",
    "\n",
    "    Q = [i for i in range(len(in_degrees)) if in_degrees[i] == 0]  # collect nodes without pre-edges\n",
    "\n",
    "    while Q:  # while Q is not empty\n",
    "        start = Q.pop()  # remove a node from Q\n",
    "        L.append(start)  # add n to tail of L\n",
    "\n",
    "        for v in graph[start]:  # for each node v with a edge e\n",
    "            in_degrees[v] -= 1  # remove edge\n",
    "            if in_degrees[v] == 0:\n",
    "                Q.append(v)\n",
    "\n",
    "    for i in range(len(in_degrees)):  # if graph has edge\n",
    "        if in_degrees[i] > 0:  # 这里的in_degrees check是大于０\n",
    "            return []\n",
    "    return L\n",
    "\n",
    "# test\n",
    "numCourses = 4\n",
    "prerequisites = [[1,0],[2,0],[3,1],[3,2]]\n",
    "# numCourses = 1\n",
    "# prerequisites = []\n",
    "print(findOrder(numCourses, prerequisites))"
   ]
  }
 ],
 "metadata": {
  "kernelspec": {
   "display_name": "Python 3",
   "language": "python",
   "name": "python3"
  },
  "language_info": {
   "codemirror_mode": {
    "name": "ipython",
    "version": 3
   },
   "file_extension": ".py",
   "mimetype": "text/x-python",
   "name": "python",
   "nbconvert_exporter": "python",
   "pygments_lexer": "ipython3",
   "version": "3.6.4"
  }
 },
 "nbformat": 4,
 "nbformat_minor": 2
}
