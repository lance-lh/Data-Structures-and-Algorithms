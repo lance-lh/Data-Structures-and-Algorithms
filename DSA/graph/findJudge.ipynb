{
 "cells": [
  {
   "cell_type": "markdown",
   "metadata": {},
   "source": [
    "In a town, there are N people labelled from 1 to N.  There is a rumor that one of these people is secretly the town judge.\n",
    "\n",
    "If the town judge exists, then:\n",
    "\n",
    "The town judge trusts nobody.\n",
    "Everybody (except for the town judge) trusts the town judge.\n",
    "There is exactly one person that satisfies properties 1 and 2.\n",
    "You are given trust, an array of pairs trust[i] = [a, b] representing that the person labelled a trusts the person labelled b.\n",
    "\n",
    "If the town judge exists and can be identified, return the label of the town judge.  Otherwise, return -1.\n",
    "\n",
    " \n",
    "\n",
    "Example 1:\n",
    "\n",
    "    Input: N = 2, trust = [[1,2]]\n",
    "    Output: 2\n",
    "Example 2:\n",
    "\n",
    "    Input: N = 3, trust = [[1,3],[2,3]]\n",
    "    Output: 3\n",
    "Example 3:\n",
    "\n",
    "    Input: N = 3, trust = [[1,3],[2,3],[3,1]]\n",
    "    Output: -1\n",
    "Example 4:\n",
    "\n",
    "    Input: N = 3, trust = [[1,2],[2,3]]\n",
    "    Output: -1\n",
    "Example 5:\n",
    "\n",
    "    Input: N = 4, trust = [[1,3],[1,4],[2,3],[2,4],[4,3]]\n",
    "    Output: 3\n",
    " \n",
    "\n",
    "Note:\n",
    "\n",
    "    1 <= N <= 1000\n",
    "    trust.length <= 10000\n",
    "    trust[i] are all different\n",
    "    trust[i][0] != trust[i][1]\n",
    "    1 <= trust[i][0], trust[i][1] <= N"
   ]
  },
  {
   "cell_type": "code",
   "execution_count": 1,
   "metadata": {},
   "outputs": [
    {
     "name": "stdout",
     "output_type": "stream",
     "text": [
      "3\n"
     ]
    }
   ],
   "source": [
    "def findJudge(N, trust):\n",
    "    '''\n",
    "    :param N: int\n",
    "    :param trust: List[List[int]]\n",
    "    :return: int\n",
    "    '''\n",
    "    # if judge exists, it has N - 1 votes\n",
    "    # we consider each person as a vertex and each trust relationship as a directed edge\n",
    "\n",
    "    # note that: N is the num of people\n",
    "    # N + 1 is the num of sub-list\n",
    "    a = [0] * (N + 1)\n",
    "    for i in trust:\n",
    "        a[i[1]] += 1\n",
    "        # why ?\n",
    "        a[i[0]] -= 1\n",
    "\n",
    "    for j in range(1, len(a)):\n",
    "        if a[j] == N - 1:\n",
    "            return j\n",
    "\n",
    "    return -1\n",
    "\n",
    "# test\n",
    "N = 4\n",
    "trust = [[1,3],[1,4],[2,3],[2,4],[4,3]]\n",
    "print(findJudge(N, trust))"
   ]
  }
 ],
 "metadata": {
  "kernelspec": {
   "display_name": "Python 3",
   "language": "python",
   "name": "python3"
  },
  "language_info": {
   "codemirror_mode": {
    "name": "ipython",
    "version": 3
   },
   "file_extension": ".py",
   "mimetype": "text/x-python",
   "name": "python",
   "nbconvert_exporter": "python",
   "pygments_lexer": "ipython3",
   "version": "3.7.3"
  },
  "stem_cell": {
   "cell_type": "raw",
   "metadata": {
    "pycharm": {
     "metadata": false
    }
   },
   "source": "In a town, there are N people labelled from 1 to N.  There is a rumor that one of these people is secretly the town judge.\n\nIf the town judge exists, then:\n\nThe town judge trusts nobody.\nEverybody (except for the town judge) trusts the town judge.\nThere is exactly one person that satisfies properties 1 and 2.\nYou are given trust, an array of pairs trust[i] = [a, b] representing that the person labelled a trusts the person labelled b.\n\nIf the town judge exists and can be identified, return the label of the town judge.  Otherwise, return -1.\n\n \n\nExample 1:\n\nInput: N = 2, trust = [[1,2]]\nOutput: 2\nExample 2:\n\nInput: N = 3, trust = [[1,3],[2,3]]\nOutput: 3\nExample 3:\n\nInput: N = 3, trust = [[1,3],[2,3],[3,1]]\nOutput: -1\nExample 4:\n\nInput: N = 3, trust = [[1,2],[2,3]]\nOutput: -1\nExample 5:\n\nInput: N = 4, trust = [[1,3],[1,4],[2,3],[2,4],[4,3]]\nOutput: 3\n \n\nNote:\n\n1 <= N <= 1000\ntrust.length <= 10000\ntrust[i] are all different\ntrust[i][0] != trust[i][1]\n1 <= trust[i][0], trust[i][1] <= N\n\ndef findJudge(N, trust):\n    '''\n    :param N: int\n    :param trust: List[List[int]]\n    :return: int\n    '''\n    # if judge exists, it has N - 1 votes\n    # we consider each person as a vertex and each trust relationship as a directed edge\n\n    # note that: N is the num of people\n    # N + 1 is the num of sub-list\n    a = [0] * (N + 1)\n    for i in trust:\n        a[i[1]] += 1\n        a[i[0]] -= 1\n\n    for j in range(1, len(a)):\n        if a[j] == N - 1:\n            return j\n\n    return -1\n\n# test\nN = 4\ntrust = [[1,3],[1,4],[2,3],[2,4],[4,3]]\nprint(findJudge(N, trust))\n"
  }
 },
 "nbformat": 4,
 "nbformat_minor": 1
}
