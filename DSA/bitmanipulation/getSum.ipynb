{
 "cells": [
  {
   "cell_type": "markdown",
   "metadata": {},
   "source": [
    "Calculate the sum of two integers a and b, but you are not allowed to use the operator `+` and `-`.\n",
    "\n",
    "Example 1:\n",
    "\n",
    "    Input: a = 1, b = 2\n",
    "    Output: 3\n",
    "Example 2:\n",
    "\n",
    "    Input: a = -2, b = 3\n",
    "    Output: 1"
   ]
  },
  {
   "cell_type": "code",
   "execution_count": 1,
   "metadata": {},
   "outputs": [
    {
     "name": "stdout",
     "output_type": "stream",
     "text": [
      "-65\n"
     ]
    }
   ],
   "source": [
    "class Solution:\n",
    "    def getSum(self, a, b):\n",
    "        \"\"\"\n",
    "        :type a: int\n",
    "        :type b: int\n",
    "        :rtype: int\n",
    "        \"\"\"\n",
    "        # 32 bits integer max\n",
    "        MAX = 0x7FFFFFFF\n",
    "        # 32 bits interger min\n",
    "        MIN = 0x80000000\n",
    "        # mask to get last 32 bits\n",
    "        mask = 0xFFFFFFFF\n",
    "        while b != 0:\n",
    "            # ^ get different bits and & gets double 1s, << moves carry\n",
    "            a, b = (a ^ b) & mask, ((a & b) << 1) & mask\n",
    "#             print(a,b)\n",
    "        # if a is negative, get a's 32 bits complement positive first\n",
    "        # then get 32-bit positive's Python complement negative\n",
    "        return a if a <= MAX else ~(a ^ mask)\n",
    "\n",
    "# test\n",
    "a = -70\n",
    "b = 5\n",
    "print(Solution().getSum(a,b))"
   ]
  }
 ],
 "metadata": {
  "kernelspec": {
   "display_name": "Python 3",
   "language": "python",
   "name": "python3"
  },
  "language_info": {
   "codemirror_mode": {
    "name": "ipython",
    "version": 3
   },
   "file_extension": ".py",
   "mimetype": "text/x-python",
   "name": "python",
   "nbconvert_exporter": "python",
   "pygments_lexer": "ipython3",
   "version": "3.6.4"
  }
 },
 "nbformat": 4,
 "nbformat_minor": 2
}
