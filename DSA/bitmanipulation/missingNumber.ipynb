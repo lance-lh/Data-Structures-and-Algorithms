{
 "cells": [
  {
   "cell_type": "markdown",
   "metadata": {},
   "source": [
    "Given an array containing n distinct numbers taken from 0, 1, 2, ..., n, find the one that is missing from the array.\n",
    "\n",
    "Example 1:\n",
    "\n",
    "    Input: [3,0,1]\n",
    "    Output: 2\n",
    "Example 2:\n",
    "\n",
    "    Input: [9,6,4,2,3,5,7,0,1]\n",
    "    Output: 8\n",
    "Note:\n",
    "- Your algorithm should run in linear runtime complexity. Could you implement it using only constant extra space complexity?"
   ]
  },
  {
   "cell_type": "code",
   "execution_count": 1,
   "metadata": {},
   "outputs": [
    {
     "data": {
      "text/plain": [
       "8"
      ]
     },
     "execution_count": 1,
     "metadata": {},
     "output_type": "execute_result"
    }
   ],
   "source": [
    "# hash table\n",
    "# O(n)\n",
    "# O(n)\n",
    "\n",
    "class Solution:\n",
    "    def missingNumber(self, nums):\n",
    "        '''\n",
    "        nums: List[int]\n",
    "        rtype: int\n",
    "        '''\n",
    "        h = set(nums)\n",
    "        n = len(nums) + 1\n",
    "        for i in range(n):\n",
    "            if i not in h:\n",
    "                return i\n",
    "\n",
    "# test\n",
    "a = [9,6,4,2,3,5,7,0,1]\n",
    "Solution().missingNumber(a)"
   ]
  },
  {
   "cell_type": "code",
   "execution_count": 2,
   "metadata": {},
   "outputs": [
    {
     "data": {
      "text/plain": [
       "8"
      ]
     },
     "execution_count": 2,
     "metadata": {},
     "output_type": "execute_result"
    }
   ],
   "source": [
    "# Gauss Formula\n",
    "# O(n), since sum func cost O(n)\n",
    "# O(1)\n",
    "\n",
    "class Solution:\n",
    "    def missingNumber(self, nums):\n",
    "        '''\n",
    "        nums: List[int]\n",
    "        rtype: int\n",
    "        '''\n",
    "        real = (len(nums)+1)*len(nums)//2\n",
    "        fake = sum(nums)\n",
    "        return real - fake\n",
    "\n",
    "# test\n",
    "a = [9,6,4,2,3,5,7,0,1]\n",
    "Solution().missingNumber(a)"
   ]
  },
  {
   "cell_type": "code",
   "execution_count": 3,
   "metadata": {},
   "outputs": [
    {
     "data": {
      "text/plain": [
       "8"
      ]
     },
     "execution_count": 3,
     "metadata": {},
     "output_type": "execute_result"
    }
   ],
   "source": [
    "# bit manipulation\n",
    "# O(n)\n",
    "# O(1)\n",
    "\n",
    "class Solution:\n",
    "    def missingNumber(self, nums):\n",
    "        '''\n",
    "        nums: List[int]\n",
    "        rtype: int\n",
    "        '''\n",
    "        missing = len(nums)\n",
    "        for i, num in enumerate(nums):\n",
    "            missing ^= i ^ num\n",
    "        return missing\n",
    "# test\n",
    "a = [9,6,4,2,3,5,7,0,1]\n",
    "Solution().missingNumber(a)"
   ]
  }
 ],
 "metadata": {
  "kernelspec": {
   "display_name": "Python 3",
   "language": "python",
   "name": "python3"
  },
  "language_info": {
   "codemirror_mode": {
    "name": "ipython",
    "version": 3
   },
   "file_extension": ".py",
   "mimetype": "text/x-python",
   "name": "python",
   "nbconvert_exporter": "python",
   "pygments_lexer": "ipython3",
   "version": "3.6.4"
  }
 },
 "nbformat": 4,
 "nbformat_minor": 2
}
