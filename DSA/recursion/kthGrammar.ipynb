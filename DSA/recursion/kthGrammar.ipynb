{
 "cells": [
  {
   "cell_type": "markdown",
   "metadata": {},
   "source": [
    "On the first row, we write a 0. Now in every subsequent row, we look at the previous row and replace each occurrence of 0 with 01, and each occurrence of 1 with 10.\n",
    "\n",
    "Given row N and index K, return the K-th indexed symbol in row N. (The values of K are 1-indexed.) (1 indexed).\n",
    "\n",
    "Examples:\n",
    "    Input: N = 1, K = 1\n",
    "    Output: 0\n",
    "\n",
    "    Input: N = 2, K = 1\n",
    "    Output: 0\n",
    "\n",
    "    Input: N = 2, K = 2\n",
    "    Output: 1\n",
    "\n",
    "    Input: N = 4, K = 5\n",
    "    Output: 1\n",
    "\n",
    "Explanation:\n",
    "    row 1: 0\n",
    "    row 2: 01\n",
    "    row 3: 0110\n",
    "    row 4: 01101001\n",
    "Note:\n",
    "\n",
    "1. N will be an integer in the range [1, 30].\n",
    "2. K will be an integer in the range [1, 2^(N-1)]."
   ]
  },
  {
   "cell_type": "code",
   "execution_count": 1,
   "metadata": {},
   "outputs": [
    {
     "data": {
      "text/plain": [
       "1"
      ]
     },
     "execution_count": 1,
     "metadata": {},
     "output_type": "execute_result"
    }
   ],
   "source": [
    "class Solution:\n",
    "    def kthGrammar(self, N: int, K: int) -> int:\n",
    "        if N == 1:\n",
    "            return 0\n",
    "        if K % 2 == 0:\n",
    "            return 1 if self.kthGrammar(N-1,K//2) == 0 else 0\n",
    "        else:\n",
    "            return 1 if self.kthGrammar(N-1,(K+1)//2) == 1 else 0\n",
    "# test\n",
    "N = 4\n",
    "K = 5\n",
    "Solution().kthGrammar(N,K)"
   ]
  }
 ],
 "metadata": {
  "kernelspec": {
   "display_name": "Python 3",
   "language": "python",
   "name": "python3"
  },
  "language_info": {
   "codemirror_mode": {
    "name": "ipython",
    "version": 3
   },
   "file_extension": ".py",
   "mimetype": "text/x-python",
   "name": "python",
   "nbconvert_exporter": "python",
   "pygments_lexer": "ipython3",
   "version": "3.6.4"
  }
 },
 "nbformat": 4,
 "nbformat_minor": 2
}
