{
 "cells": [
  {
   "cell_type": "markdown",
   "metadata": {},
   "source": [
    "Given a positive integer n, find the least number of perfect square numbers (for example, 1, 4, 9, 16, ...) which sum to n.\n",
    "\n",
    "Example 1:\n",
    "\n",
    "    Input: n = 12\n",
    "    Output: 3 \n",
    "    Explanation: 12 = 4 + 4 + 4.\n",
    "Example 2:\n",
    "\n",
    "    Input: n = 13\n",
    "    Output: 2\n",
    "    Explanation: 13 = 4 + 9."
   ]
  },
  {
   "cell_type": "code",
   "execution_count": 1,
   "metadata": {},
   "outputs": [
    {
     "data": {
      "text/plain": [
       "2"
      ]
     },
     "execution_count": 1,
     "metadata": {},
     "output_type": "execute_result"
    }
   ],
   "source": [
    "class Solution:\n",
    "    def numSquares(self, n: int) -> int:\n",
    "        if n < 2:\n",
    "            return n\n",
    "        lst = []\n",
    "        i = 1\n",
    "        while i * i <= n:\n",
    "            lst.append( i * i )\n",
    "            i += 1\n",
    "        cnt = 0\n",
    "        toCheck = {n}\n",
    "        while toCheck:\n",
    "            cnt += 1\n",
    "            temp = set()\n",
    "            for x in toCheck:\n",
    "                for y in lst:\n",
    "                    if x == y:\n",
    "                        return cnt\n",
    "                    if x < y:\n",
    "                        break\n",
    "                    temp.add(x-y)\n",
    "            toCheck = temp\n",
    "\n",
    "        return cnt\n",
    "# test\n",
    "n = 13\n",
    "Solution().numSquares(n)"
   ]
  }
 ],
 "metadata": {
  "kernelspec": {
   "display_name": "Python 3",
   "language": "python",
   "name": "python3"
  },
  "language_info": {
   "codemirror_mode": {
    "name": "ipython",
    "version": 3
   },
   "file_extension": ".py",
   "mimetype": "text/x-python",
   "name": "python",
   "nbconvert_exporter": "python",
   "pygments_lexer": "ipython3",
   "version": "3.6.4"
  }
 },
 "nbformat": 4,
 "nbformat_minor": 2
}
