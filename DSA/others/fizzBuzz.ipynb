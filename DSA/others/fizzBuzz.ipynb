{
 "cells": [
  {
   "cell_type": "markdown",
   "metadata": {},
   "source": [
    "Write a program that outputs the string representation of numbers from 1 to n.\n",
    "\n",
    "But for multiples of three it should output “Fizz” instead of the number and for the multiples of five output “Buzz”. For numbers which are multiples of both three and five output “FizzBuzz”.\n",
    "\n",
    "Example:\n",
    "\n",
    "    n = 15,\n",
    "\n",
    "    Return:\n",
    "    [\n",
    "        \"1\",\n",
    "        \"2\",\n",
    "        \"Fizz\",\n",
    "        \"4\",\n",
    "        \"Buzz\",\n",
    "        \"Fizz\",\n",
    "        \"7\",\n",
    "        \"8\",\n",
    "        \"Fizz\",\n",
    "        \"Buzz\",\n",
    "        \"11\",\n",
    "        \"Fizz\",\n",
    "        \"13\",\n",
    "        \"14\",\n",
    "        \"FizzBuzz\"\n",
    "    ]"
   ]
  },
  {
   "cell_type": "code",
   "execution_count": 1,
   "metadata": {},
   "outputs": [
    {
     "data": {
      "text/plain": [
       "['1',\n",
       " '2',\n",
       " 'Fizz',\n",
       " '4',\n",
       " 'Buzz',\n",
       " 'Fizz',\n",
       " '7',\n",
       " '8',\n",
       " 'Fizz',\n",
       " 'Buzz',\n",
       " '11',\n",
       " 'Fizz',\n",
       " '13',\n",
       " '14',\n",
       " 'FizzBuzz']"
      ]
     },
     "execution_count": 1,
     "metadata": {},
     "output_type": "execute_result"
    }
   ],
   "source": [
    "class Solution:\n",
    "    def fizzBuzz(self, n):\n",
    "        '''\n",
    "        n: int\n",
    "        rtype: List[str]\n",
    "        '''\n",
    "        res = []\n",
    "        for i in range(1, n+1):\n",
    "            if i %15 == 0:\n",
    "                res.append('FizzBuzz')\n",
    "            elif i % 3 == 0:\n",
    "                res.append('Fizz')\n",
    "            elif i % 5 == 0:\n",
    "                res.append('Buzz')\n",
    "            else:\n",
    "                res.append(str(i))\n",
    "        return res\n",
    "    \n",
    "# test\n",
    "n = 15\n",
    "Solution().fizzBuzz(n)"
   ]
  }
 ],
 "metadata": {
  "kernelspec": {
   "display_name": "Python 3",
   "language": "python",
   "name": "python3"
  },
  "language_info": {
   "codemirror_mode": {
    "name": "ipython",
    "version": 3
   },
   "file_extension": ".py",
   "mimetype": "text/x-python",
   "name": "python",
   "nbconvert_exporter": "python",
   "pygments_lexer": "ipython3",
   "version": "3.6.4"
  }
 },
 "nbformat": 4,
 "nbformat_minor": 2
}
