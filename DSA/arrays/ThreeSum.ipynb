{
 "cells": [
  {
   "cell_type": "markdown",
   "metadata": {},
   "source": [
    "Given an array nums of n integers, are there elements a, b, c in nums\n",
    "such that a + b + c = 0?\n",
    "Find all unique triplets in the array which gives the sum of zero.\n",
    "\n",
    "Note:\n",
    "The solution set must not contain duplicate triplets.\n",
    "\n",
    "Example:\n",
    "    \n",
    "    Given array nums = [-1, 0, 1, 2, -1, -4],\n",
    "    A solution set is:\n",
    "    [\n",
    "      [-1, 0, 1],\n",
    "      [-1, -1, 2]\n",
    "    ]"
   ]
  },
  {
   "cell_type": "code",
   "execution_count": 1,
   "metadata": {},
   "outputs": [
    {
     "data": {
      "text/plain": [
       "[[-2, 0, 2], [-2, 1, 1]]"
      ]
     },
     "execution_count": 1,
     "metadata": {},
     "output_type": "execute_result"
    }
   ],
   "source": [
    "# Brute-force, test case successed,but time exceed.\n",
    "\n",
    "def threeSum(nums):\n",
    "    i, j = 0, 1\n",
    " #   nums = sorted(nums)\n",
    "    ans = []\n",
    "    while i < len(nums) - 2:  \n",
    "        ans = evaluate(i, j, nums, ans)\n",
    "        j = j + 1\n",
    "        while j == len(nums) - 1:\n",
    "            i = i + 1\n",
    "            if i < len(nums) - 2:\n",
    "                j = i + 1\n",
    "            else:\n",
    "                break\n",
    "    return ans\n",
    "\n",
    "def evaluate(i,j,nums,ans):\n",
    "    target = -(nums[i] + nums[j])\n",
    "    if target in nums[j+1:]:  # no need to check element before index j \n",
    "        ans1 = [nums[i], nums[j], target]\n",
    "        ans2 = sorted(ans1)  # to avoid list redundant\n",
    "        if ans2 not in ans:\n",
    "            ans.append(ans2)\n",
    "    return ans\n",
    "\n",
    "# test\n",
    "nums = [-2,0,1,1,2]\n",
    "threeSum(nums)"
   ]
  },
  {
   "cell_type": "code",
   "execution_count": 2,
   "metadata": {},
   "outputs": [
    {
     "data": {
      "text/plain": [
       "[[-2, 0, 2], [-2, 1, 1]]"
      ]
     },
     "execution_count": 2,
     "metadata": {},
     "output_type": "execute_result"
    }
   ],
   "source": [
    "# ref: https://leetcode.com/problems/3sum/discuss/7604/Python-Solution-(Simple-and-Fast)\n",
    "# easy to be understood.\n",
    "\n",
    "def threeSum(nums):\n",
    "\n",
    "    #nums: List[int]\n",
    "    #ans: List[List[int]]\n",
    "        \n",
    "    ans = []\n",
    "    nums = sorted(nums)\n",
    "    rightmost = len(nums) - 1\n",
    "        \n",
    "    # first, fix the first element, and move pointers (index 1 pointer and rightmost pointer)\n",
    "    for index,value in enumerate(nums):\n",
    "        left = index + 1\n",
    "        right = rightmost\n",
    "            \n",
    "        while left < right:\n",
    "            check_sum = value + nums[left] + nums[right]\n",
    "                \n",
    "            if check_sum == 0:\n",
    "                sum = [value,nums[left],nums[right]]\n",
    "                if sum not in ans:\n",
    "                    ans.append(sum)\n",
    "                # can actually do both left += 1 and right -= 1 when check_sum == 0.\n",
    "                right -= 1 # or left += 1\n",
    "                \n",
    "            elif check_sum < 0:\n",
    "                left += 1\n",
    "            else:\n",
    "                right -= 1\n",
    "            \n",
    "    return ans\n",
    "\n",
    "# test\n",
    "nums = [-2,0,1,1,2]\n",
    "threeSum(nums)"
   ]
  },
  {
   "cell_type": "code",
   "execution_count": 3,
   "metadata": {},
   "outputs": [
    {
     "data": {
      "text/plain": [
       "[[0, -2, 2], [1, -2, 1]]"
      ]
     },
     "execution_count": 3,
     "metadata": {},
     "output_type": "execute_result"
    }
   ],
   "source": [
    "# ok, but time exceed.\n",
    "\n",
    "class Solution:\n",
    "    def threeSum(nums):\n",
    "\n",
    "        #nums: List[int]\n",
    "        #ans: List[List[int]]\n",
    "        res = []\n",
    "        nums = sorted(nums)\n",
    "        \n",
    "        for i in range(len(nums)):\n",
    "            left = i + 1\n",
    "            right = len(nums) - 1\n",
    "            \n",
    "            while left < right:\n",
    "                checksum = nums[i] + nums[left] + nums[right]\n",
    "                if checksum == 0:\n",
    "                    sum = [nums[left], nums[i], nums[right]]\n",
    "                    if sum not in res:\n",
    "                        res.append(sum)\n",
    "                    right -= 1\n",
    "                elif checksum < 0:\n",
    "                    left += 1\n",
    "                else:\n",
    "                    right -= 1\n",
    "        return res\n",
    "\n",
    "# test\n",
    "nums = [-2,0,1,1,2]\n",
    "Solution.threeSum(nums)"
   ]
  }
 ],
 "metadata": {
  "kernelspec": {
   "display_name": "Python 3",
   "language": "python",
   "name": "python3"
  },
  "language_info": {
   "codemirror_mode": {
    "name": "ipython",
    "version": 3
   },
   "file_extension": ".py",
   "mimetype": "text/x-python",
   "name": "python",
   "nbconvert_exporter": "python",
   "pygments_lexer": "ipython3",
   "version": "3.6.4"
  }
 },
 "nbformat": 4,
 "nbformat_minor": 2
}
