{
 "cells": [
  {
   "cell_type": "code",
   "execution_count": 1,
   "metadata": {},
   "outputs": [],
   "source": [
    "'''Given an array nums of n integers, are there elements a, b, c in nums\n",
    "such that a + b + c = 0?\n",
    "Find all unique triplets in the array which gives the sum of zero.\n",
    "\n",
    "Note:\n",
    "The solution set must not contain duplicate triplets.\n",
    "Example:\n",
    "    Given array nums = [-1, 0, 1, 2, -1, -4],\n",
    "    A solution set is:\n",
    "    [\n",
    "      [-1, 0, 1],\n",
    "      [-1, -1, 2]\n",
    "    ]\n",
    "'''\n",
    "\n",
    "# Brute-force\n",
    "\n",
    "def threeSum(nums):\n",
    "    i, j = 0, 1\n",
    " #   nums = sorted(nums)\n",
    "    ans = []\n",
    "    while i < len(nums) - 2:  \n",
    "        ans = evaluate(i, j, nums, ans)\n",
    "        j = j + 1\n",
    "        while j == len(nums) - 1:\n",
    "            i = i + 1\n",
    "            if i < len(nums) - 2:\n",
    "                j = i + 1\n",
    "            else:\n",
    "                break\n",
    "    return ans\n",
    "\n",
    "def evaluate(i,j,nums,ans):\n",
    "    target = -(nums[i] + nums[j])\n",
    "    if target in nums[j+1:]:  # no need to check element before index j \n",
    "        ans1 = [nums[i], nums[j], target]\n",
    "        ans2 = sorted(ans1)  # to avoid list redundant\n",
    "        if ans2 not in ans:\n",
    "            ans.append(ans2)\n",
    "    return ans"
   ]
  },
  {
   "cell_type": "code",
   "execution_count": 2,
   "metadata": {},
   "outputs": [
    {
     "data": {
      "text/plain": [
       "[[-2, 0, 2], [-2, 1, 1]]"
      ]
     },
     "execution_count": 2,
     "metadata": {},
     "output_type": "execute_result"
    }
   ],
   "source": [
    "# test\n",
    "nums = [-2,0,1,1,2]\n",
    "threeSum(nums)"
   ]
  }
 ],
 "metadata": {
  "kernelspec": {
   "display_name": "Python 3",
   "language": "python",
   "name": "python3"
  },
  "language_info": {
   "codemirror_mode": {
    "name": "ipython",
    "version": 3
   },
   "file_extension": ".py",
   "mimetype": "text/x-python",
   "name": "python",
   "nbconvert_exporter": "python",
   "pygments_lexer": "ipython3",
   "version": "3.7.0"
  }
 },
 "nbformat": 4,
 "nbformat_minor": 2
}
