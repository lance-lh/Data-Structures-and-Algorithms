{
 "cells": [
  {
   "cell_type": "markdown",
   "metadata": {},
   "source": [
    "Given an array with n objects colored red, white or blue, sort them in-place so that objects of the same color are adjacent, with the colors in the order red, white and blue.\n",
    "\n",
    "Here, we will use the integers 0, 1, and 2 to represent the color red, white, and blue respectively.\n",
    "\n",
    "Note: You are not suppose to use the library's sort function for this problem.\n",
    "\n",
    "Example:\n",
    "\n",
    "    Input: [2,0,2,1,1,0]\n",
    "    Output: [0,0,1,1,2,2]\n",
    "Follow up:\n",
    "\n",
    "- A rather straight forward solution is a two-pass algorithm using counting sort. First, iterate the array counting number of 0's, 1's, and 2's, then overwrite array with total number of 0's, then 1's and followed by 2's.\n",
    "- Could you come up with a one-pass algorithm using only constant space?"
   ]
  },
  {
   "cell_type": "markdown",
   "metadata": {},
   "source": [
    "1. [Dutch national flag problem](https://en.wikipedia.org/wiki/Dutch_national_flag_problem)\n",
    "\n",
    "2. [快速排序深入之荷兰国旗问题](https://www.cnblogs.com/junyuhuang/p/4390780.html)"
   ]
  },
  {
   "cell_type": "code",
   "execution_count": 1,
   "metadata": {},
   "outputs": [
    {
     "data": {
      "text/plain": [
       "[0, 0, 1, 1, 2, 2]"
      ]
     },
     "execution_count": 1,
     "metadata": {},
     "output_type": "execute_result"
    }
   ],
   "source": [
    "# Dutch national flag problem\n",
    "\n",
    "class Solution(object):\n",
    "    def sortColors(self, nums):\n",
    "        \"\"\"\n",
    "        :type nums: List[int]\n",
    "        :rtype: None Do not return anything, modify nums in-place instead.\n",
    "        \"\"\"\n",
    "        begin = 0\n",
    "        end = len(nums) - 1\n",
    "        cur = 0 \n",
    "        # 1 is mid of [0,1,2]\n",
    "        mid = 1\n",
    "        \n",
    "        while cur <= end:\n",
    "\n",
    "            if nums[cur] < mid:\n",
    "                nums[cur], nums[begin] = nums[begin], nums[cur]\n",
    "                cur += 1\n",
    "                begin += 1\n",
    "            elif nums[cur] > mid:\n",
    "                nums[cur], nums[end] = nums[end], nums[cur]\n",
    "                end -= 1\n",
    "            else:\n",
    "                cur += 1\n",
    "        \n",
    "        return nums # do not need this line in leetcode\n",
    "                    # because it returns nums as default\n",
    "            \n",
    "                \n",
    "# test\n",
    "nums = [2,0,2,1,1,0]\n",
    "Solution().sortColors(nums)"
   ]
  }
 ],
 "metadata": {
  "kernelspec": {
   "display_name": "Python 3",
   "language": "python",
   "name": "python3"
  },
  "language_info": {
   "codemirror_mode": {
    "name": "ipython",
    "version": 3
   },
   "file_extension": ".py",
   "mimetype": "text/x-python",
   "name": "python",
   "nbconvert_exporter": "python",
   "pygments_lexer": "ipython3",
   "version": "3.6.4"
  }
 },
 "nbformat": 4,
 "nbformat_minor": 2
}
