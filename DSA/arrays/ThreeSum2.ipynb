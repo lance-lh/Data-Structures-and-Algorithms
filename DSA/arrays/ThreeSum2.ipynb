{
 "cells": [
  {
   "cell_type": "code",
   "execution_count": 1,
   "metadata": {},
   "outputs": [],
   "source": [
    "'''\n",
    "Given an array nums of n integers, are there elements a, b, c in nums\n",
    "such that a + b + c = 0?\n",
    "Find all unique triplets in the array which gives the sum of zero.\n",
    "\n",
    "Note:\n",
    "The solution set must not contain duplicate triplets.\n",
    "Example:\n",
    "    Given array nums = [-1, 0, 1, 2, -1, -4],\n",
    "    A solution set is:\n",
    "    [\n",
    "      [-1, 0, 1],\n",
    "      [-1, -1, 2]\n",
    "    ]\n",
    "'''\n",
    "\n",
    "# ref: https://leetcode.com/problems/3sum/discuss/7604/Python-Solution-(Simple-and-Fast)\n",
    "# easy to be understood.\n",
    "\n",
    "def threeSum(nums):\n",
    "\n",
    "    #nums: List[int]\n",
    "    #ans: List[List[int]]\n",
    "        \n",
    "    ans = []\n",
    "    nums = sorted(nums)\n",
    "    rightmost = len(nums) - 1\n",
    "        \n",
    "    # first, fix the first element, and move pointers (index 1 pointer and rightmost pointer)\n",
    "    for index,value in enumerate(nums):\n",
    "        left = index + 1\n",
    "        right = rightmost\n",
    "            \n",
    "        while left < right:\n",
    "            check_sum = value + nums[left] + nums[right]\n",
    "                \n",
    "            if check_sum == 0:\n",
    "                sum = [value,nums[left],nums[right]]\n",
    "                if sum not in ans:\n",
    "                    ans.append(sum)\n",
    "                        \n",
    "                right -= 1\n",
    "                \n",
    "            elif check_sum < 0:\n",
    "                left += 1\n",
    "            else:\n",
    "                right -= 1\n",
    "            \n",
    "    return ans"
   ]
  },
  {
   "cell_type": "code",
   "execution_count": 2,
   "metadata": {},
   "outputs": [
    {
     "data": {
      "text/plain": [
       "[[-2, 0, 2], [-2, 1, 1]]"
      ]
     },
     "execution_count": 2,
     "metadata": {},
     "output_type": "execute_result"
    }
   ],
   "source": [
    "# test\n",
    "nums = [-2,0,1,1,2]\n",
    "threeSum(nums)"
   ]
  }
 ],
 "metadata": {
  "kernelspec": {
   "display_name": "Python 3",
   "language": "python",
   "name": "python3"
  },
  "language_info": {
   "codemirror_mode": {
    "name": "ipython",
    "version": 3
   },
   "file_extension": ".py",
   "mimetype": "text/x-python",
   "name": "python",
   "nbconvert_exporter": "python",
   "pygments_lexer": "ipython3",
   "version": "3.7.0"
  }
 },
 "nbformat": 4,
 "nbformat_minor": 2
}
