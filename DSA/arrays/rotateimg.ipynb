{
 "cells": [
  {
   "cell_type": "markdown",
   "metadata": {},
   "source": [
    "You are given an `n x n` 2D matrix representing an image.\n",
    "\n",
    "Rotate the image by 90 degrees (clockwise).\n",
    "\n",
    "Note:\n",
    "\n",
    "You have to rotate the image `in-place`, which means you have to modify the input 2D matrix directly. **DO NOT allocate another 2D matrix and do the rotation.**\n",
    "\n",
    "Example 1:\n",
    "\n",
    "    Given input matrix = \n",
    "    [\n",
    "      [1,2,3],\n",
    "      [4,5,6],\n",
    "      [7,8,9]\n",
    "    ],\n",
    "\n",
    "    rotate the input matrix in-place such that it becomes:\n",
    "    [\n",
    "      [7,4,1],\n",
    "      [8,5,2],\n",
    "      [9,6,3]\n",
    "    ]\n",
    "Example 2:\n",
    "\n",
    "    Given input matrix =\n",
    "    [\n",
    "      [ 5, 1, 9,11],\n",
    "      [ 2, 4, 8,10],\n",
    "      [13, 3, 6, 7],\n",
    "      [15,14,12,16]\n",
    "    ], \n",
    "\n",
    "    rotate the input matrix in-place such that it becomes:\n",
    "    [\n",
    "      [15,13, 2, 5],\n",
    "      [14, 3, 4, 1],\n",
    "      [12, 6, 8, 9],\n",
    "      [16, 7,10,11]\n",
    "    ]"
   ]
  },
  {
   "cell_type": "markdown",
   "metadata": {},
   "source": [
    "- [A common method to rotate the image](https://leetcode.com/problems/rotate-image/discuss/18872/A-common-method-to-rotate-the-image)\n",
    "- [Seven Short Solutions (1 to 7 lines)](https://leetcode.com/problems/rotate-image/discuss/18884/Seven-Short-Solutions-(1-to-7-lines))"
   ]
  },
  {
   "cell_type": "code",
   "execution_count": 1,
   "metadata": {},
   "outputs": [
    {
     "data": {
      "text/plain": [
       "[[7, 4, 1], [8, 5, 2], [9, 6, 3]]"
      ]
     },
     "execution_count": 1,
     "metadata": {},
     "output_type": "execute_result"
    }
   ],
   "source": [
    "# Rotate the image by 90 degrees (clockwise)\n",
    "class Solution(object):\n",
    "    def rotate(self, matrix):\n",
    "        \"\"\"\n",
    "        :type matrix: List[List[int]]\n",
    "        :rtype: None Do not return anything, modify matrix in-place instead.\n",
    "        \"\"\"\n",
    "        # reverse up to down\n",
    "        matrix.reverse()\n",
    "        \n",
    "        for i in range(len(matrix)):\n",
    "            for j in range(i):\n",
    "                matrix[i][j], matrix[j][i] = matrix[j][i], matrix[i][j]\n",
    "        \n",
    "        return matrix\n",
    "\n",
    "# test\n",
    "a = [\n",
    "  [1,2,3],\n",
    "  [4,5,6],\n",
    "  [7,8,9]\n",
    "]\n",
    "Solution().rotate(a)"
   ]
  },
  {
   "cell_type": "code",
   "execution_count": 2,
   "metadata": {},
   "outputs": [
    {
     "data": {
      "text/plain": [
       "[[3, 6, 9], [2, 5, 8], [1, 4, 7]]"
      ]
     },
     "execution_count": 2,
     "metadata": {},
     "output_type": "execute_result"
    }
   ],
   "source": [
    "# anticlockwise rotate\n",
    "class Solution(object):\n",
    "    def rotate1(self, matrix):\n",
    "        \"\"\"\n",
    "        :type matrix: List[List[int]]\n",
    "        :rtype: None Do not return anything, modify matrix in-place instead.\n",
    "        \"\"\"\n",
    "        # reverse up to down\n",
    "        for i in matrix: i.reverse() \n",
    "        \n",
    "        for i in range(len(matrix)):\n",
    "            for j in range(i):\n",
    "                matrix[i][j], matrix[j][i] = matrix[j][i], matrix[i][j]\n",
    "        \n",
    "        return matrix\n",
    "\n",
    "# test\n",
    "a = [\n",
    "  [1,2,3],\n",
    "  [4,5,6],\n",
    "  [7,8,9]\n",
    "]\n",
    "Solution().rotate1(a)"
   ]
  }
 ],
 "metadata": {
  "kernelspec": {
   "display_name": "Python 3",
   "language": "python",
   "name": "python3"
  },
  "language_info": {
   "codemirror_mode": {
    "name": "ipython",
    "version": 3
   },
   "file_extension": ".py",
   "mimetype": "text/x-python",
   "name": "python",
   "nbconvert_exporter": "python",
   "pygments_lexer": "ipython3",
   "version": "3.6.4"
  }
 },
 "nbformat": 4,
 "nbformat_minor": 2
}
