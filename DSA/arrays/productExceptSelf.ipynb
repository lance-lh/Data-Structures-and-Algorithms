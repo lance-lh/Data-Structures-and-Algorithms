{
 "cells": [
  {
   "cell_type": "markdown",
   "metadata": {},
   "source": [
    "Given an array nums of n integers where n > 1,  return an array output such that output[i] is equal to the product of all the elements of nums except nums[i].\n",
    "\n",
    "Example:\n",
    "\n",
    "    Input:  [1,2,3,4]\n",
    "    Output: [24,12,8,6]\n",
    "Note: Please solve it without division and in O(n).\n",
    "\n",
    "Follow up:\n",
    "- Could you solve it with constant space complexity? (The output array does not count as extra space for the purpose of space complexity analysis.)"
   ]
  },
  {
   "cell_type": "code",
   "execution_count": 1,
   "metadata": {},
   "outputs": [
    {
     "data": {
      "text/plain": [
       "[24, 12, 8, 6]"
      ]
     },
     "execution_count": 1,
     "metadata": {},
     "output_type": "execute_result"
    }
   ],
   "source": [
    "# wrong answer\n",
    "class Solution:\n",
    "    def productExceptSelf(self, nums):\n",
    "        '''\n",
    "        nums: List[int]\n",
    "        rtype: List[int]\n",
    "        '''\n",
    "        \n",
    "        from functools import reduce\n",
    "        prosum = reduce(lambda x, y: x*y, nums)\n",
    "        return [prosum//i for i in nums]\n",
    "# test\n",
    "nums = [1,2,3,4]\n",
    "Solution().productExceptSelf(nums)"
   ]
  },
  {
   "cell_type": "code",
   "execution_count": 2,
   "metadata": {},
   "outputs": [
    {
     "data": {
      "text/plain": [
       "[24, 12, 8, 6]"
      ]
     },
     "execution_count": 2,
     "metadata": {},
     "output_type": "execute_result"
    }
   ],
   "source": [
    "class Solution:\n",
    "    def productExceptSelf(self, nums):\n",
    "        '''\n",
    "        nums: List[int]\n",
    "        rtype: List[int]\n",
    "        '''\n",
    "        n = len(nums)\n",
    "        tmp = 1\n",
    "        res = []\n",
    "        for i in range(n):\n",
    "            res.append(tmp)\n",
    "            tmp *= nums[i]\n",
    "        tmp = 1\n",
    "        for i in range(n-1,-1,-1):\n",
    "            res[i] *= tmp\n",
    "            tmp *= nums[i]\n",
    "        return res\n",
    "            \n",
    "# test\n",
    "nums = [1,2,3,4]\n",
    "Solution().productExceptSelf(nums)"
   ]
  }
 ],
 "metadata": {
  "kernelspec": {
   "display_name": "Python 3",
   "language": "python",
   "name": "python3"
  },
  "language_info": {
   "codemirror_mode": {
    "name": "ipython",
    "version": 3
   },
   "file_extension": ".py",
   "mimetype": "text/x-python",
   "name": "python",
   "nbconvert_exporter": "python",
   "pygments_lexer": "ipython3",
   "version": "3.6.4"
  }
 },
 "nbformat": 4,
 "nbformat_minor": 2
}
