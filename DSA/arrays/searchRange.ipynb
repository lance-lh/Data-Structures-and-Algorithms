{
 "cells": [
  {
   "cell_type": "markdown",
   "metadata": {},
   "source": [
    "Given an array of integers nums sorted in ascending order, find the starting and ending position of a given target value.\n",
    "\n",
    "Your algorithm's runtime complexity must be in the order of `O(log n)`.\n",
    "\n",
    "If the target is not found in the array, return [-1, -1].\n",
    "\n",
    "Example 1:\n",
    "\n",
    "    Input: nums = [5,7,7,8,8,10], target = 8\n",
    "    Output: [3,4]\n",
    "Example 2:\n",
    "\n",
    "    Input: nums = [5,7,7,8,8,10], target = 6\n",
    "    Output: [-1,-1]"
   ]
  },
  {
   "cell_type": "code",
   "execution_count": 1,
   "metadata": {},
   "outputs": [
    {
     "name": "stdout",
     "output_type": "stream",
     "text": [
      "[1, 3]\n"
     ]
    }
   ],
   "source": [
    "class Solution(object):\n",
    "    def searchRange(self, nums, target):\n",
    "        \"\"\"\n",
    "        :type nums: List[int]\n",
    "        :type target: int\n",
    "        :rtype: List[int]\n",
    "        \"\"\"\n",
    "        if not nums:\n",
    "            return [-1, -1]\n",
    "\n",
    "        midind = self.checkind(nums, target)\n",
    "\n",
    "        if midind == -1:\n",
    "            return [-1, -1]\n",
    "\n",
    "        i, j = midind,midind\n",
    "        while i >= 0:\n",
    "            if nums[i] != target:\n",
    "                break\n",
    "            i -= 1\n",
    "        while j <= len(nums) - 1:\n",
    "            if nums[j] != target:\n",
    "                break\n",
    "            j += 1\n",
    "        return [i+1, j-1]\n",
    "\n",
    "    def checkind(self, nums, target):\n",
    "        low = 0\n",
    "        high = len(nums) - 1\n",
    "\n",
    "        while low <= high:\n",
    "            mid = (low + high) // 2\n",
    "            if nums[mid] == target:\n",
    "                return mid\n",
    "            if nums[mid] < target:\n",
    "                low = mid + 1\n",
    "            else:\n",
    "                high = mid - 1\n",
    "        return -1\n",
    "\n",
    "\n",
    "\n",
    "\n",
    "# test\n",
    "nums = [5,6,6,6,7,7,7,8,8,8,10]\n",
    "# nums = [5,7,7,8,8,10]\n",
    "tar= 6\n",
    "print(Solution().searchRange(nums, tar))"
   ]
  }
 ],
 "metadata": {
  "kernelspec": {
   "display_name": "Python 3",
   "language": "python",
   "name": "python3"
  },
  "language_info": {
   "codemirror_mode": {
    "name": "ipython",
    "version": 3
   },
   "file_extension": ".py",
   "mimetype": "text/x-python",
   "name": "python",
   "nbconvert_exporter": "python",
   "pygments_lexer": "ipython3",
   "version": "3.6.4"
  }
 },
 "nbformat": 4,
 "nbformat_minor": 2
}
