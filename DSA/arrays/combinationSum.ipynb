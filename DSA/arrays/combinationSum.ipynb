{
 "cells": [
  {
   "cell_type": "markdown",
   "metadata": {},
   "source": [
    "Given a set of candidate numbers (candidates) (without duplicates) and a target number (target), find all unique combinations in candidates where the candidate numbers sums to target.\n",
    "\n",
    "The same repeated number may be chosen from candidates unlimited number of times.\n",
    "\n",
    "Note:\n",
    "\n",
    "- All numbers (including target) will be positive integers.\n",
    "- The solution set must not contain duplicate combinations.\n",
    "\n",
    "Example 1:\n",
    "\n",
    "    Input: candidates = [2,3,6,7], target = 7,\n",
    "    A solution set is:\n",
    "    [\n",
    "      [7],\n",
    "      [2,2,3]\n",
    "    ]\n",
    "Example 2:\n",
    "\n",
    "    Input: candidates = [2,3,5], target = 8,\n",
    "    A solution set is:\n",
    "    [\n",
    "      [2,2,2,2],\n",
    "      [2,3,3],\n",
    "      [3,5]\n",
    "    ]"
   ]
  },
  {
   "cell_type": "markdown",
   "metadata": {},
   "source": [
    "重要参考和总结:\n",
    "\n",
    "- [A general approach to backtracking questions in Java (Subsets, Permutations, Combination Sum, Palindrome Partitioning)](https://leetcode.com/problems/combination-sum/discuss/16502/A-general-approach-to-backtracking-questions-in-Java-(Subsets-Permutations-Combination-Sum-Palindrome-Partitioning))"
   ]
  },
  {
   "cell_type": "code",
   "execution_count": 1,
   "metadata": {},
   "outputs": [
    {
     "data": {
      "text/plain": [
       "[[2, 2, 2, 2], [2, 3, 3], [3, 5]]"
      ]
     },
     "execution_count": 1,
     "metadata": {},
     "output_type": "execute_result"
    }
   ],
   "source": [
    "class Solution(object):\n",
    "    def combinationSum(self, candidates, target):\n",
    "        \"\"\"\n",
    "        :type candidates: List[int]\n",
    "        :type target: int\n",
    "        :rtype: List[List[int]]\n",
    "        \"\"\"\n",
    "        res = []\n",
    "        candidates.sort()\n",
    "        self.dfs(candidates, target, 0, [], res)\n",
    "        return res\n",
    "        \n",
    "        \n",
    "    def dfs(self, nums, target, index, path, res):\n",
    "        if target < 0:\n",
    "            return \n",
    "        if target == 0:\n",
    "            res.append(path)\n",
    "            return\n",
    "        \n",
    "        for i in range(index, len(nums)):\n",
    "            self.dfs(nums, target - nums[i], i, path + [nums[i]], res)\n",
    "\n",
    "# test\n",
    "candidates = [2,3,5]\n",
    "target = 8\n",
    "Solution().combinationSum(candidates, target)"
   ]
  }
 ],
 "metadata": {
  "kernelspec": {
   "display_name": "Python 3",
   "language": "python",
   "name": "python3"
  },
  "language_info": {
   "codemirror_mode": {
    "name": "ipython",
    "version": 3
   },
   "file_extension": ".py",
   "mimetype": "text/x-python",
   "name": "python",
   "nbconvert_exporter": "python",
   "pygments_lexer": "ipython3",
   "version": "3.6.4"
  }
 },
 "nbformat": 4,
 "nbformat_minor": 2
}
