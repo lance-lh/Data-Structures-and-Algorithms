{
 "cells": [
  {
   "cell_type": "markdown",
   "metadata": {},
   "source": [
    "Given n non-negative integers a1, a2, ..., an ,\n",
    "where each represents a point at coordinate (i, ai).\n",
    "n vertical lines are drawn such that the two endpoints of line i is at (i, ai) and (i, 0).\n",
    "Find two lines, which together with x-axis forms a container,\n",
    "such that the container contains the most water.\n",
    "\n",
    "Note: You may not slant the container and n is at least 2.\n",
    "\n",
    "Example:\n",
    "\n",
    "    Input: [1,8,6,2,5,4,8,3,7]\n",
    "    Output: 49"
   ]
  },
  {
   "cell_type": "code",
   "execution_count": 1,
   "metadata": {},
   "outputs": [
    {
     "name": "stdout",
     "output_type": "stream",
     "text": [
      "49\n"
     ]
    }
   ],
   "source": [
    "# brute-force, O(n^2)\n",
    "\n",
    "def maxArea(height):\n",
    "\n",
    "    Tarea = []\n",
    "    for j in list(reversed(range(len(height)))):\n",
    "        for i in list(range(j)):\n",
    "            area = compute_area(i,j)\n",
    "            Tarea.append(area)\n",
    "    return max(Tarea)\n",
    "\n",
    "def compute_area(i,j):\n",
    "    w = j - i\n",
    "    h = min(height[i], height[j])\n",
    "    area = w * h\n",
    "    return area\n",
    "\n",
    "# test\n",
    "height = [1,8,6,2,5,4,8,3,7]\n",
    "print(maxArea(height))"
   ]
  },
  {
   "cell_type": "code",
   "execution_count": 2,
   "metadata": {},
   "outputs": [
    {
     "name": "stdout",
     "output_type": "stream",
     "text": [
      "49\n"
     ]
    }
   ],
   "source": [
    "# two pointers, O(n)\n",
    "def maxArea(height):\n",
    "    l = 0\n",
    "    r = len(height) - 1\n",
    "    lstarea = []\n",
    "    while l < r:\n",
    "        area = (r - l) * min(height[r],height[l])\n",
    "        lstarea.append(area)\n",
    "        if height[l] < height[r]:\n",
    "            l = l + 1\n",
    "        else:\n",
    "            r = r - 1\n",
    "    return max(lstarea)\n",
    "\n",
    "# test\n",
    "height = [1,8,6,2,5,4,8,3,7]\n",
    "print(maxArea(height))"
   ]
  }
 ],
 "metadata": {
  "kernelspec": {
   "display_name": "Python 3",
   "language": "python",
   "name": "python3"
  },
  "language_info": {
   "codemirror_mode": {
    "name": "ipython",
    "version": 3
   },
   "file_extension": ".py",
   "mimetype": "text/x-python",
   "name": "python",
   "nbconvert_exporter": "python",
   "pygments_lexer": "ipython3",
   "version": "3.6.4"
  }
 },
 "nbformat": 4,
 "nbformat_minor": 2
}
