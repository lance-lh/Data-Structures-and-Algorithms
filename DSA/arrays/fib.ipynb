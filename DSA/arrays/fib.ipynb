{
 "cells": [
  {
   "cell_type": "markdown",
   "metadata": {},
   "source": [
    "The Fibonacci numbers, commonly denoted F(n) form a sequence, called the Fibonacci sequence, such that each number is the sum of the two preceding ones, starting from 0 and 1. That is,\n",
    "\n",
    "    F(0) = 0,   F(1) = 1\n",
    "    F(N) = F(N - 1) + F(N - 2), for N > 1.\n",
    "Given N, calculate F(N).\n",
    "\n",
    " \n",
    "\n",
    "Example 1:\n",
    "\n",
    "    Input: 2\n",
    "    Output: 1\n",
    "    Explanation: F(2) = F(1) + F(0) = 1 + 0 = 1.\n",
    "Example 2:\n",
    "\n",
    "    Input: 3\n",
    "    Output: 2\n",
    "    Explanation: F(3) = F(2) + F(1) = 1 + 1 = 2.\n",
    "Example 3:\n",
    "\n",
    "    Input: 4\n",
    "    Output: 3\n",
    "    Explanation: F(4) = F(3) + F(2) = 2 + 1 = 3."
   ]
  },
  {
   "cell_type": "code",
   "execution_count": 1,
   "metadata": {},
   "outputs": [
    {
     "data": {
      "text/plain": [
       "5"
      ]
     },
     "execution_count": 1,
     "metadata": {},
     "output_type": "execute_result"
    }
   ],
   "source": [
    "# recursion \n",
    "class Solution:\n",
    "    def fib(self, N: int) -> int:\n",
    "        if N < 2:\n",
    "            return N\n",
    "        else:\n",
    "            return self.fib(N-1) + self.fib(N-2)\n",
    "        \n",
    "# test\n",
    "n = 5\n",
    "Solution().fib(n)"
   ]
  },
  {
   "cell_type": "code",
   "execution_count": 2,
   "metadata": {},
   "outputs": [
    {
     "data": {
      "text/plain": [
       "5"
      ]
     },
     "execution_count": 2,
     "metadata": {},
     "output_type": "execute_result"
    }
   ],
   "source": [
    "# recursion with memo\n",
    "class Solution:\n",
    "    def fib(self, N: int) -> int:\n",
    "        cache = {}\n",
    "        \n",
    "        def memo(N):\n",
    "            if N in cache:\n",
    "                return cache[N]\n",
    "\n",
    "            if N < 2:\n",
    "                res = N\n",
    "            else:\n",
    "                res = memo(N-1) + memo(N-2)\n",
    "            return res\n",
    "        return memo(N)\n",
    "    \n",
    "# test\n",
    "n = 5\n",
    "Solution().fib(n)"
   ]
  },
  {
   "cell_type": "code",
   "execution_count": 3,
   "metadata": {},
   "outputs": [
    {
     "data": {
      "text/plain": [
       "5"
      ]
     },
     "execution_count": 3,
     "metadata": {},
     "output_type": "execute_result"
    }
   ],
   "source": [
    "# iterative solution\n",
    "# faster\n",
    "class Solution:\n",
    "    def fib(self, N: int) -> int:\n",
    "        f0 = 0\n",
    "        f1 = 1\n",
    "        if N < 2:\n",
    "            return N\n",
    "        f = 0\n",
    "        for i in range(2,N+1):\n",
    "            f = f0 + f1\n",
    "            f0 = f1\n",
    "            f1 = f\n",
    "        return f\n",
    "    \n",
    "# test\n",
    "n = 5\n",
    "Solution().fib(n)"
   ]
  }
 ],
 "metadata": {
  "kernelspec": {
   "display_name": "Python 3",
   "language": "python",
   "name": "python3"
  },
  "language_info": {
   "codemirror_mode": {
    "name": "ipython",
    "version": 3
   },
   "file_extension": ".py",
   "mimetype": "text/x-python",
   "name": "python",
   "nbconvert_exporter": "python",
   "pygments_lexer": "ipython3",
   "version": "3.6.4"
  }
 },
 "nbformat": 4,
 "nbformat_minor": 2
}
