{
 "cells": [
  {
   "cell_type": "markdown",
   "metadata": {},
   "source": [
    "Given an array nums of n integers and an integer target,\n",
    "find three integers in nums such that the sum is closest to target.\n",
    "Return the sum of the three integers.\n",
    "You may assume that each input would have exactly one solution.\n",
    "\n",
    "Example:\n",
    "\n",
    "    Given array nums = [-1, 2, 1, -4], and target = 1.\n",
    "\n",
    "    The sum that is closest to the target is 2. (-1 + 2 + 1 = 2).\n"
   ]
  },
  {
   "cell_type": "code",
   "execution_count": 1,
   "metadata": {},
   "outputs": [
    {
     "data": {
      "text/plain": [
       "2"
      ]
     },
     "execution_count": 1,
     "metadata": {},
     "output_type": "execute_result"
    }
   ],
   "source": [
    "# two pointers\n",
    "# time complexity: O(n^2)\n",
    "# fix one element, and then move two pointers by conditions\n",
    "\n",
    "def threeSumClosest(nums, target):\n",
    "    '''\n",
    "    :param nums: List[int]\n",
    "    :param target:  int\n",
    "    :return:  -> int\n",
    "    '''\n",
    "\n",
    "    nums = sorted(nums)\n",
    "    # current sum, sum of former three elements is the smallest one\n",
    "    csum = sum(nums[:3])\n",
    "\n",
    "    # each iteration has a fix element index i\n",
    "    for i in range(len(nums)):\n",
    "        left = i + 1\n",
    "        right = len(nums) - 1\n",
    "\n",
    "        while left < right:\n",
    "            s = nums[i] + nums[left] + nums[right]\n",
    "\n",
    "            # assign the smaller one to scum and iterate\n",
    "            if abs(s - target) < abs(csum - target):\n",
    "                csum = s\n",
    "\n",
    "            if s < target:\n",
    "                left += 1\n",
    "            elif s > target:\n",
    "                right -= 1\n",
    "            else:\n",
    "                return csum\n",
    "    return csum\n",
    "\n",
    "# test\n",
    "nums = [-1, 2, 1, -4]\n",
    "target = 1\n",
    "threeSumClosest(nums,target)"
   ]
  },
  {
   "cell_type": "code",
   "execution_count": 2,
   "metadata": {},
   "outputs": [
    {
     "data": {
      "text/plain": [
       "2"
      ]
     },
     "execution_count": 2,
     "metadata": {},
     "output_type": "execute_result"
    }
   ],
   "source": [
    "# AC, faster runtime and smaller space usage than above one\n",
    "class Solution:\n",
    "    def threeSumClosest(nums, target):\n",
    "        '''\n",
    "        :param nums: List[int]\n",
    "        :param target:  int\n",
    "        :return:  -> int\n",
    "        '''\n",
    "        nums = sorted(nums)\n",
    "        csum = sum(nums[:3])\n",
    "        \n",
    "        for index, value in enumerate(nums):\n",
    "            left = index + 1\n",
    "            right = len(nums) - 1\n",
    "            \n",
    "            while left < right:\n",
    "                checksum = value + nums[left] + nums[right]\n",
    "                if abs(checksum - target) < abs(csum - target):\n",
    "                    csum = checksum\n",
    "                if checksum < target:\n",
    "                    left += 1\n",
    "                elif checksum > target:\n",
    "                    right -= 1\n",
    "                else:\n",
    "                    return csum\n",
    "        \n",
    "        return csum\n",
    "\n",
    "# test\n",
    "nums = [-1, 2, 1, -4]\n",
    "target = 1\n",
    "Solution.threeSumClosest(nums,target)"
   ]
  }
 ],
 "metadata": {
  "kernelspec": {
   "display_name": "Python 3",
   "language": "python",
   "name": "python3"
  },
  "language_info": {
   "codemirror_mode": {
    "name": "ipython",
    "version": 3
   },
   "file_extension": ".py",
   "mimetype": "text/x-python",
   "name": "python",
   "nbconvert_exporter": "python",
   "pygments_lexer": "ipython3",
   "version": "3.6.4"
  }
 },
 "nbformat": 4,
 "nbformat_minor": 2
}
