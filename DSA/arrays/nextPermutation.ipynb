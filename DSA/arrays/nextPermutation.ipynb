{
 "cells": [
  {
   "cell_type": "markdown",
   "metadata": {},
   "source": [
    "Implement next permutation, which rearranges numbers into the lexicographically next greater permutation of numbers.\n",
    "\n",
    "If such arrangement is not possible, it must rearrange it as the lowest possible order (ie, sorted in ascending order).\n",
    "\n",
    "The replacement must be in-place and use only constant extra memory.\n",
    "\n",
    "Here are some examples. Inputs are in the left-hand column and its corresponding outputs are in the right-hand column.\n",
    "\n",
    "    1,2,3 → 1,3,2\n",
    "    3,2,1 → 1,2,3\n",
    "    1,1,5 → 1,5,1"
   ]
  },
  {
   "cell_type": "code",
   "execution_count": 1,
   "metadata": {},
   "outputs": [
    {
     "name": "stdout",
     "output_type": "stream",
     "text": [
      "[1, 3, 1, 2, 4, 7]\n"
     ]
    }
   ],
   "source": [
    "class Solution(object):\n",
    "    def nextPermutation(self, nums):\n",
    "        \"\"\"\n",
    "        :type nums: List[int]\n",
    "        :rtype: None Do not return anything, modify nums in-place instead.\n",
    "        \"\"\"\n",
    "\n",
    "        '''\n",
    "        note: i, j counts from back to forward        \n",
    "        1. find 1st decrease ind i\n",
    "        2. find 1st element with index j that larger than nums[i]\n",
    "        3. swap nums[i] and nums[j]\n",
    "        4. sorted nums[i+1:]\n",
    "        '''\n",
    "        \n",
    "        if not nums:\n",
    "            return None\n",
    "\n",
    "        i = len(nums) - 1\n",
    "        # notice that, after while loop,\n",
    "        # i denotes the element after the 1st decrease ind\n",
    "        while i > 0:\n",
    "            if nums[i] > nums[i - 1]:\n",
    "                break\n",
    "            i -= 1\n",
    "\n",
    "        # if the list is already reversed sorted\n",
    "        # return the reversed version of it\n",
    "        if i == 0:\n",
    "            return nums[::-1]\n",
    "#             return nums.reverse() # wrong\n",
    "            # return\n",
    "        else:\n",
    "            # find 1st element with index j that larger than nums[i]\n",
    "            j = len(nums) - 1\n",
    "            while j > i-1:\n",
    "                if nums[j] > nums[i-1]:\n",
    "                    break\n",
    "                j -= 1\n",
    "\n",
    "            # swap\n",
    "            nums[i-1], nums[j] = nums[j], nums[i-1]\n",
    "\n",
    "            # sorted\n",
    "            return nums[:i] + sorted(nums[i:])\n",
    "            # nums[i:] = sorted(nums[i:])\n",
    "            # return\n",
    "\n",
    "# test\n",
    "# nums = [3,2,1]\n",
    "nums = [1,2,7,4,3,1]\n",
    "print(Solution().nextPermutation(nums))"
   ]
  }
 ],
 "metadata": {
  "kernelspec": {
   "display_name": "Python 3",
   "language": "python",
   "name": "python3"
  },
  "language_info": {
   "codemirror_mode": {
    "name": "ipython",
    "version": 3
   },
   "file_extension": ".py",
   "mimetype": "text/x-python",
   "name": "python",
   "nbconvert_exporter": "python",
   "pygments_lexer": "ipython3",
   "version": "3.6.4"
  }
 },
 "nbformat": 4,
 "nbformat_minor": 2
}
