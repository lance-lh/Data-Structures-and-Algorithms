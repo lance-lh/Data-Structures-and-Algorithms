{
 "cells": [
  {
   "cell_type": "markdown",
   "metadata": {},
   "source": [
    "Given an array, rotate the array to the right by k steps, where k is non-negative.\n",
    "\n",
    "Example 1:\n",
    "\n",
    "    Input: [1,2,3,4,5,6,7] and k = 3\n",
    "    Output: [5,6,7,1,2,3,4]\n",
    "    Explanation:\n",
    "    rotate 1 steps to the right: [7,1,2,3,4,5,6]\n",
    "    rotate 2 steps to the right: [6,7,1,2,3,4,5]\n",
    "    rotate 3 steps to the right: [5,6,7,1,2,3,4]\n",
    "Example 2:\n",
    "\n",
    "    Input: [-1,-100,3,99] and k = 2\n",
    "    Output: [3,99,-1,-100]\n",
    "    Explanation: \n",
    "    rotate 1 steps to the right: [99,-1,-100,3]\n",
    "    rotate 2 steps to the right: [3,99,-1,-100]\n",
    "Note:\n",
    "\n",
    "- Try to come up as many solutions as you can, there are at least 3 different ways to solve this problem.\n",
    "- Could you do it in-place with O(1) extra space?"
   ]
  },
  {
   "cell_type": "code",
   "execution_count": 1,
   "metadata": {},
   "outputs": [
    {
     "data": {
      "text/plain": [
       "[5, 6, 7, 1, 2, 3, 4]"
      ]
     },
     "execution_count": 1,
     "metadata": {},
     "output_type": "execute_result"
    }
   ],
   "source": [
    "class Solution:\n",
    "    def rotate(self, nums, k):\n",
    "        '''\n",
    "        nums: List[int]\n",
    "        k: int\n",
    "        rtype: None\n",
    "        '''\n",
    "        \n",
    "        \"\"\"\n",
    "        Do not return anything, modify nums in-place instead.\n",
    "        \"\"\"\n",
    "        newarr = [0] * len(nums)\n",
    "        for i in range(len(nums)):\n",
    "            newarr[(i+k)%len(nums)] = nums[i]\n",
    "            \n",
    "        for i in range(len(nums)):\n",
    "            nums[i] = newarr[i]\n",
    "        return nums\n",
    "        \n",
    "# test\n",
    "nums = [1,2,3,4,5,6,7]\n",
    "k = 3\n",
    "Solution().rotate(nums,k)"
   ]
  }
 ],
 "metadata": {
  "kernelspec": {
   "display_name": "Python 3",
   "language": "python",
   "name": "python3"
  },
  "language_info": {
   "codemirror_mode": {
    "name": "ipython",
    "version": 3
   },
   "file_extension": ".py",
   "mimetype": "text/x-python",
   "name": "python",
   "nbconvert_exporter": "python",
   "pygments_lexer": "ipython3",
   "version": "3.6.4"
  }
 },
 "nbformat": 4,
 "nbformat_minor": 2
}
