{
 "cells": [
  {
   "cell_type": "markdown",
   "metadata": {},
   "source": [
    "Given an array nums containing n + 1 integers where each integer is between 1 and n (inclusive), prove that at least one duplicate number must exist. Assume that there is only one duplicate number, find the duplicate one.\n",
    "\n",
    "Example 1:\n",
    "\n",
    "    Input: [1,3,4,2,2]\n",
    "    Output: 2\n",
    "Example 2:\n",
    "\n",
    "    Input: [3,1,3,4,2]\n",
    "    Output: 3\n",
    "Note:\n",
    "\n",
    "1. You must not modify the array (assume the array is read only).\n",
    "2. You must use only constant, O(1) extra space.\n",
    "3. Your runtime complexity should be less than O(n2).\n",
    "4. There is only one duplicate number in the array, but it could be repeated more than once."
   ]
  },
  {
   "cell_type": "code",
   "execution_count": 1,
   "metadata": {},
   "outputs": [
    {
     "data": {
      "text/plain": [
       "2"
      ]
     },
     "execution_count": 1,
     "metadata": {},
     "output_type": "execute_result"
    }
   ],
   "source": [
    "# sorting\n",
    "class Solution:\n",
    "    def findDuplicate(self, nums) -> int:\n",
    "        '''\n",
    "        nums: List[int]\n",
    "        rtype: int\n",
    "        '''\n",
    "        nums.sort()\n",
    "        for i in range(1, len(nums)):\n",
    "            if nums[i] == nums[i-1]:\n",
    "                return nums[i]\n",
    "            \n",
    "# test\n",
    "nums = [1,3,4,2,2]\n",
    "Solution().findDuplicate(nums)"
   ]
  },
  {
   "cell_type": "code",
   "execution_count": 2,
   "metadata": {},
   "outputs": [
    {
     "data": {
      "text/plain": [
       "2"
      ]
     },
     "execution_count": 2,
     "metadata": {},
     "output_type": "execute_result"
    }
   ],
   "source": [
    "# set\n",
    "class Solution:\n",
    "    def findDuplicate(self, nums) -> int:\n",
    "        '''\n",
    "        nums: List[int]\n",
    "        rtype: int\n",
    "        '''\n",
    "        seen = set()\n",
    "        for num in nums:\n",
    "            if num in seen:\n",
    "                return num\n",
    "            seen.add(num)\n",
    "# test\n",
    "nums = [1,3,4,2,2]\n",
    "Solution().findDuplicate(nums)"
   ]
  },
  {
   "cell_type": "code",
   "execution_count": 3,
   "metadata": {},
   "outputs": [
    {
     "data": {
      "text/plain": [
       "2"
      ]
     },
     "execution_count": 3,
     "metadata": {},
     "output_type": "execute_result"
    }
   ],
   "source": [
    "# Floyd's Tortoise and Hare (Cycle Detection) \n",
    "class Solution:\n",
    "    def findDuplicate(self, nums) -> int:\n",
    "        '''\n",
    "        nums: List[int]\n",
    "        rtype: int\n",
    "        '''\n",
    "        slow, fast = nums[0], nums[0]\n",
    "        while True:\n",
    "            slow = nums[slow]\n",
    "            fast = nums[nums[fast]]\n",
    "            if slow == fast:\n",
    "                break\n",
    "        \n",
    "        slow = nums[0]\n",
    "        while slow != fast:\n",
    "            slow = nums[slow]\n",
    "            fast = nums[fast]\n",
    "        return slow\n",
    "    \n",
    "# test\n",
    "nums = [1,3,4,2,2]\n",
    "Solution().findDuplicate(nums)"
   ]
  }
 ],
 "metadata": {
  "kernelspec": {
   "display_name": "Python 3",
   "language": "python",
   "name": "python3"
  },
  "language_info": {
   "codemirror_mode": {
    "name": "ipython",
    "version": 3
   },
   "file_extension": ".py",
   "mimetype": "text/x-python",
   "name": "python",
   "nbconvert_exporter": "python",
   "pygments_lexer": "ipython3",
   "version": "3.6.4"
  }
 },
 "nbformat": 4,
 "nbformat_minor": 2
}
