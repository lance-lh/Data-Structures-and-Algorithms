{
 "cells": [
  {
   "cell_type": "markdown",
   "metadata": {},
   "source": [
    "Given n non-negative integers representing the histogram's bar height where the width of each bar is 1, find the area of largest rectangle in the histogram.\n",
    "\n",
    "![](https://assets.leetcode.com/uploads/2018/10/12/histogram.png)\n",
    "\n",
    "\n",
    "Above is a histogram where width of each bar is 1, given height = `[2,1,5,6,2,3]`.\n",
    "\n",
    "![](https://assets.leetcode.com/uploads/2018/10/12/histogram_area.png)\n",
    "\n",
    "\n",
    "The largest rectangle is shown in the shaded area, which has area = 10 unit.\n",
    "\n",
    " \n",
    "\n",
    "Example:\n",
    "\n",
    "    Input: [2,1,5,6,2,3]\n",
    "    Output: 10"
   ]
  },
  {
   "cell_type": "code",
   "execution_count": 1,
   "metadata": {},
   "outputs": [
    {
     "name": "stdout",
     "output_type": "stream",
     "text": [
      "10\n"
     ]
    }
   ],
   "source": [
    "class Solution:\n",
    "    def largestRectangleArea(self, heights):\n",
    "        heights.append(0)\n",
    "        stack = [-1]\n",
    "        res = 0\n",
    "        for i in range(len(heights)):\n",
    "            while heights[stack[-1]] > heights[i]:\n",
    "                h = heights[stack.pop()]\n",
    "                w = i - stack[-1] - 1\n",
    "                res = max(res, h * w)\n",
    "            stack.append(i)\n",
    "        # pop 0\n",
    "        heights.pop()\n",
    "        return res\n",
    "    \n",
    "# test\n",
    "heights = [2,1,5,6,2,3]\n",
    "print(Solution().largestRectangleArea(heights))"
   ]
  }
 ],
 "metadata": {
  "kernelspec": {
   "display_name": "Python 3",
   "language": "python",
   "name": "python3"
  },
  "language_info": {
   "codemirror_mode": {
    "name": "ipython",
    "version": 3
   },
   "file_extension": ".py",
   "mimetype": "text/x-python",
   "name": "python",
   "nbconvert_exporter": "python",
   "pygments_lexer": "ipython3",
   "version": "3.6.4"
  }
 },
 "nbformat": 4,
 "nbformat_minor": 2
}
