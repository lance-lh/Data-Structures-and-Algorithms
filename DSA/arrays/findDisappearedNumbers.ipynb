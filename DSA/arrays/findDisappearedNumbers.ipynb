{
 "cells": [
  {
   "cell_type": "markdown",
   "metadata": {},
   "source": [
    "Given an array of integers where 1 ≤ a[i] ≤ n (n = size of array), some elements appear twice and others appear once.\n",
    "\n",
    "Find all the elements of [1, n] inclusive that do not appear in this array.\n",
    "\n",
    "Could you do it without extra space and in O(n) runtime? You may assume the returned list does not count as extra space.\n",
    "\n",
    "Example:\n",
    "\n",
    "    Input:\n",
    "    [4,3,2,7,8,2,3,1]\n",
    "\n",
    "    Output:\n",
    "    [5,6]"
   ]
  },
  {
   "cell_type": "markdown",
   "metadata": {},
   "source": [
    "- [[LeetCode] Find All Numbers Disappeared in an Array 找出数组中所有消失的数字](https://www.cnblogs.com/grandyang/p/6222149.html)"
   ]
  },
  {
   "cell_type": "code",
   "execution_count": 1,
   "metadata": {},
   "outputs": [
    {
     "data": {
      "text/plain": [
       "[5, 6]"
      ]
     },
     "execution_count": 1,
     "metadata": {},
     "output_type": "execute_result"
    }
   ],
   "source": [
    "class Solution:\n",
    "    def findDisappearedNumbers(self, nums):\n",
    "        '''\n",
    "        nums: List[int]\n",
    "        return: List[int]\n",
    "        '''\n",
    "        for i in range(len(nums)):\n",
    "            ind =abs(nums[i]) - 1 \n",
    "            nums[ind] = -abs(nums[ind])\n",
    "        return [i + 1 for i in range(len(nums)) if nums[i] > 0]\n",
    "\n",
    "# test\n",
    "nums = [4,3,2,7,8,2,3,1]\n",
    "Solution().findDisappearedNumbers(nums)"
   ]
  }
 ],
 "metadata": {
  "kernelspec": {
   "display_name": "Python 3",
   "language": "python",
   "name": "python3"
  },
  "language_info": {
   "codemirror_mode": {
    "name": "ipython",
    "version": 3
   },
   "file_extension": ".py",
   "mimetype": "text/x-python",
   "name": "python",
   "nbconvert_exporter": "python",
   "pygments_lexer": "ipython3",
   "version": "3.6.4"
  }
 },
 "nbformat": 4,
 "nbformat_minor": 2
}
