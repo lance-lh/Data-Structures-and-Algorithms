{
 "cells": [
  {
   "cell_type": "markdown",
   "metadata": {},
   "source": [
    "Given a sorted array nums, remove the duplicates in-place such that each element appear only once and return the new length.\n",
    "\n",
    "Do not allocate extra space for another array, you must do this by modifying the input array in-place with O(1) extra memory.\n",
    "\n",
    "Example 1:\n",
    "\n",
    "    Given nums = [1,1,2],\n",
    "\n",
    "    Your function should return length = 2, with the first two elements of nums being 1 and 2 respectively.\n",
    "\n",
    "    It doesn't matter what you leave beyond the returned length.\n",
    "Example 2:\n",
    "\n",
    "    Given nums = [0,0,1,1,1,2,2,3,3,4],\n",
    "\n",
    "    Your function should return length = 5, with the first five elements of nums being modified to 0, 1, 2, 3, and 4 respectively.\n",
    "\n",
    "    It doesn't matter what values are set beyond the returned length.\n",
    "Clarification:\n",
    "\n",
    "Confused why the returned value is an integer but your answer is an array?\n",
    "\n",
    "Note that the input array is passed in by reference, which means modification to the input array will be known to the caller as well.\n",
    "\n",
    "Internally you can think of this:\n",
    "\n",
    "    // nums is passed in by reference. (i.e., without making a copy)\n",
    "    int len = removeDuplicates(nums);\n",
    "\n",
    "    // any modification to nums in your function would be known by the caller.\n",
    "    // using the length returned by your function, it prints the first len elements.\n",
    "    for (int i = 0; i < len; i++) {\n",
    "        print(nums[i]);\n",
    "    }"
   ]
  },
  {
   "cell_type": "code",
   "execution_count": 1,
   "metadata": {},
   "outputs": [
    {
     "name": "stdout",
     "output_type": "stream",
     "text": [
      "2\n"
     ]
    }
   ],
   "source": [
    "# using two pointers\n",
    "\n",
    "class Solution:\n",
    "    def removeDuplicates(self, nums):\n",
    "        '''\n",
    "        :param nums: list[int]\n",
    "        :return: int\n",
    "        '''\n",
    "        if not nums:\n",
    "            return 0\n",
    "\n",
    "        i = 0\n",
    "        for j in range(1,len(nums)):\n",
    "            if nums[i] != nums[j]:\n",
    "                i += 1\n",
    "                nums[i] = nums[j]\n",
    "        return i + 1\n",
    "\n",
    "# test\n",
    "nums = [1,1,2]\n",
    "print(Solution().removeDuplicates(nums))"
   ]
  }
 ],
 "metadata": {
  "kernelspec": {
   "display_name": "Python 3",
   "language": "python",
   "name": "python3"
  },
  "language_info": {
   "codemirror_mode": {
    "name": "ipython",
    "version": 3
   },
   "file_extension": ".py",
   "mimetype": "text/x-python",
   "name": "python",
   "nbconvert_exporter": "python",
   "pygments_lexer": "ipython3",
   "version": "3.6.4"
  }
 },
 "nbformat": 4,
 "nbformat_minor": 2
}
