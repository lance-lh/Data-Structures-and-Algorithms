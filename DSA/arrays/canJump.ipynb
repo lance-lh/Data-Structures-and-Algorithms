{
 "cells": [
  {
   "cell_type": "markdown",
   "metadata": {},
   "source": [
    "Given an array of non-negative integers, you are initially positioned at the first index of the array.\n",
    "\n",
    "Each element in the array represents your maximum jump length at that position.\n",
    "\n",
    "Determine if you are able to reach the last index.\n",
    "\n",
    "Example 1:\n",
    "\n",
    "    Input: [2,3,1,1,4]\n",
    "    Output: true\n",
    "    Explanation: Jump 1 step from index 0 to 1, then 3 steps to the last index.\n",
    "Example 2:\n",
    "\n",
    "    Input: [3,2,1,0,4]\n",
    "    Output: false\n",
    "    Explanation: You will always arrive at index 3 no matter what. Its maximum\n",
    "                 jump length is 0, which makes it impossible to reach the last index."
   ]
  },
  {
   "cell_type": "code",
   "execution_count": 1,
   "metadata": {},
   "outputs": [
    {
     "data": {
      "text/plain": [
       "False"
      ]
     },
     "execution_count": 1,
     "metadata": {},
     "output_type": "execute_result"
    }
   ],
   "source": [
    "class Solution(object):\n",
    "    def canJump(self, nums):\n",
    "        \"\"\"\n",
    "        :type nums: List[int]\n",
    "        :rtype: bool\n",
    "        \"\"\"\n",
    "        reach = 0\n",
    "        for i in range(len(nums)):\n",
    "            if i > reach:\n",
    "                return False\n",
    "            reach = max(reach, nums[i] + i)\n",
    "        return True\n",
    "    \n",
    "# test\n",
    "nums = [3,2,1,0,4]\n",
    "Solution().canJump(nums)"
   ]
  }
 ],
 "metadata": {
  "kernelspec": {
   "display_name": "Python 3",
   "language": "python",
   "name": "python3"
  },
  "language_info": {
   "codemirror_mode": {
    "name": "ipython",
    "version": 3
   },
   "file_extension": ".py",
   "mimetype": "text/x-python",
   "name": "python",
   "nbconvert_exporter": "python",
   "pygments_lexer": "ipython3",
   "version": "3.6.4"
  }
 },
 "nbformat": 4,
 "nbformat_minor": 2
}
