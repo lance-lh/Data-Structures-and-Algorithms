{
 "cells": [
  {
   "cell_type": "markdown",
   "metadata": {},
   "source": [
    "Given an array of integers, find if the array contains any duplicates.\n",
    "\n",
    "Your function should return true if any value appears at least twice in the array, and it should return false if every element is distinct.\n",
    "\n",
    "Example 1:\n",
    "\n",
    "    Input: [1,2,3,1]\n",
    "    Output: true\n",
    "Example 2:\n",
    "\n",
    "    Input: [1,2,3,4]\n",
    "    Output: false\n",
    "Example 3:\n",
    "\n",
    "    Input: [1,1,1,3,3,4,3,2,4,2]\n",
    "    Output: true"
   ]
  },
  {
   "cell_type": "code",
   "execution_count": 1,
   "metadata": {},
   "outputs": [
    {
     "data": {
      "text/plain": [
       "True"
      ]
     },
     "execution_count": 1,
     "metadata": {},
     "output_type": "execute_result"
    }
   ],
   "source": [
    "class Solution:\n",
    "    def containsDuplicate(self, nums):\n",
    "        '''\n",
    "        nums: List[int]\n",
    "        rtype: bool\n",
    "        '''\n",
    "        return len(nums) != len(set(nums))\n",
    "    \n",
    "# test\n",
    "a = [1,1,1,3,3,4,3,2,4,2]\n",
    "Solution().containsDuplicate(a)"
   ]
  }
 ],
 "metadata": {
  "kernelspec": {
   "display_name": "Python 3",
   "language": "python",
   "name": "python3"
  },
  "language_info": {
   "codemirror_mode": {
    "name": "ipython",
    "version": 3
   },
   "file_extension": ".py",
   "mimetype": "text/x-python",
   "name": "python",
   "nbconvert_exporter": "python",
   "pygments_lexer": "ipython3",
   "version": "3.6.4"
  }
 },
 "nbformat": 4,
 "nbformat_minor": 2
}
