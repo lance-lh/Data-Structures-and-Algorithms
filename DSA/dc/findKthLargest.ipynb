{
 "cells": [
  {
   "cell_type": "markdown",
   "metadata": {},
   "source": [
    "Find the kth largest element in an unsorted array. Note that it is the kth largest element in the sorted order, not the kth distinct element.\n",
    "\n",
    "Example 1:\n",
    "\n",
    "    Input: [3,2,1,5,6,4] and k = 2\n",
    "    Output: 5\n",
    "Example 2:\n",
    "\n",
    "    Input: [3,2,3,1,2,4,5,5,6] and k = 4\n",
    "    Output: 4\n",
    "\n",
    "Note:\n",
    "\n",
    "    You may assume k is always valid, 1 ≤ k ≤ array's length."
   ]
  },
  {
   "cell_type": "code",
   "execution_count": 1,
   "metadata": {},
   "outputs": [
    {
     "name": "stdout",
     "output_type": "stream",
     "text": [
      "5\n"
     ]
    }
   ],
   "source": [
    "class Solution:\n",
    "    def findKthLargest(self, nums, k: int):\n",
    "        '''\n",
    "        :param nums: List[int]\n",
    "        :param k: int\n",
    "        :return: int\n",
    "        '''\n",
    "        return sorted(nums,reverse=True)[k-1]\n",
    "\n",
    "# test\n",
    "nums = [3,2,1,5,6,4]\n",
    "k = 2\n",
    "print(Solution().findKthLargest(nums,k))"
   ]
  },
  {
   "cell_type": "code",
   "execution_count": 2,
   "metadata": {},
   "outputs": [
    {
     "name": "stdout",
     "output_type": "stream",
     "text": [
      "5\n"
     ]
    }
   ],
   "source": [
    "class Solution:\n",
    "    def findKthLargest(self, nums, k: int):\n",
    "        '''\n",
    "        :param nums: List[int]\n",
    "        :param k: int\n",
    "        :return: int\n",
    "        '''\n",
    "        left, right = 0, len(nums) - 1\n",
    "        while True:\n",
    "            pos = self.partition(nums, left, right)\n",
    "            if pos == k - 1:\n",
    "                return nums[pos]\n",
    "            elif pos > k - 1:\n",
    "                right = pos - 1\n",
    "            else:\n",
    "                left = pos + 1\n",
    "\n",
    "    def partition(self, nums, left, right):\n",
    "        pivot = nums[left]\n",
    "        l = left + 1\n",
    "        r = right\n",
    "        while l <= r:\n",
    "            if nums[l] < pivot and nums[r] > pivot:\n",
    "                nums[l], nums[r] = nums[r], nums[l]\n",
    "                l += 1\n",
    "                r -= 1\n",
    "            if nums[l] >= pivot:\n",
    "                l += 1\n",
    "            if nums[r] <= pivot:\n",
    "                r -= 1\n",
    "        nums[left], nums[r] = nums[r], nums[left]\n",
    "        return r\n",
    "# test\n",
    "nums = [3,2,1,5,6,4]\n",
    "k = 2\n",
    "print(Solution().findKthLargest(nums,k))"
   ]
  }
 ],
 "metadata": {
  "kernelspec": {
   "display_name": "Python 3",
   "language": "python",
   "name": "python3"
  },
  "language_info": {
   "codemirror_mode": {
    "name": "ipython",
    "version": 3
   },
   "file_extension": ".py",
   "mimetype": "text/x-python",
   "name": "python",
   "nbconvert_exporter": "python",
   "pygments_lexer": "ipython3",
   "version": "3.6.4"
  }
 },
 "nbformat": 4,
 "nbformat_minor": 2
}
