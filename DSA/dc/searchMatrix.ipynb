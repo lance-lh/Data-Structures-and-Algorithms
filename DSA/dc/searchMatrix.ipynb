{
 "cells": [
  {
   "cell_type": "markdown",
   "metadata": {},
   "source": [
    "Write an efficient algorithm that searches for a value in an m x n matrix. This matrix has the following properties:\n",
    "\n",
    "- Integers in each row are sorted in ascending from left to right.\n",
    "- Integers in each column are sorted in ascending from top to bottom.\n",
    "\n",
    "Example:\n",
    "\n",
    "Consider the following matrix:\n",
    "\n",
    "    [\n",
    "      [1,   4,  7, 11, 15],\n",
    "      [2,   5,  8, 12, 19],\n",
    "      [3,   6,  9, 16, 22],\n",
    "      [10, 13, 14, 17, 24],\n",
    "      [18, 21, 23, 26, 30]\n",
    "    ]\n",
    "Given target = 5, return true.\n",
    "\n",
    "Given target = 20, return false."
   ]
  },
  {
   "cell_type": "code",
   "execution_count": 1,
   "metadata": {},
   "outputs": [
    {
     "data": {
      "text/plain": [
       "True"
      ]
     },
     "execution_count": 1,
     "metadata": {},
     "output_type": "execute_result"
    }
   ],
   "source": [
    "class Solution:\n",
    "    def searchMatrix(self, matrix, target):\n",
    "        \"\"\"\n",
    "        :type matrix: List[List[int]]\n",
    "        :type target: int\n",
    "        :rtype: bool\n",
    "        \"\"\"\n",
    "        if not matrix:\n",
    "            return False\n",
    "        m,n = len(matrix), len(matrix[0])\n",
    "        i, j = 0, n-1\n",
    "        while i < m and j >= 0:\n",
    "            if matrix[i][j] < target:\n",
    "                i += 1\n",
    "            elif matrix[i][j] > target:\n",
    "                j -= 1\n",
    "            else:\n",
    "                return True\n",
    "        return False\n",
    "    \n",
    "# test\n",
    "a = [\n",
    "  [1,   4,  7, 11, 15],\n",
    "  [2,   5,  8, 12, 19],\n",
    "  [3,   6,  9, 16, 22],\n",
    "  [10, 13, 14, 17, 24],\n",
    "  [18, 21, 23, 26, 30]\n",
    "]\n",
    "target = 5\n",
    "Solution().searchMatrix(a,target)"
   ]
  }
 ],
 "metadata": {
  "kernelspec": {
   "display_name": "Python 3",
   "language": "python",
   "name": "python3"
  },
  "language_info": {
   "codemirror_mode": {
    "name": "ipython",
    "version": 3
   },
   "file_extension": ".py",
   "mimetype": "text/x-python",
   "name": "python",
   "nbconvert_exporter": "python",
   "pygments_lexer": "ipython3",
   "version": "3.6.4"
  }
 },
 "nbformat": 4,
 "nbformat_minor": 2
}
