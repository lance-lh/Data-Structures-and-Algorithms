{
 "cells": [
  {
   "cell_type": "markdown",
   "metadata": {},
   "source": [
    "A subarray `A[i], A[i+1], ..., A[j]` of A is said to be turbulent if and only if:\n",
    "\n",
    "For `i <= k < j`, `A[k] > A[k+1]` when `k` is odd, and `A[k] < A[k+1]` when `k` is even;\n",
    "OR, for `i <= k < j`, `A[k] > A[k+1]` when `k` is even, and `A[k] < A[k+1]` when `k` is odd.\n",
    "That is, the subarray is turbulent if the comparison sign flips between each adjacent pair of elements in the subarray.\n",
    "\n",
    "Return the length of a maximum size turbulent subarray of A.\n",
    "\n",
    " \n",
    "\n",
    "Example 1:\n",
    "\n",
    "    Input: [9,4,2,10,7,8,8,1,9]\n",
    "    Output: 5\n",
    "    Explanation: (A[1] > A[2] < A[3] > A[4] < A[5])\n",
    "Example 2:\n",
    "\n",
    "    Input: [4,8,12,16]\n",
    "    Output: 2\n",
    "Example 3:\n",
    "\n",
    "    Input: [100]\n",
    "    Output: 1\n",
    " \n",
    "\n",
    "Note:\n",
    "\n",
    "1. 1 <= A.length <= 40000\n",
    "2. 0 <= A[i] <= 10^9"
   ]
  },
  {
   "cell_type": "code",
   "execution_count": 1,
   "metadata": {},
   "outputs": [
    {
     "data": {
      "text/plain": [
       "5"
      ]
     },
     "execution_count": 1,
     "metadata": {},
     "output_type": "execute_result"
    }
   ],
   "source": [
    "# sliding window with time complexity O(n)\n",
    "class Solution:\n",
    "    def maxTurbulenceSize(self, A):\n",
    "        '''\n",
    "        A: List[int]\n",
    "        return: int\n",
    "        '''\n",
    "        res = 1\n",
    "        flag = 0\n",
    "        \n",
    "        for i in range(1, len(A)):\n",
    "            c = (A[i - 1] > A[i]) - (A[i - 1] < A[i])\n",
    "            if c == 0:\n",
    "                flag = i\n",
    "            elif i == len(A) - 1 or c * ((A[i] > A[i + 1]) - (A[i] < A[i + 1])) != -1:\n",
    "                res = max(res, i - flag + 1)\n",
    "                flag = i\n",
    "        return res\n",
    "\n",
    "# test    \n",
    "A = [9,4,2,10,7,8,8,1,9]\n",
    "Solution().maxTurbulenceSize(A)"
   ]
  }
 ],
 "metadata": {
  "kernelspec": {
   "display_name": "Python 3",
   "language": "python",
   "name": "python3"
  },
  "language_info": {
   "codemirror_mode": {
    "name": "ipython",
    "version": 3
   },
   "file_extension": ".py",
   "mimetype": "text/x-python",
   "name": "python",
   "nbconvert_exporter": "python",
   "pygments_lexer": "ipython3",
   "version": "3.6.4"
  }
 },
 "nbformat": 4,
 "nbformat_minor": 2
}
