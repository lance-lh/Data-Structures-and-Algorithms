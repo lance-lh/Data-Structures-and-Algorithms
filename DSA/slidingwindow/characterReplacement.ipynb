{
 "cells": [
  {
   "cell_type": "markdown",
   "metadata": {},
   "source": [
    "Given a string that consists of only uppercase English letters, you can replace any letter in the string with another letter at most k times. Find the length of a longest substring containing all repeating letters you can get after performing the above operations.\n",
    "\n",
    "Note:\n",
    "\n",
    "    Both the string's length and k will not exceed 104.\n",
    "\n",
    "Example 1:\n",
    "\n",
    "    Input:\n",
    "    s = \"ABAB\", k = 2\n",
    "\n",
    "    Output:\n",
    "    4\n",
    "\n",
    "    Explanation:\n",
    "    Replace the two 'A's with two 'B's or vice versa.\n",
    "Example 2:\n",
    "\n",
    "    Input:\n",
    "    s = \"AABABBA\", k = 1\n",
    "\n",
    "    Output:\n",
    "    4\n",
    "\n",
    "    Explanation:\n",
    "    Replace the one 'A' in the middle with 'B' and form \"AABBBBA\".\n",
    "    The substring \"BBBB\" has the longest repeating letters, which is 4."
   ]
  },
  {
   "cell_type": "code",
   "execution_count": 1,
   "metadata": {},
   "outputs": [
    {
     "name": "stdout",
     "output_type": "stream",
     "text": [
      "4\n"
     ]
    }
   ],
   "source": [
    "class Solution:\n",
    "    def characterReplacement(self, s: str, k: int) -> int:\n",
    "        '''\n",
    "        :param s: str\n",
    "        :param k: int\n",
    "        :return: int\n",
    "        '''\n",
    "\n",
    "        # idea: use sliding window, move end and obtain the freq of each letter.\n",
    "        # get the max_cnt, if end-start+1-max_cnt > k, need to reduce count of start by 1,\n",
    "        # and move start forward. update the max_len.\n",
    "        # Time O(n), Space O(1).\n",
    "        # only 26 letters, can use array; other case, can use Counter\n",
    "\n",
    "        from collections import Counter\n",
    "        count = Counter() # count = [0] * 26\n",
    "        start, max_cnt, max_len = 0, 0, 0\n",
    "        for end in range(len(s)):\n",
    "            count[s[end]] += 1 # count[ord(s[end]) - ord('A')] += 1\n",
    "            max_cnt = max(max_cnt, count[s[end]])\n",
    "            while end - start + 1 - max_cnt > k: # need to reduce the sliding window\n",
    "                count[s[start]] -= 1 # reduce the count of start letter\n",
    "                start += 1 # move forward start\n",
    "            max_len = max(max_len, end - start + 1)\n",
    "        return max_len\n",
    "\n",
    "s = \"AABABBA\"\n",
    "k = 1\n",
    "print(Solution().characterReplacement(s,k))"
   ]
  }
 ],
 "metadata": {
  "kernelspec": {
   "display_name": "Python 3",
   "language": "python",
   "name": "python3"
  },
  "language_info": {
   "codemirror_mode": {
    "name": "ipython",
    "version": 3
   },
   "file_extension": ".py",
   "mimetype": "text/x-python",
   "name": "python",
   "nbconvert_exporter": "python",
   "pygments_lexer": "ipython3",
   "version": "3.6.4"
  }
 },
 "nbformat": 4,
 "nbformat_minor": 2
}
