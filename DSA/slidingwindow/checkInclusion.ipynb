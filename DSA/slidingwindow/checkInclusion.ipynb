{
 "cells": [
  {
   "cell_type": "markdown",
   "metadata": {},
   "source": [
    "Given two strings s1 and s2, write a function to return true if s2 contains the permutation of s1. In other words, one of the first string's permutations is the substring of the second string.\n",
    "\n",
    "Example 1:\n",
    "\n",
    "    Input: s1 = \"ab\" s2 = \"eidbaooo\"\n",
    "    Output: True\n",
    "    Explanation: s2 contains one permutation of s1 (\"ba\").\n",
    "Example 2:\n",
    "\n",
    "    Input:s1= \"ab\" s2 = \"eidboaoo\"\n",
    "    Output: False\n",
    " \n",
    "\n",
    "Note:\n",
    "\n",
    "    The input strings only contain lower case letters.\n",
    "    The length of both given strings is in range [1, 10,000].\n"
   ]
  },
  {
   "cell_type": "markdown",
   "metadata": {},
   "source": [
    "- [Java Solution, Sliding Window](https://leetcode.com/problems/permutation-in-string/discuss/102588/Java-Solution-Sliding-Window)\n",
    "\n",
    "> How do we know string p is a permutation of string s? Easy, each character in p is in s too. So we can abstract all permutation strings of s to a map (Character -> Count). i.e. abba -> {a:2, b:2}. Since there are only 26 lower case letters in this problem, we can just use an array to represent the map.\n",
    ">\n",
    "> How do we know string s2 contains a permutation of s1? We just need to create a sliding window with length of s1, move from beginning to the end of s2. When a character moves in from right of the window, we subtract 1 to that character count from the map. When a character moves out from left of the window, we add 1 to that character count. So once we see all zeros in the map, meaning equal numbers of every characters between s1 and the substring in the sliding window, we know the answer is true.\n"
   ]
  },
  {
   "cell_type": "code",
   "execution_count": 1,
   "metadata": {},
   "outputs": [
    {
     "data": {
      "text/plain": [
       "False"
      ]
     },
     "execution_count": 1,
     "metadata": {},
     "output_type": "execute_result"
    }
   ],
   "source": [
    "class Solution:\n",
    "    def checkInclusion(self, s1: str, s2: str) -> bool:\n",
    "        \"\"\"\n",
    "        :type s1: str\n",
    "        :type s2: str\n",
    "        :rtype: bool\n",
    "        \"\"\"\n",
    "\n",
    "\n",
    "        if len(s1) > len(s2):\n",
    "            return False\n",
    "\n",
    "        from collections import Counter\n",
    "        count = Counter()\n",
    "\n",
    "        for i in range(len(s1)):\n",
    "            count[s1[i]] += 1\n",
    "            count[s2[i]] -= 1\n",
    "        if self.Iszero(count):\n",
    "            return True\n",
    "\n",
    "        for i in range(len(s1),len(s2)):\n",
    "            count[s2[i]] -= 1\n",
    "            count[s2[i - len(s1)]] += 1\n",
    "            if self.Iszero(count):\n",
    "                return True\n",
    "        return False\n",
    "\n",
    "    def Iszero(self, count):\n",
    "        for i in count:\n",
    "            if count[i] != 0:\n",
    "                return False\n",
    "        return True\n",
    "\n",
    "    \n",
    "# test\n",
    "s1 = \"ab\"\n",
    "s2 = \"eidboaoo\"\n",
    "Solution().checkInclusion(s1,s2)"
   ]
  },
  {
   "cell_type": "code",
   "execution_count": 2,
   "metadata": {},
   "outputs": [
    {
     "data": {
      "text/plain": [
       "False"
      ]
     },
     "execution_count": 2,
     "metadata": {},
     "output_type": "execute_result"
    }
   ],
   "source": [
    "class Solution:\n",
    "    def checkInclusion(self, s1: str, s2: str) -> bool:\n",
    "        \"\"\"\n",
    "        :type s1: str\n",
    "        :type s2: str\n",
    "        :rtype: bool\n",
    "        \"\"\"\n",
    "        # same idea, but low complexity\n",
    "        if len(s1) > len(s2):\n",
    "            return False\n",
    "\n",
    "        map1 = [0] * 26\n",
    "        map2 = [0] * 26\n",
    "        i = 0\n",
    "        while i < len(s1):\n",
    "            map1[ord(s1[i]) - ord('a')] += 1\n",
    "            map2[ord(s2[i]) - ord('a')] += 1\n",
    "            i += 1\n",
    "\n",
    "        if map1 == map2:\n",
    "            return True\n",
    "\n",
    "        left = 0\n",
    "        right = len(s1)\n",
    "        while right < len(s2):\n",
    "            map2[ord(s2[right]) - ord('a')] += 1\n",
    "            map2[ord(s2[left]) - ord('a')] -= 1\n",
    "            left += 1\n",
    "            right += 1\n",
    "\n",
    "            if map1 == map2:\n",
    "                return True\n",
    "\n",
    "        return False\n",
    "\n",
    "# test\n",
    "s1 = \"ab\"\n",
    "s2 = \"eidboaoo\"\n",
    "Solution().checkInclusion(s1,s2)"
   ]
  }
 ],
 "metadata": {
  "kernelspec": {
   "display_name": "Python 3",
   "language": "python",
   "name": "python3"
  },
  "language_info": {
   "codemirror_mode": {
    "name": "ipython",
    "version": 3
   },
   "file_extension": ".py",
   "mimetype": "text/x-python",
   "name": "python",
   "nbconvert_exporter": "python",
   "pygments_lexer": "ipython3",
   "version": "3.6.4"
  }
 },
 "nbformat": 4,
 "nbformat_minor": 2
}
