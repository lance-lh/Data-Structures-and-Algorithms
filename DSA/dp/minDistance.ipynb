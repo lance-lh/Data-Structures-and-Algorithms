{
 "cells": [
  {
   "cell_type": "markdown",
   "metadata": {},
   "source": [
    "Given two words word1 and word2, find the minimum number of operations required to convert word1 to word2.\n",
    "\n",
    "You have the following 3 operations permitted on a word:\n",
    "\n",
    "    Insert a character\n",
    "    Delete a character\n",
    "    Replace a character\n",
    "Example 1:\n",
    "\n",
    "    Input: word1 = \"horse\", word2 = \"ros\"\n",
    "    Output: 3\n",
    "    Explanation: \n",
    "    horse -> rorse (replace 'h' with 'r')\n",
    "    rorse -> rose (remove 'r')\n",
    "    rose -> ros (remove 'e')\n",
    "Example 2:\n",
    "\n",
    "    Input: word1 = \"intention\", word2 = \"execution\"\n",
    "    Output: 5\n",
    "    Explanation: \n",
    "    intention -> inention (remove 't')\n",
    "    inention -> enention (replace 'i' with 'e')\n",
    "    enention -> exention (replace 'n' with 'x')\n",
    "    exention -> exection (replace 'n' with 'c')\n",
    "    exection -> execution (insert 'u')"
   ]
  },
  {
   "cell_type": "markdown",
   "metadata": {},
   "source": [
    "- [Edit Distance 编辑距离](https://www.cnblogs.com/grandyang/p/4344107.html)"
   ]
  },
  {
   "cell_type": "code",
   "execution_count": 1,
   "metadata": {},
   "outputs": [
    {
     "data": {
      "text/plain": [
       "5"
      ]
     },
     "execution_count": 1,
     "metadata": {},
     "output_type": "execute_result"
    }
   ],
   "source": [
    "class Solution:\n",
    "    def minDistance(self, word1: str, word2: str) -> int:\n",
    "        len1 = len(word1) + 1\n",
    "        len2 = len(word2) + 1\n",
    "        \n",
    "        dp = [[0 for i in range(len2)] for j in range(len1)]\n",
    "        \n",
    "        for i in range(len1):\n",
    "            dp[i][0] = i\n",
    "        for j in range(len2):\n",
    "            dp[0][j] = j\n",
    "            \n",
    "        for i in range(1, len1):\n",
    "            for j in range(1, len2):\n",
    "                if word1[i - 1] == word2[j - 1]:\n",
    "                    dp[i][j] = dp [i -1][j - 1]\n",
    "                else:\n",
    "                    dp[i][j] = min(dp[i - 1][j - 1], min(dp[i - 1][j], dp[i][j - 1])) + 1\n",
    "        return dp[-1][-1]\n",
    "    \n",
    "# test\n",
    "word1 = \"intention\"\n",
    "word2 = \"execution\"\n",
    "Solution().minDistance(word1, word2)"
   ]
  }
 ],
 "metadata": {
  "kernelspec": {
   "display_name": "Python 3",
   "language": "python",
   "name": "python3"
  },
  "language_info": {
   "codemirror_mode": {
    "name": "ipython",
    "version": 3
   },
   "file_extension": ".py",
   "mimetype": "text/x-python",
   "name": "python",
   "nbconvert_exporter": "python",
   "pygments_lexer": "ipython3",
   "version": "3.6.4"
  }
 },
 "nbformat": 4,
 "nbformat_minor": 2
}
