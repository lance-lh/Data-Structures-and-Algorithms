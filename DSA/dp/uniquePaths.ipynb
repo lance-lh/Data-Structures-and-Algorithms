{
 "cells": [
  {
   "cell_type": "markdown",
   "metadata": {},
   "source": [
    "A robot is located at the top-left corner of a m x n grid (marked 'Start' in the diagram below).\n",
    "\n",
    "The robot can only move either down or right at any point in time. The robot is trying to reach the bottom-right corner of the grid (marked 'Finish' in the diagram below).\n",
    "\n",
    "How many possible unique paths are there?\n",
    "\n",
    "![](https://assets.leetcode.com/uploads/2018/10/22/robot_maze.png)\n",
    "\n",
    "Above is a 7 x 3 grid. How many possible unique paths are there?\n",
    "\n",
    "Note: m and n will be at most 100.\n",
    "\n",
    "Example 1:\n",
    "\n",
    "    Input: m = 3, n = 2\n",
    "    Output: 3\n",
    "    Explanation:\n",
    "    From the top-left corner, there are a total of 3 ways to reach the bottom-right corner:\n",
    "    1. Right -> Right -> Down\n",
    "    2. Right -> Down -> Right\n",
    "    3. Down -> Right -> Right\n",
    "Example 2:\n",
    "\n",
    "    Input: m = 7, n = 3\n",
    "    Output: 28"
   ]
  },
  {
   "cell_type": "code",
   "execution_count": 1,
   "metadata": {},
   "outputs": [
    {
     "data": {
      "text/plain": [
       "28"
      ]
     },
     "execution_count": 1,
     "metadata": {},
     "output_type": "execute_result"
    }
   ],
   "source": [
    "class Solution(object):\n",
    "    def uniquePaths(self, m, n):\n",
    "        \"\"\"\n",
    "        :type m: int\n",
    "        :type n: int\n",
    "        :rtype: int\n",
    "        \"\"\"\n",
    "        dp = [[1 for j in range(m)] for i in range(n)]\n",
    "        \n",
    "        # for j in range(m):\n",
    "        #     dp[0][j] = 1\n",
    "        # for i in range(n):\n",
    "        #     dp[i][0] = 1\n",
    "        \n",
    "        for i in range(1,n):\n",
    "            for j in range(1,m):\n",
    "                dp[i][j] = dp[i - 1][j] + dp[i][j - 1]\n",
    "        return dp[-1][-1]\n",
    "\n",
    "# test\n",
    "m = 7\n",
    "n = 3\n",
    "Solution().uniquePaths(m, n)"
   ]
  }
 ],
 "metadata": {
  "kernelspec": {
   "display_name": "Python 3",
   "language": "python",
   "name": "python3"
  },
  "language_info": {
   "codemirror_mode": {
    "name": "ipython",
    "version": 3
   },
   "file_extension": ".py",
   "mimetype": "text/x-python",
   "name": "python",
   "nbconvert_exporter": "python",
   "pygments_lexer": "ipython3",
   "version": "3.6.4"
  }
 },
 "nbformat": 4,
 "nbformat_minor": 2
}
