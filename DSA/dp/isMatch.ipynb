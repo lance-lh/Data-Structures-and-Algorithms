{
 "cells": [
  {
   "cell_type": "markdown",
   "metadata": {},
   "source": [
    "Given an input string (s) and a pattern (p), implement regular expression matching with support for `'.'` and `'*'`.\n",
    "\n",
    "    '.' Matches any single character.\n",
    "    '*' Matches zero or more of the preceding element.\n",
    "    The matching should cover the entire input string (not partial).\n",
    "\n",
    "Note:\n",
    "\n",
    "- s could be empty and contains only lowercase letters a-z.\n",
    "- p could be empty and contains only lowercase letters a-z, and characters like . or *.\n",
    "\n",
    "Example 1:\n",
    "\n",
    "    Input:\n",
    "    s = \"aa\"\n",
    "    p = \"a\"\n",
    "    Output: false\n",
    "    Explanation: \"a\" does not match the entire string \"aa\".\n",
    "    \n",
    "Example 2:\n",
    "\n",
    "    Input:\n",
    "    s = \"aa\"\n",
    "    p = \"a*\"\n",
    "    Output: true\n",
    "    Explanation: '*' means zero or more of the precedeng element, 'a'. Therefore, by repeating 'a' once, it becomes \"aa\".\n",
    "    \n",
    "Example 3:\n",
    "\n",
    "    Input:\n",
    "    s = \"ab\"\n",
    "    p = \".*\"\n",
    "    Output: true\n",
    "    Explanation: \".*\" means \"zero or more (*) of any character (.)\".\n",
    "    \n",
    "Example 4:\n",
    "\n",
    "    Input:\n",
    "    s = \"aab\"\n",
    "    p = \"c*a*b\"\n",
    "    Output: true\n",
    "    Explanation: c can be repeated 0 times, a can be repeated 1 time. Therefore it matches \"aab\".\n",
    "    \n",
    "Example 5:\n",
    "\n",
    "    Input:\n",
    "    s = \"mississippi\"\n",
    "    p = \"mis*is*p*.\"\n",
    "    Output: false"
   ]
  },
  {
   "cell_type": "markdown",
   "metadata": {},
   "source": [
    "[【LeetCode】正则表达式匹配（动态规划）](https://www.cnblogs.com/mfrank/p/10472663.html)"
   ]
  },
  {
   "cell_type": "code",
   "execution_count": 1,
   "metadata": {},
   "outputs": [
    {
     "data": {
      "text/plain": [
       "True"
      ]
     },
     "execution_count": 1,
     "metadata": {},
     "output_type": "execute_result"
    }
   ],
   "source": [
    "# recursion, very slow\n",
    "\n",
    "class Solution:\n",
    "    def isMatch(self, s: str, p: str) -> bool:\n",
    "        if not p:\n",
    "            return not s\n",
    "        \n",
    "        first_try = bool(s) and p[0] in {s[0],'.'}\n",
    "        \n",
    "        if len(p) >= 2 and p[1] == '*':\n",
    "            return self.isMatch(s,p[2:]) or first_try and self.isMatch(s[1:],p)\n",
    "        else:\n",
    "            return first_try and self.isMatch(s[1:],p[1:])\n",
    "        \n",
    "# test\n",
    "s = \"ab\"\n",
    "p = \".*\"\n",
    "Solution().isMatch(s,p)"
   ]
  },
  {
   "cell_type": "code",
   "execution_count": 2,
   "metadata": {},
   "outputs": [
    {
     "data": {
      "text/plain": [
       "True"
      ]
     },
     "execution_count": 2,
     "metadata": {},
     "output_type": "execute_result"
    }
   ],
   "source": [
    "# dp,  bottom to up\n",
    "class Solution:\n",
    "    def isMatch(self, s: str, p: str) -> bool:\n",
    "        dp = [[False]*(len(p)+1) for _ in range(len(s)+1)]\n",
    "        dp[-1][-1] = True\n",
    "        for i in range(len(s),-1,-1):\n",
    "            for j in range(len(p)-1,-1,-1):\n",
    "                first_try = i < len(s) and p[j] in {s[i],'.'}\n",
    "                if j+1 < len(p) and p[j+1] == '*':\n",
    "                    dp[i][j] = dp[i][j+2] or first_try and dp[i+1][j]\n",
    "                else:\n",
    "                    dp[i][j] = first_try and dp[i+1][j+1]\n",
    "        return dp[0][0]\n",
    "\n",
    "# test\n",
    "s = \"ab\"\n",
    "p = \".*\"\n",
    "Solution().isMatch(s,p)"
   ]
  }
 ],
 "metadata": {
  "kernelspec": {
   "display_name": "Python 3",
   "language": "python",
   "name": "python3"
  },
  "language_info": {
   "codemirror_mode": {
    "name": "ipython",
    "version": 3
   },
   "file_extension": ".py",
   "mimetype": "text/x-python",
   "name": "python",
   "nbconvert_exporter": "python",
   "pygments_lexer": "ipython3",
   "version": "3.6.4"
  }
 },
 "nbformat": 4,
 "nbformat_minor": 2
}
