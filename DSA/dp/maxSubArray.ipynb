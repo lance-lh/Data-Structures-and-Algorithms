{
 "cells": [
  {
   "cell_type": "markdown",
   "metadata": {},
   "source": [
    "Given an integer array nums, find the contiguous subarray (containing at least one number) which has the largest sum and return its sum.\n",
    "\n",
    "Example:\n",
    "\n",
    "    Input: [-2,1,-3,4,-1,2,1,-5,4],\n",
    "    Output: 6\n",
    "    Explanation: [4,-1,2,1] has the largest sum = 6.\n",
    "Follow up:\n",
    "\n",
    "    If you have figured out the `O(n)` solution, try coding another solution using the divide and conquer approach, which is more subtle."
   ]
  },
  {
   "cell_type": "code",
   "execution_count": 1,
   "metadata": {},
   "outputs": [
    {
     "data": {
      "text/plain": [
       "6"
      ]
     },
     "execution_count": 1,
     "metadata": {},
     "output_type": "execute_result"
    }
   ],
   "source": [
    "class Solution:\n",
    "    def maxSubArray(self, nums):\n",
    "        '''\n",
    "        nums: List[int]\n",
    "        return: int\n",
    "        '''\n",
    "        dp = [0 for i in range(len(nums))]\n",
    "        dp[0] = nums[0]\n",
    "        for i in range(1, len(nums)):\n",
    "            dp[i] = max(dp[i - 1] + nums[i], nums[i])\n",
    "        return max(dp)\n",
    "            \n",
    "# test\n",
    "a = [-2,1,-3,4,-1,2,1,-5,4]\n",
    "Solution().maxSubArray(a)"
   ]
  }
 ],
 "metadata": {
  "kernelspec": {
   "display_name": "Python 3",
   "language": "python",
   "name": "python3"
  },
  "language_info": {
   "codemirror_mode": {
    "name": "ipython",
    "version": 3
   },
   "file_extension": ".py",
   "mimetype": "text/x-python",
   "name": "python",
   "nbconvert_exporter": "python",
   "pygments_lexer": "ipython3",
   "version": "3.6.4"
  }
 },
 "nbformat": 4,
 "nbformat_minor": 2
}
