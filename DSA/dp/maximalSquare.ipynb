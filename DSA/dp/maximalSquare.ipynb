{
 "cells": [
  {
   "cell_type": "markdown",
   "metadata": {},
   "source": [
    "Given a 2D binary matrix filled with 0's and 1's, find the largest square containing only 1's and return its area.\n",
    "\n",
    "Example:\n",
    "\n",
    "    Input: \n",
    "\n",
    "    1 0 1 0 0\n",
    "    1 0 1 1 1\n",
    "    1 1 1 1 1\n",
    "    1 0 0 1 0\n",
    "\n",
    "    Output: 4"
   ]
  },
  {
   "cell_type": "code",
   "execution_count": 1,
   "metadata": {},
   "outputs": [
    {
     "name": "stdout",
     "output_type": "stream",
     "text": [
      "4\n"
     ]
    }
   ],
   "source": [
    "class Solution:\n",
    "    def maximalSquare(self, matrix):\n",
    "        '''\n",
    "        :param matrix: List[List[str]]\n",
    "        :return: int\n",
    "        '''\n",
    "        if not matrix:\n",
    "            return 0\n",
    "        m = len(matrix)\n",
    "        n = len(matrix[0])\n",
    "        dp = [[int(matrix[i][j]) for j in range(n)] for i in range(m)]\n",
    "        # for i in range(m):\n",
    "        #     dp[i][0] = matrix[i][0]\n",
    "        # for j in range(n):\n",
    "        #     dp[0][j] = matrix[0][j]\n",
    "\n",
    "        # in case only 1\n",
    "        res = max(max(dp))\n",
    "        for i in range(1, m):\n",
    "            for j in range(1, n):\n",
    "                # if matrix[i][j] == '1':\n",
    "                dp[i][j] = (min(dp[i - 1][j], dp[i][j - 1], dp[i - 1][j - 1]) + 1) * int(matrix[i][j])\n",
    "                # else:\n",
    "                # dp[i][j] = 0\n",
    "                res = max(res, dp[i][j])\n",
    "        return res ** 2\n",
    "\n",
    "\n",
    "# test\n",
    "matrix = [[\"1\",\"0\",\"1\",\"0\",\"0\"],[\"1\",\"0\",\"1\",\"1\",\"1\"],[\"1\",\"1\",\"1\",\"1\",\"1\"],[\"1\",\"0\",\"0\",\"1\",\"0\"]]\n",
    "print(Solution().maximalSquare(matrix))"
   ]
  }
 ],
 "metadata": {
  "kernelspec": {
   "display_name": "Python 3",
   "language": "python",
   "name": "python3"
  },
  "language_info": {
   "codemirror_mode": {
    "name": "ipython",
    "version": 3
   },
   "file_extension": ".py",
   "mimetype": "text/x-python",
   "name": "python",
   "nbconvert_exporter": "python",
   "pygments_lexer": "ipython3",
   "version": "3.6.4"
  }
 },
 "nbformat": 4,
 "nbformat_minor": 2
}
