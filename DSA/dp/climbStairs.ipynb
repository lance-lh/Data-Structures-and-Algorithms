{
 "cells": [
  {
   "cell_type": "markdown",
   "metadata": {},
   "source": [
    "You are climbing a stair case. It takes n steps to reach to the top.\n",
    "\n",
    "Each time you can either climb 1 or 2 steps. In how many distinct ways can you climb to the top?\n",
    "\n",
    "Note: Given n will be a positive integer.\n",
    "\n",
    "Example 1:\n",
    "\n",
    "    Input: 2\n",
    "    Output: 2\n",
    "    Explanation: There are two ways to climb to the top.\n",
    "        1. 1 step + 1 step\n",
    "        2. 2 steps\n",
    "Example 2:\n",
    "\n",
    "    Input: 3\n",
    "    Output: 3\n",
    "    Explanation: There are three ways to climb to the top.\n",
    "        1. 1 step + 1 step + 1 step\n",
    "        2. 1 step + 2 steps\n",
    "        3. 2 steps + 1 step"
   ]
  },
  {
   "cell_type": "markdown",
   "metadata": {},
   "source": [
    "- [Python different solutions (bottom up, top down)](https://leetcode.com/problems/climbing-stairs/discuss/25313/Python-different-solutions-(bottom-up-top-down)\n",
    "\n",
    "- [什么是动态规划？动态规划的意义是什么？](https://www.zhihu.com/question/23995189)\n",
    "\n",
    "- [动态规划](https://hit-alibaba.github.io/interview/basic/algo/DP.html?q=)\n",
    "\n",
    "- [漫画：什么是动态规划？](https://juejin.im/post/5a29d52cf265da43333e4da7)"
   ]
  },
  {
   "cell_type": "code",
   "execution_count": 1,
   "metadata": {},
   "outputs": [
    {
     "data": {
      "text/plain": [
       "89"
      ]
     },
     "execution_count": 1,
     "metadata": {},
     "output_type": "execute_result"
    }
   ],
   "source": [
    "class Solution:\n",
    "    def climbStairs(self, n: int) -> int:\n",
    "        if n == 1:\n",
    "            return 1\n",
    "        if n == 2:\n",
    "            return 2\n",
    "        return self.climbStairs(n - 1) + self.climbStairs(n - 2)\n",
    "    \n",
    "# test\n",
    "n = 10\n",
    "Solution().climbStairs(n)"
   ]
  },
  {
   "cell_type": "code",
   "execution_count": 2,
   "metadata": {},
   "outputs": [
    {
     "data": {
      "text/plain": [
       "89"
      ]
     },
     "execution_count": 2,
     "metadata": {},
     "output_type": "execute_result"
    }
   ],
   "source": [
    "class Solution:\n",
    "    def climbStairs(self, n: int) -> int:\n",
    "        if n == 1:\n",
    "            return 1\n",
    "        dic = [-1 for i in range(n)]\n",
    "        dic[0], dic[1] = 1, 2\n",
    "        return self.memo(n-1, dic)\n",
    "    \n",
    "    def memo(self, n, dic):\n",
    "        if dic[n] < 0:\n",
    "            dic[n] = self.memo(n-1, dic)+self.memo(n-2, dic)\n",
    "        return dic[n]\n",
    " \n",
    "\n",
    "# test\n",
    "n = 10\n",
    "Solution().climbStairs(n)"
   ]
  },
  {
   "cell_type": "code",
   "execution_count": 3,
   "metadata": {},
   "outputs": [
    {
     "data": {
      "text/plain": [
       "89"
      ]
     },
     "execution_count": 3,
     "metadata": {},
     "output_type": "execute_result"
    }
   ],
   "source": [
    "class Solution:\n",
    "    def climbStairs(self, n: int) -> int:\n",
    "        if n == 1:\n",
    "            return 1\n",
    "        dp = [0] * (n+1)\n",
    "        dp[1] = 1\n",
    "        dp[2] = 2\n",
    "        for i in range(3,n+1):\n",
    "            dp[i] = dp[i-1] +dp[i-2]\n",
    "        return dp[n]\n",
    "\n",
    "# test\n",
    "n = 10\n",
    "Solution().climbStairs(n)"
   ]
  }
 ],
 "metadata": {
  "kernelspec": {
   "display_name": "Python 3",
   "language": "python",
   "name": "python3"
  },
  "language_info": {
   "codemirror_mode": {
    "name": "ipython",
    "version": 3
   },
   "file_extension": ".py",
   "mimetype": "text/x-python",
   "name": "python",
   "nbconvert_exporter": "python",
   "pygments_lexer": "ipython3",
   "version": "3.6.4"
  }
 },
 "nbformat": 4,
 "nbformat_minor": 2
}
