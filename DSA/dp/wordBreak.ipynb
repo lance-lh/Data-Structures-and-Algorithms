{
 "cells": [
  {
   "cell_type": "markdown",
   "metadata": {},
   "source": [
    "Given a non-empty string s and a dictionary wordDict containing a list of non-empty words, determine if s can be segmented into a space-separated sequence of one or more dictionary words.\n",
    "\n",
    "Note:\n",
    "\n",
    "The same word in the dictionary may be reused multiple times in the segmentation.\n",
    "You may assume the dictionary does not contain duplicate words.\n",
    "\n",
    "Example 1:\n",
    "\n",
    "    Input: s = \"leetcode\", wordDict = [\"leet\", \"code\"]\n",
    "    Output: true\n",
    "    Explanation: Return true because \"leetcode\" can be segmented as \"leet code\".\n",
    "Example 2:\n",
    "\n",
    "    Input: s = \"applepenapple\", wordDict = [\"apple\", \"pen\"]\n",
    "    Output: true\n",
    "    Explanation: Return true because \"applepenapple\" can be segmented as \"apple pen apple\".\n",
    "    Note that you are allowed to reuse a dictionary word.\n",
    "Example 3:\n",
    "\n",
    "    Input: s = \"catsandog\", wordDict = [\"cats\", \"dog\", \"sand\", \"and\", \"cat\"]\n",
    "    Output: false"
   ]
  },
  {
   "cell_type": "markdown",
   "metadata": {},
   "source": [
    "[Simple DP solution in Python with description](https://leetcode.com/problems/word-break/discuss/43808/Simple-DP-solution-in-Python-with-description)"
   ]
  },
  {
   "cell_type": "code",
   "execution_count": null,
   "metadata": {},
   "outputs": [],
   "source": [
    "class Solution:\n",
    "    def wordBreak(self, s: str, wordDict: List[str]) -> bool:\n",
    "        dp = [False] * len(s)\n",
    "        for i in range(len(s)):\n",
    "            for j in wordDict:\n",
    "                #d[i] is True if there is a word in the dictionary that ends at ith index of s \n",
    "                # AND d is also True at the beginning of the word\n",
    "                if j == s[i-len(j)+1:i+1] and (dp[i - len(j)] or i-len(j) == -1):\n",
    "                    dp[i] = True\n",
    "        return dp[-1]\n",
    "                    \n",
    "# test\n",
    "s = \"applepenapple\"\n",
    "wordDict = [\"apple\", \"pen\"]"
   ]
  }
 ],
 "metadata": {
  "kernelspec": {
   "display_name": "Python 3",
   "language": "python",
   "name": "python3"
  },
  "language_info": {
   "codemirror_mode": {
    "name": "ipython",
    "version": 3
   },
   "file_extension": ".py",
   "mimetype": "text/x-python",
   "name": "python",
   "nbconvert_exporter": "python",
   "pygments_lexer": "ipython3",
   "version": "3.6.4"
  }
 },
 "nbformat": 4,
 "nbformat_minor": 2
}
