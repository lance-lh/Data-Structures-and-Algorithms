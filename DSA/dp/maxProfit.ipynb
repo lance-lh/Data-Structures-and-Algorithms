{
 "cells": [
  {
   "cell_type": "markdown",
   "metadata": {},
   "source": [
    "Say you have an array for which the `ith` element is the price of a given stock on day `i`.\n",
    "\n",
    "If you were only permitted to complete at most one transaction (i.e., buy one and sell one share of the stock), design an algorithm to find the maximum profit.\n",
    "\n",
    "Note that you cannot sell a stock before you buy one.\n",
    "\n",
    "Example 1:\n",
    "\n",
    "    Input: [7,1,5,3,6,4]\n",
    "    Output: 5\n",
    "    Explanation: Buy on day 2 (price = 1) and sell on day 5 (price = 6), profit = 6-1 = 5.\n",
    "                 Not 7-1 = 6, as selling price needs to be larger than buying price.\n",
    "Example 2:\n",
    "\n",
    "    Input: [7,6,4,3,1]\n",
    "    Output: 0\n",
    "    Explanation: In this case, no transaction is done, i.e. max profit = 0."
   ]
  },
  {
   "cell_type": "code",
   "execution_count": 1,
   "metadata": {},
   "outputs": [
    {
     "data": {
      "text/plain": [
       "5"
      ]
     },
     "execution_count": 1,
     "metadata": {},
     "output_type": "execute_result"
    }
   ],
   "source": [
    "# one pass method\n",
    "# the key is to find minimum and maximum point\n",
    "\n",
    "class Solution:\n",
    "    def maxProfit(self, prices):\n",
    "        '''\n",
    "        prices: list\n",
    "        return: int\n",
    "        '''\n",
    "        if not prices: \n",
    "            return 0\n",
    "        \n",
    "        minval = prices[0]\n",
    "        maxval = 0\n",
    "        for i in range(1,len(prices)):\n",
    "            if prices[i] < minval:\n",
    "                minval = prices[i]\n",
    "            maxval = max(prices[i] - minval, maxval)\n",
    "        return maxval\n",
    "\n",
    "\n",
    "# test\n",
    "prices = [7,1,5,3,6,4]\n",
    "Solution().maxProfit(prices)"
   ]
  }
 ],
 "metadata": {
  "kernelspec": {
   "display_name": "Python 3",
   "language": "python",
   "name": "python3"
  },
  "language_info": {
   "codemirror_mode": {
    "name": "ipython",
    "version": 3
   },
   "file_extension": ".py",
   "mimetype": "text/x-python",
   "name": "python",
   "nbconvert_exporter": "python",
   "pygments_lexer": "ipython3",
   "version": "3.6.4"
  }
 },
 "nbformat": 4,
 "nbformat_minor": 2
}
