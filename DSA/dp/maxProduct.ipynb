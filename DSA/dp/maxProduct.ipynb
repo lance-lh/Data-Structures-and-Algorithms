{
 "cells": [
  {
   "cell_type": "markdown",
   "metadata": {},
   "source": [
    "Given an integer array `nums`, find the contiguous subarray within an array (containing at least one number) which has the largest product.\n",
    "\n",
    "Example 1:\n",
    "\n",
    "    Input: [2,3,-2,4]\n",
    "    Output: 6\n",
    "    Explanation: [2,3] has the largest product 6.\n",
    "Example 2:\n",
    "\n",
    "    Input: [-2,0,-1]\n",
    "    Output: 0\n",
    "    Explanation: The result cannot be 2, because [-2,-1] is not a subarray."
   ]
  },
  {
   "cell_type": "code",
   "execution_count": 1,
   "metadata": {},
   "outputs": [
    {
     "name": "stdout",
     "output_type": "stream",
     "text": [
      "12\n"
     ]
    }
   ],
   "source": [
    "class Solution:\n",
    "    def maxProduct(self, nums):\n",
    "        '''\n",
    "        :param nums: List[int]\n",
    "        :return: int\n",
    "        '''\n",
    "        res=curmax=curmin=nums[0]\n",
    "        for i in nums[1:]:\n",
    "            curmax, curmin = max(i, i*curmax, i*curmin), min(i, i*curmax, i*curmin)\n",
    "            res = max(res, curmax)\n",
    "        return res\n",
    "\n",
    "# test\n",
    "nums = [-4,-3,-2]\n",
    "print(Solution().maxProduct(nums))"
   ]
  }
 ],
 "metadata": {
  "kernelspec": {
   "display_name": "Python 3",
   "language": "python",
   "name": "python3"
  },
  "language_info": {
   "codemirror_mode": {
    "name": "ipython",
    "version": 3
   },
   "file_extension": ".py",
   "mimetype": "text/x-python",
   "name": "python",
   "nbconvert_exporter": "python",
   "pygments_lexer": "ipython3",
   "version": "3.6.4"
  }
 },
 "nbformat": 4,
 "nbformat_minor": 2
}
