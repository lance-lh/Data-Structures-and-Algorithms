{
 "cells": [
  {
   "cell_type": "markdown",
   "metadata": {},
   "source": [
    "Given a positive integer n, break it into the sum of at least two positive integers and maximize the product of those integers. Return the maximum product you can get.\n",
    "\n",
    "Example 1:\n",
    "\n",
    "    Input: 2\n",
    "    Output: 1\n",
    "    Explanation: 2 = 1 + 1, 1 × 1 = 1.\n",
    "Example 2:\n",
    "\n",
    "    Input: 10\n",
    "    Output: 36\n",
    "    Explanation: 10 = 3 + 3 + 4, 3 × 3 × 4 = 36.\n",
    "\n",
    "Note: You may assume that n is not less than 2 and not larger than 58."
   ]
  },
  {
   "cell_type": "code",
   "execution_count": 1,
   "metadata": {},
   "outputs": [
    {
     "data": {
      "text/plain": [
       "18"
      ]
     },
     "execution_count": 1,
     "metadata": {},
     "output_type": "execute_result"
    }
   ],
   "source": [
    "class Solution:\n",
    "    def integerBreak(self, n: int) -> int:\n",
    "        # n+1 since index from 1\n",
    "        dp = [1] * (n+1)\n",
    "        for i in range(2, n+1):\n",
    "            # search just half of n, since the remaining part is repeated\n",
    "            for j in range(1,i//2+1):\n",
    "                # e.g.,dp[8],1*7,2*6,3*5,4*4,5*3,6*2,7*1\n",
    "                # but each num can be broken into small int\n",
    "                # e.g., 3*5, we can denote it as max(3,dp[3])*max(5,dp[5])\n",
    "                dp[i] = max(dp[i],max(j,dp[j])*max(i-j,dp[i-j]))\n",
    "        return dp[n]\n",
    "# test\n",
    "n = 8\n",
    "Solution().integerBreak(n)"
   ]
  },
  {
   "cell_type": "code",
   "execution_count": 2,
   "metadata": {},
   "outputs": [
    {
     "data": {
      "text/plain": [
       "18"
      ]
     },
     "execution_count": 2,
     "metadata": {},
     "output_type": "execute_result"
    }
   ],
   "source": [
    "class Solution:\n",
    "    def integerBreak(self, n: int) -> int:\n",
    "        if n == 2 or n == 3:\n",
    "            return n - 1\n",
    "        if n == 4:\n",
    "            return 4\n",
    "        product = 1\n",
    "        while n > 4:\n",
    "            product *= 3\n",
    "            n -= 3\n",
    "        product *= n\n",
    "        return product\n",
    "    \n",
    "# test\n",
    "n = 8\n",
    "Solution().integerBreak(n)"
   ]
  }
 ],
 "metadata": {
  "kernelspec": {
   "display_name": "Python 3",
   "language": "python",
   "name": "python3"
  },
  "language_info": {
   "codemirror_mode": {
    "name": "ipython",
    "version": 3
   },
   "file_extension": ".py",
   "mimetype": "text/x-python",
   "name": "python",
   "nbconvert_exporter": "python",
   "pygments_lexer": "ipython3",
   "version": "3.6.4"
  }
 },
 "nbformat": 4,
 "nbformat_minor": 2
}
