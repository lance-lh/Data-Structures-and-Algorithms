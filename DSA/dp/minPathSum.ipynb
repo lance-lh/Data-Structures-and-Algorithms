{
 "cells": [
  {
   "cell_type": "markdown",
   "metadata": {},
   "source": [
    "Given a `m x n` grid filled with non-negative numbers, find a path from top left to bottom right which minimizes the sum of all numbers along its path.\n",
    "\n",
    "Note: You can only move either down or right at any point in time.\n",
    "\n",
    "Example:\n",
    "\n",
    "    Input:\n",
    "    [\n",
    "      [1,3,1],\n",
    "      [1,5,1],\n",
    "      [4,2,1]\n",
    "    ]\n",
    "    Output: 7\n",
    "    Explanation: Because the path 1→3→1→1→1 minimizes the sum."
   ]
  },
  {
   "cell_type": "code",
   "execution_count": 1,
   "metadata": {},
   "outputs": [
    {
     "name": "stdout",
     "output_type": "stream",
     "text": [
      "7\n",
      "2\n"
     ]
    }
   ],
   "source": [
    "class Solution(object):\n",
    "    def minPathSum(self, grid):\n",
    "        \"\"\"\n",
    "        :type grid: List[List[int]]\n",
    "        :rtype: int\n",
    "        \"\"\"\n",
    "        m = len(grid)\n",
    "        n = len(grid[0])\n",
    "        \n",
    "        dp = [[0 for j in range(n)] for i in range(m)]\n",
    "        \n",
    "        if m == 1 and n == 1:\n",
    "            return grid[-1][-1]\n",
    "        \n",
    "        for i in range(m):\n",
    "            dp[i][0] = dp[i-1][0] + grid[i][0]\n",
    "        for j in range(n):\n",
    "            dp[0][j] = dp[0][j-1] + grid[0][j]\n",
    "            \n",
    "        for i in range(1, m):\n",
    "            for j in range(1, n):\n",
    "                dp[i][j] = min(dp[i-1][j]+grid[i][j], dp[i][j-1]+grid[i][j])\n",
    "        \n",
    "        return dp[-1][-1]\n",
    "\n",
    "# test\n",
    "grid = [\n",
    "  [1,3,1],\n",
    "  [1,5,1],\n",
    "  [4,2,1]\n",
    "]\n",
    "grid1 = [[2]]\n",
    "print(Solution().minPathSum(grid))\n",
    "print(Solution().minPathSum(grid1))"
   ]
  }
 ],
 "metadata": {
  "kernelspec": {
   "display_name": "Python 3",
   "language": "python",
   "name": "python3"
  },
  "language_info": {
   "codemirror_mode": {
    "name": "ipython",
    "version": 3
   },
   "file_extension": ".py",
   "mimetype": "text/x-python",
   "name": "python",
   "nbconvert_exporter": "python",
   "pygments_lexer": "ipython3",
   "version": "3.6.4"
  }
 },
 "nbformat": 4,
 "nbformat_minor": 2
}
