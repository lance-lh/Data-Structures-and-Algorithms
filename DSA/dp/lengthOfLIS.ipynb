{
 "cells": [
  {
   "cell_type": "markdown",
   "metadata": {},
   "source": [
    "Given an unsorted array of integers, find the length of longest increasing subsequence.\n",
    "\n",
    "Example:\n",
    "\n",
    "    Input: [10,9,2,5,3,7,101,18]\n",
    "    Output: 4 \n",
    "    Explanation: The longest increasing subsequence is [2,3,7,101], therefore the length is 4. \n",
    "Note:\n",
    "\n",
    "- There may be more than one LIS combination, it is only necessary for you to return the length.\n",
    "- Your algorithm should run in O(n2) complexity.\n",
    "\n",
    "Follow up: Could you improve it to O(n log n) time complexity?"
   ]
  },
  {
   "cell_type": "code",
   "execution_count": 1,
   "metadata": {},
   "outputs": [
    {
     "data": {
      "text/plain": [
       "6"
      ]
     },
     "execution_count": 1,
     "metadata": {},
     "output_type": "execute_result"
    }
   ],
   "source": [
    "class Solution:\n",
    "    def lengthOfLIS(self, nums):\n",
    "        '''\n",
    "        nums: List[int]\n",
    "        rtype: int\n",
    "        '''\n",
    "        if not nums:\n",
    "            return 0\n",
    "        dp = [1] * len(nums)\n",
    "        for i in range(1,len(nums)):\n",
    "            for j in range(i):\n",
    "                if nums[j] < nums[i]:\n",
    "                    dp[i] = max(dp[j]+1, dp[i])\n",
    "        return max(dp)\n",
    "    \n",
    "# test\n",
    "a = [1,3,6,7,9,4,10,5,6]\n",
    "Solution().lengthOfLIS(a)"
   ]
  }
 ],
 "metadata": {
  "kernelspec": {
   "display_name": "Python 3",
   "language": "python",
   "name": "python3"
  },
  "language_info": {
   "codemirror_mode": {
    "name": "ipython",
    "version": 3
   },
   "file_extension": ".py",
   "mimetype": "text/x-python",
   "name": "python",
   "nbconvert_exporter": "python",
   "pygments_lexer": "ipython3",
   "version": "3.6.4"
  }
 },
 "nbformat": 4,
 "nbformat_minor": 2
}
