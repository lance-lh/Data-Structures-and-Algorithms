{
 "cells": [
  {
   "cell_type": "markdown",
   "metadata": {},
   "source": [
    "Merge two sorted linked lists and return it as a new list.\n",
    "The new list should be made by splicing together the nodes of the first two lists.\n",
    "\n",
    "Example:\n",
    "\n",
    "    Input: 1->2->4, 1->3->4\n",
    "    Output: 1->1->2->3->4->4"
   ]
  },
  {
   "cell_type": "code",
   "execution_count": 1,
   "metadata": {},
   "outputs": [],
   "source": [
    "'''\n",
    "If both lists are non-empty, \n",
    "first make sure l1 starts smaller, \n",
    "use its head as result, and merge the remainders behind it. \n",
    "Otherwise, i.e., if one or both are empty, just return what's there.\n",
    "'''\n",
    "\n",
    "# Definition for singly-linked list.\n",
    "# class ListNode:\n",
    "#     def __init__(self, x):\n",
    "#         self.val = x\n",
    "#         self.next = None\n",
    "\n",
    "class Solution:\n",
    "    def mergeTwoLists(self, l1, l2):\n",
    "        '''\n",
    "        :param l1: ListNode\n",
    "        :param l2: ListNode\n",
    "        :return: ListNode\n",
    "        '''\n",
    "\n",
    "        if l1 and l2:   # if l1 and l2 are not empty list\n",
    "            if l1.val > l2.val: # just headnode \n",
    "                # exchanges the whole linked list started with this node.\n",
    "                l1, l2 = l2, l1 \n",
    "            l1.next = self.mergeTwoLists(l1.next, l2)\n",
    "\n",
    "        return l1 or l2 # if one or both are empty"
   ]
  }
 ],
 "metadata": {
  "kernelspec": {
   "display_name": "Python 3",
   "language": "python",
   "name": "python3"
  },
  "language_info": {
   "codemirror_mode": {
    "name": "ipython",
    "version": 3
   },
   "file_extension": ".py",
   "mimetype": "text/x-python",
   "name": "python",
   "nbconvert_exporter": "python",
   "pygments_lexer": "ipython3",
   "version": "3.6.4"
  }
 },
 "nbformat": 4,
 "nbformat_minor": 2
}
