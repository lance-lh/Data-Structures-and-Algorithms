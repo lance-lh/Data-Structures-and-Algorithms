{
 "cells": [
  {
   "cell_type": "markdown",
   "metadata": {},
   "source": [
    "Sort a linked list in O(n log n) time using constant space complexity.\n",
    "\n",
    "Example 1:\n",
    "\n",
    "    Input: 4->2->1->3\n",
    "    Output: 1->2->3->4\n",
    "Example 2:\n",
    "\n",
    "    Input: -1->5->3->4->0\n",
    "    Output: -1->0->3->4->5"
   ]
  },
  {
   "cell_type": "code",
   "execution_count": null,
   "metadata": {},
   "outputs": [],
   "source": [
    "# Definition for singly-linked list.\n",
    "# class ListNode:\n",
    "#     def __init__(self, x):\n",
    "#         self.val = x\n",
    "#         self.next = None\n",
    "\n",
    "class Solution:\n",
    "    def sortList(self, head: ListNode) -> ListNode:  \n",
    "        # if the linked list is empty or only has one head node\n",
    "        if not head or not head.next:\n",
    "            return head\n",
    "        \n",
    "        pre, slow, fast = None, head, head\n",
    "        \n",
    "        while fast and fast.next:\n",
    "            pre, slow, fast = slow, slow.next, fast.next.next\n",
    "        pre.next = None\n",
    "        left = self.sortList(head)\n",
    "        right = self.sortList(slow)\n",
    "        return self.merge(left, right)\n",
    "        \n",
    "    def merge(self,left, right):\n",
    "        # if left is empty, return right\n",
    "        # if right is empty, return left\n",
    "        if not left or not right:\n",
    "            return left or right\n",
    "        \n",
    "        if left.val > right.val:\n",
    "            left, right = right, left\n",
    "        \n",
    "        # left always points to smaller one\n",
    "        # use pre and head to record its \"head\" addr\n",
    "        # if left change, head and pre would not change\n",
    "        \n",
    "        # that means, head hold the actual head\n",
    "        # and pre continuously move forward to update the node after head\n",
    "        head = pre = left\n",
    "        # record has saved, now update left\n",
    "        left = left.next\n",
    "        \n",
    "        # left and right node move forward (update left and right)\n",
    "        # link the smaller node (val) to pre.next (update pre)\n",
    "        while left and right:\n",
    "            if left.val < right.val:\n",
    "                pre.next = left\n",
    "                left = left.next\n",
    "            else:\n",
    "                pre.next = right\n",
    "                right = right.next\n",
    "            # update pre, move it to the newly added node\n",
    "            pre = pre.next\n",
    "        # finally, left or right at least one is None\n",
    "        pre.next = left or right\n",
    "        return head"
   ]
  }
 ],
 "metadata": {
  "kernelspec": {
   "display_name": "Python 3",
   "language": "python",
   "name": "python3"
  },
  "language_info": {
   "codemirror_mode": {
    "name": "ipython",
    "version": 3
   },
   "file_extension": ".py",
   "mimetype": "text/x-python",
   "name": "python",
   "nbconvert_exporter": "python",
   "pygments_lexer": "ipython3",
   "version": "3.6.4"
  }
 },
 "nbformat": 4,
 "nbformat_minor": 2
}
