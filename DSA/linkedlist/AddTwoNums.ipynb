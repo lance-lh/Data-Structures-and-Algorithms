{
 "cells": [
  {
   "cell_type": "markdown",
   "metadata": {},
   "source": [
    "You are given two non-empty linked lists representing two non-negative integers. The digits are stored in reverse order and each of their nodes contain a single digit. Add the two numbers and return it as a linked list.\n",
    "\n",
    "You may assume the two numbers do not contain any leading zero, except the number 0 itself.\n",
    "\n",
    "Example:\n",
    "\n",
    "    Input: (2 -> 4 -> 3) + (5 -> 6 -> 4)\n",
    "    Output: 7 -> 0 -> 8\n",
    "    Explanation: 342 + 465 = 807."
   ]
  },
  {
   "cell_type": "code",
   "execution_count": 1,
   "metadata": {},
   "outputs": [],
   "source": [
    "# Definition for singly-linked list.\n",
    "# class ListNode:\n",
    "#     def __init__(self, x):\n",
    "#         self.val = x\n",
    "#         self.next = None\n",
    "\n",
    "class Solution:\n",
    "    def addTwoNumbers(self, l1, l2):\n",
    "        \"\"\"\n",
    "        :type l1: ListNode\n",
    "        :type l2: ListNode\n",
    "        :rtype: ListNode\n",
    "        \"\"\"\n",
    "\n",
    "        carry = 0\n",
    "        counter = 1\n",
    "        head = ListNode(None)\n",
    "\n",
    "        while l1 or l2 or carry:\n",
    "\n",
    "            sum = carry\n",
    "\n",
    "            if l1:\n",
    "                sum+= l1.val\n",
    "                l1 = l1.next\n",
    "            if l2:\n",
    "                sum+=l2.val\n",
    "                l2 = l2.next\n",
    "\n",
    "            digit = sum%10\n",
    "            # in python3, // to indicate int divider\n",
    "            carry = sum//10\n",
    "\n",
    "            if counter == 1:\n",
    "                head.val = digit\n",
    "                node = head\n",
    "            else:\n",
    "                node.next = ListNode(digit)\n",
    "                node = node.next\n",
    "\n",
    "            counter += 1\n",
    "\n",
    "        return head"
   ]
  }
 ],
 "metadata": {
  "kernelspec": {
   "display_name": "Python 3",
   "language": "python",
   "name": "python3"
  },
  "language_info": {
   "codemirror_mode": {
    "name": "ipython",
    "version": 3
   },
   "file_extension": ".py",
   "mimetype": "text/x-python",
   "name": "python",
   "nbconvert_exporter": "python",
   "pygments_lexer": "ipython3",
   "version": "3.6.4"
  }
 },
 "nbformat": 4,
 "nbformat_minor": 2
}
