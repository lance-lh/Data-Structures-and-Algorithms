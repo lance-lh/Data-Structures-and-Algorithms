{
 "cells": [
  {
   "cell_type": "markdown",
   "metadata": {},
   "source": [
    "Given a linked list, return the node where the cycle begins. If there is no cycle, return `null`.\n",
    "\n",
    "To represent a cycle in the given linked list, we use an integer pos which represents the position (0-indexed) in the linked list where tail connects to. If pos is -1, then there is no cycle in the linked list.\n",
    "\n",
    "Note: Do not modify the linked list.\n",
    "\n",
    " \n",
    "\n",
    "Example 1:\n",
    "\n",
    "    Input: head = [3,2,0,-4], pos = 1\n",
    "    Output: tail connects to node index 1\n",
    "    Explanation: There is a cycle in the linked list, where tail connects to the second node.\n",
    "\n",
    "![](https://assets.leetcode.com/uploads/2018/12/07/circularlinkedlist.png)\n",
    "\n",
    "Example 2:\n",
    "\n",
    "    Input: head = [1,2], pos = 0\n",
    "    Output: tail connects to node index 0\n",
    "    Explanation: There is a cycle in the linked list, where tail connects to the first node.\n",
    "\n",
    "![](https://assets.leetcode.com/uploads/2018/12/07/circularlinkedlist_test2.png)\n",
    "\n",
    "Example 3:\n",
    "\n",
    "    Input: head = [1], pos = -1\n",
    "    Output: no cycle\n",
    "    Explanation: There is no cycle in the linked list.\n",
    "\n",
    "![](https://assets.leetcode.com/uploads/2018/12/07/circularlinkedlist_test3.png)\n",
    " \n",
    "Follow up:\n",
    "\n",
    "    Can you solve it without using extra space?"
   ]
  },
  {
   "cell_type": "markdown",
   "metadata": {},
   "source": [
    "Ref:\n",
    "- [闲话链表追赶问题](https://blog.csdn.net/v_july_v/article/details/6447013)\n",
    "- [链表找环方法证明](http://www.cnblogs.com/wuyuegb2312/p/3183214.html)\n",
    "\n",
    "> 用两个指针p1、p2指向表头\n",
    "> \n",
    "> 每次循环时p1指向它的后继，p2指向它后继的后继。\n",
    ">\n",
    "> 若p2的后继为NULL，表明链表没有环；\n",
    ">\n",
    "> 否则有环且p1==p2时循环可以终止。\n",
    ">\n",
    "> 此时为了寻找环的入口，将p1重新指向表头且仍然每次循环都指向后继，p2每次也指向后继。当p1与p2再次相等时，相等点就是环的入口。"
   ]
  },
  {
   "cell_type": "code",
   "execution_count": null,
   "metadata": {},
   "outputs": [],
   "source": [
    "# Definition for singly-linked list.\n",
    "# class ListNode(object):\n",
    "#     def __init__(self, x):\n",
    "#         self.val = x\n",
    "#         self.next = None\n",
    "\n",
    "class Solution(object):\n",
    "    def detectCycle(self, head):\n",
    "        \"\"\"\n",
    "        :type head: ListNode\n",
    "        :rtype: ListNode\n",
    "        \"\"\"\n",
    "\n",
    "        slow, fast = head, head\n",
    "        \n",
    "        while fast and fast.next:\n",
    "            slow = slow.next\n",
    "            fast = fast.next.next\n",
    "\n",
    "            if slow == fast:\n",
    "                break\n",
    "        if not fast or not fast.next:\n",
    "            return None\n",
    "        \n",
    "        slow = head\n",
    "        while slow != fast:\n",
    "            slow = slow.next\n",
    "            fast = fast.next\n",
    "            \n",
    "        return slow"
   ]
  }
 ],
 "metadata": {
  "kernelspec": {
   "display_name": "Python 3",
   "language": "python",
   "name": "python3"
  },
  "language_info": {
   "codemirror_mode": {
    "name": "ipython",
    "version": 3
   },
   "file_extension": ".py",
   "mimetype": "text/x-python",
   "name": "python",
   "nbconvert_exporter": "python",
   "pygments_lexer": "ipython3",
   "version": "3.6.4"
  }
 },
 "nbformat": 4,
 "nbformat_minor": 2
}
