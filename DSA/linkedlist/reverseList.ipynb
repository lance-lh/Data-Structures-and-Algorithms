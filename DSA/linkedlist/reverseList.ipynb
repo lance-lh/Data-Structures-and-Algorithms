{
 "cells": [
  {
   "cell_type": "markdown",
   "metadata": {},
   "source": [
    "Reverse a singly linked list.\n",
    "\n",
    "Example:\n",
    "\n",
    "    Input: 1->2->3->4->5->NULL\n",
    "    Output: 5->4->3->2->1->NULL\n",
    "Follow up:\n",
    "\n",
    "A linked list can be reversed either **iteratively** or **recursively**. Could you implement both?"
   ]
  },
  {
   "cell_type": "code",
   "execution_count": null,
   "metadata": {},
   "outputs": [],
   "source": [
    "# iterative solution\n",
    "# O(n)\n",
    "# O(1)\n",
    "\n",
    "# Definition for singly-linked list.\n",
    "# class ListNode:\n",
    "#     def __init__(self, x):\n",
    "#         self.val = x\n",
    "#         self.next = None\n",
    "\n",
    "class Solution:\n",
    "    def reverseList(self, head: ListNode) -> ListNode:\n",
    "        if not head:\n",
    "            return None\n",
    "        p = head\n",
    "        q = head.next\n",
    "        p.next = None\n",
    "        while q:\n",
    "            r = q.next\n",
    "            q.next = p\n",
    "            p = q\n",
    "            q = r\n",
    "        # in the end, q points to None\n",
    "        # p is head node\n",
    "        return p"
   ]
  },
  {
   "cell_type": "markdown",
   "metadata": {},
   "source": [
    "- [Reverse a Singly Linked List](https://www.educative.io/collection/page/5642554087309312/5679846214598656/70003)"
   ]
  },
  {
   "cell_type": "code",
   "execution_count": null,
   "metadata": {},
   "outputs": [],
   "source": [
    "# recursive solution (stack)\n",
    "# O(n)\n",
    "# O(n)\n",
    "\n",
    "# Definition for singly-linked list.\n",
    "# class ListNode:\n",
    "#     def __init__(self, x):\n",
    "#         self.val = x\n",
    "#         self.next = None\n",
    "\n",
    "class Solution:\n",
    "    def reverseList(self, head: ListNode) -> ListNode:\n",
    "        if not head:\n",
    "            return None\n",
    "        if not head.next:\n",
    "            return head\n",
    "        \n",
    "        reversedhead = self.reverseList(head.next)\n",
    "        head.next.next = head\n",
    "        head.next = None\n",
    "        \n",
    "        return reversedhead"
   ]
  }
 ],
 "metadata": {
  "kernelspec": {
   "display_name": "Python 3",
   "language": "python",
   "name": "python3"
  },
  "language_info": {
   "codemirror_mode": {
    "name": "ipython",
    "version": 3
   },
   "file_extension": ".py",
   "mimetype": "text/x-python",
   "name": "python",
   "nbconvert_exporter": "python",
   "pygments_lexer": "ipython3",
   "version": "3.6.4"
  }
 },
 "nbformat": 4,
 "nbformat_minor": 2
}
