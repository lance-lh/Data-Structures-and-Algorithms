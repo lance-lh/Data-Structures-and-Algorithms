{
 "cells": [
  {
   "cell_type": "markdown",
   "metadata": {},
   "source": [
    "Given a collection of numbers that might contain duplicates, return all possible unique permutations.\n",
    "\n",
    "Example:\n",
    "\n",
    "    Input: [1,1,2]\n",
    "    Output:\n",
    "    [\n",
    "      [1,1,2],\n",
    "      [1,2,1],\n",
    "      [2,1,1]\n",
    "    ]"
   ]
  },
  {
   "cell_type": "code",
   "execution_count": null,
   "metadata": {},
   "outputs": [
    {
     "name": "stdout",
     "output_type": "stream",
     "text": [
      "[[1, 1, 2], [1, 2, 1], [2, 1, 1]]\n"
     ]
    }
   ],
   "source": [
    "# http://www.runoob.com/python/python-continue-statement.html\n",
    "\n",
    "def permuteUnique(nums):\n",
    "    res = []\n",
    "    nums.sort()\n",
    "    dfs(nums, [], res)\n",
    "    return res\n",
    "\n",
    "def dfs(nums, path, res):\n",
    "    if not nums:\n",
    "        res.append(path)\n",
    "\n",
    "    for i in range(len(nums)):\n",
    "        # the goal of using continue is to delete some unnecessary parts\n",
    "        # here, nums[i] == nums[i - 1] shows what sort method does\n",
    "        if i > 0 and nums[i] == nums[i - 1]:\n",
    "            continue\n",
    "        dfs(nums[:i] + nums[i + 1:], path + [nums[i]], res)\n",
    "\n",
    "# test\n",
    "nums = [1,1,2]\n",
    "print(permuteUnique(nums))"
   ]
  }
 ],
 "metadata": {
  "kernelspec": {
   "display_name": "Python 3",
   "language": "python",
   "name": "python3"
  },
  "language_info": {
   "codemirror_mode": {
    "name": "ipython",
    "version": 3
   },
   "file_extension": ".py",
   "mimetype": "text/x-python",
   "name": "python",
   "nbconvert_exporter": "python",
   "pygments_lexer": "ipython3",
   "version": "3.6.4"
  }
 },
 "nbformat": 4,
 "nbformat_minor": 2
}
