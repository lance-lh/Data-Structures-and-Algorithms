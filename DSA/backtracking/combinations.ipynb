{
 "cells": [
  {
   "cell_type": "markdown",
   "metadata": {},
   "source": [
    "Given two integers n and k, return all possible combinations of k numbers out of 1 ... n.\n",
    "\n",
    "Example:\n",
    "\n",
    "    Input: n = 4, k = 2\n",
    "    Output:\n",
    "    [\n",
    "      [2,4],\n",
    "      [3,4],\n",
    "      [2,3],\n",
    "      [1,2],\n",
    "      [1,3],\n",
    "      [1,4],\n",
    "    ]"
   ]
  },
  {
   "cell_type": "code",
   "execution_count": 1,
   "metadata": {},
   "outputs": [
    {
     "name": "stdout",
     "output_type": "stream",
     "text": [
      "[[1, 2], [1, 3], [1, 4], [2, 3], [2, 4], [3, 4]]\n"
     ]
    }
   ],
   "source": [
    "def combine(n, k):\n",
    "    '''\n",
    "    :param n: int\n",
    "    :param k: int\n",
    "    :return: List[List[int]]\n",
    "    '''\n",
    "    res = []\n",
    "    dfs(range(1, n + 1), k, [], res)\n",
    "    return res\n",
    "\n",
    "\n",
    "def dfs(nums, k, path, res):\n",
    "    if k == 0:\n",
    "        res.append(path)\n",
    "        return\n",
    "    if len(nums) >= k:\n",
    "        for i in range(len(nums)):\n",
    "            dfs(nums[i + 1:], k - 1, path + [nums[i]], res)\n",
    "    return\n",
    "\n",
    "\n",
    "# test\n",
    "n = 4\n",
    "k = 2\n",
    "print(combine(n, k))"
   ]
  }
 ],
 "metadata": {
  "kernelspec": {
   "display_name": "Python 3",
   "language": "python",
   "name": "python3"
  },
  "language_info": {
   "codemirror_mode": {
    "name": "ipython",
    "version": 3
   },
   "file_extension": ".py",
   "mimetype": "text/x-python",
   "name": "python",
   "nbconvert_exporter": "python",
   "pygments_lexer": "ipython3",
   "version": "3.6.4"
  }
 },
 "nbformat": 4,
 "nbformat_minor": 2
}
