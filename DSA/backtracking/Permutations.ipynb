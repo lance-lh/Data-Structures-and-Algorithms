{
 "cells": [
  {
   "cell_type": "markdown",
   "metadata": {},
   "source": [
    "Given a collection of distinct integers, return all possible permutations.\n",
    "\n",
    "Example:\n",
    "\n",
    "    Input: [1,2,3]\n",
    "    Output:\n",
    "    [\n",
    "      [1,2,3],\n",
    "      [1,3,2],\n",
    "      [2,1,3],\n",
    "      [2,3,1],\n",
    "      [3,1,2],\n",
    "      [3,2,1]\n",
    "    ]"
   ]
  },
  {
   "cell_type": "code",
   "execution_count": 1,
   "metadata": {},
   "outputs": [
    {
     "name": "stdout",
     "output_type": "stream",
     "text": [
      "[[1, 2, 3], [1, 3, 2], [2, 1, 3], [2, 3, 1], [3, 1, 2], [3, 2, 1]]\n"
     ]
    }
   ],
   "source": [
    "# DFS解决全排列问题\n",
    "def permute(nums):\n",
    "    \"\"\"\n",
    "    :type nums: List[int]\n",
    "    :rtype: List[List[int]]\n",
    "    \"\"\"\n",
    "    res = []\n",
    "    dfs(nums, [], res)\n",
    "    return res\n",
    "\n",
    "\n",
    "def dfs(nums, path, res):\n",
    "    if not nums:\n",
    "        res.append(path)\n",
    "\n",
    "    for i in range(len(nums)):\n",
    "        dfs(nums[:i] + nums[i + 1:], path + [nums[i]], res)\n",
    "\n",
    "\n",
    "# test\n",
    "nums = [1,2,3]\n",
    "print(permute(nums))"
   ]
  }
 ],
 "metadata": {
  "kernelspec": {
   "display_name": "Python 3",
   "language": "python",
   "name": "python3"
  },
  "language_info": {
   "codemirror_mode": {
    "name": "ipython",
    "version": 3
   },
   "file_extension": ".py",
   "mimetype": "text/x-python",
   "name": "python",
   "nbconvert_exporter": "python",
   "pygments_lexer": "ipython3",
   "version": "3.6.4"
  }
 },
 "nbformat": 4,
 "nbformat_minor": 2
}
