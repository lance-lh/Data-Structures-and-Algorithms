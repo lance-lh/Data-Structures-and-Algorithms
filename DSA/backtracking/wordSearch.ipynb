{
 "cells": [
  {
   "cell_type": "markdown",
   "metadata": {},
   "source": [
    "Given a 2D board and a word, find if the word exists in the grid.\n",
    "\n",
    "The word can be constructed from letters of sequentially adjacent cell, where \"adjacent\" cells are those horizontally or vertically neighboring. The same letter cell may not be used more than once.\n",
    "\n",
    "Example:\n",
    "\n",
    "    board =\n",
    "    [\n",
    "      ['A','B','C','E'],\n",
    "      ['S','F','C','S'],\n",
    "      ['A','D','E','E']\n",
    "    ]\n",
    "\n",
    "    Given word = \"ABCCED\", return true.\n",
    "    Given word = \"SEE\", return true.\n",
    "    Given word = \"ABCB\", return false."
   ]
  },
  {
   "cell_type": "markdown",
   "metadata": {},
   "source": [
    "> 这道题是典型的深度优先遍历DFS的应用，原二维数组就像是一个迷宫，可以上下左右四个方向行走，我们以二维数组中每一个数都作为起点和给定字符串做匹配，我们还需要一个和原数组等大小的visited数组，是bool型的，用来记录当前位置是否已经被访问过，因为题目要求一个cell只能被访问一次。如果二维数组board的当前字符和目标字符串word对应的字符相等，则对其上下左右四个邻字符分别调用DFS的递归函数，只要有一个返回true，那么就表示可以找到对应的字符串，否则就不能找到.\n",
    "\n",
    "[ref](https://www.cnblogs.com/grandyang/p/4332313.html)"
   ]
  },
  {
   "cell_type": "code",
   "execution_count": 1,
   "metadata": {},
   "outputs": [
    {
     "data": {
      "text/plain": [
       "True"
      ]
     },
     "execution_count": 1,
     "metadata": {},
     "output_type": "execute_result"
    }
   ],
   "source": [
    "class Solution(object):\n",
    "    def exist(self, board, word):\n",
    "        \"\"\"\n",
    "        :type board: List[List[str]]\n",
    "        :type word: str\n",
    "        :rtype: bool\n",
    "        \"\"\"\n",
    "        visited = {}\n",
    "        for i in range(len(board)):\n",
    "            for j in range(len(board[0])):\n",
    "                if self.dfs(board, word, i, j, visited):\n",
    "                    return True\n",
    "        return False\n",
    "        \n",
    "    def dfs(self, board, word, i, j, visited, pos=0):\n",
    "        if len(word) == pos:\n",
    "            return True\n",
    "        if i < 0 or i == len(board) or j < 0 or j == len(board[0]) or visited.get((i,j)) \\\n",
    "        or word[pos] != board[i][j]:\n",
    "            return False\n",
    "        \n",
    "        visited[(i,j)] = True\n",
    "        \n",
    "        res = self.dfs(board, word, i, j+1, visited, pos+1) \\\n",
    "        or self.dfs(board, word, i, j-1, visited, pos+1) \\\n",
    "        or self.dfs(board, word, i+1, j, visited, pos+1) \\\n",
    "        or self.dfs(board, word, i-1, j,visited, pos+1)\n",
    "        \n",
    "        visited[(i,j)] = False\n",
    "        \n",
    "        return res\n",
    "    \n",
    "# test\n",
    "board =[\n",
    "  ['A','B','C','E'],\n",
    "  ['S','F','C','S'],\n",
    "  ['A','D','E','E']\n",
    "]\n",
    "word = \"ABCCED\"\n",
    "Solution().exist(board,word)"
   ]
  }
 ],
 "metadata": {
  "kernelspec": {
   "display_name": "Python 3",
   "language": "python",
   "name": "python3"
  },
  "language_info": {
   "codemirror_mode": {
    "name": "ipython",
    "version": 3
   },
   "file_extension": ".py",
   "mimetype": "text/x-python",
   "name": "python",
   "nbconvert_exporter": "python",
   "pygments_lexer": "ipython3",
   "version": "3.6.4"
  }
 },
 "nbformat": 4,
 "nbformat_minor": 2
}
