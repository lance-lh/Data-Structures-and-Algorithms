{
 "cells": [
  {
   "cell_type": "markdown",
   "metadata": {},
   "source": [
    "题目描述\n",
    "\n",
    "    输入一个字符串,按字典序打印出该字符串中字符的所有排列。例如输入字符串abc,则打印出由字符a,b,c所能排列出来的所有字符串abc,acb,bac,bca,cab和cba。\n",
    "\n",
    "输入描述:\n",
    "\n",
    "    输入一个字符串,长度不超过9(可能有字符重复),字符只包括大小写字母。"
   ]
  },
  {
   "cell_type": "code",
   "execution_count": 1,
   "metadata": {},
   "outputs": [
    {
     "name": "stdout",
     "output_type": "stream",
     "text": [
      "['abc', 'acb', 'bac', 'bca', 'cab', 'cba']\n"
     ]
    }
   ],
   "source": [
    "def Permutation(ss):\n",
    "\n",
    "    if len(ss) == 0:\n",
    "        return []\n",
    "    if len(ss) == 1:\n",
    "        return [ss]\n",
    "    res = set()\n",
    "    # 遍历字符串，固定第一个元素，第一个元素可以取a,b,c...全部取到，然后递归求解\n",
    "    for i in range(len(ss)):\n",
    "        # 依次固定了元素，然后递归求解\n",
    "        for j in Permutation(ss[:i] + ss[i + 1:]):\n",
    "            # set集合添加元素的方法add(),集合添加去重（若存在重复字符，排列后会存在相同情况）\n",
    "            res.add(ss[i] + j)\n",
    "    return sorted(res)\n",
    "\n",
    "\n",
    "\n",
    "\n",
    "# test\n",
    "strs = \"abc\"\n",
    "print(Permutation(strs))"
   ]
  }
 ],
 "metadata": {
  "kernelspec": {
   "display_name": "Python 3",
   "language": "python",
   "name": "python3"
  },
  "language_info": {
   "codemirror_mode": {
    "name": "ipython",
    "version": 3
   },
   "file_extension": ".py",
   "mimetype": "text/x-python",
   "name": "python",
   "nbconvert_exporter": "python",
   "pygments_lexer": "ipython3",
   "version": "3.6.4"
  }
 },
 "nbformat": 4,
 "nbformat_minor": 2
}
