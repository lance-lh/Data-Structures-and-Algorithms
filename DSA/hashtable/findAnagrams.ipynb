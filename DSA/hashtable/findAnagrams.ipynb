{
 "cells": [
  {
   "cell_type": "markdown",
   "metadata": {},
   "source": [
    "Given a string s and a non-empty string p, find all the start indices of p's anagrams in s.\n",
    "\n",
    "Strings consists of lowercase English letters only and the length of both strings s and p will not be larger than 20,100.\n",
    "\n",
    "The order of output does not matter.\n",
    "\n",
    "Example 1:\n",
    "\n",
    "    Input:\n",
    "    s: \"cbaebabacd\" p: \"abc\"\n",
    "\n",
    "    Output:\n",
    "    [0, 6]\n",
    "\n",
    "    Explanation:\n",
    "    The substring with start index = 0 is \"cba\", which is an anagram of \"abc\".\n",
    "    The substring with start index = 6 is \"bac\", which is an anagram of \"abc\".\n",
    "Example 2:\n",
    "\n",
    "    Input:\n",
    "    s: \"abab\" p: \"ab\"\n",
    "\n",
    "    Output:\n",
    "    [0, 1, 2]\n",
    "\n",
    "    Explanation:\n",
    "    The substring with start index = 0 is \"ab\", which is an anagram of \"ab\".\n",
    "    The substring with start index = 1 is \"ba\", which is an anagram of \"ab\".\n",
    "    The substring with start index = 2 is \"ab\", which is an anagram of \"ab\"."
   ]
  },
  {
   "cell_type": "code",
   "execution_count": 1,
   "metadata": {},
   "outputs": [
    {
     "name": "stdout",
     "output_type": "stream",
     "text": [
      "[0, 6]\n"
     ]
    }
   ],
   "source": [
    "class Solution:\n",
    "    def findAnagrams(self, s, p):\n",
    "        '''\n",
    "        :param s: str\n",
    "        :param p: str\n",
    "        :return: List[int]\n",
    "        '''\n",
    "        from collections import Counter\n",
    "        ls, lp = len(s), len(p)\n",
    "        cp = Counter(p)\n",
    "        cs = Counter()\n",
    "        res = []\n",
    "        for i in range(ls):\n",
    "            cs[s[i]] += 1\n",
    "            if i >= lp:\n",
    "                # when add a new element\n",
    "                # in cs, the leftmost key value minus 1\n",
    "                cs[s[i - lp]] -= 1\n",
    "                # delete the leftmost key\n",
    "                if cs[s[i - lp]] == 0:\n",
    "                    del cs[s[i - lp]]\n",
    "            if cs == cp:\n",
    "                res.append(i - lp + 1)\n",
    "        return res\n",
    "\n",
    "# test\n",
    "s = \"cbaebabacd\"\n",
    "p = \"abc\"\n",
    "print(Solution().findAnagrams(s,p))"
   ]
  }
 ],
 "metadata": {
  "kernelspec": {
   "display_name": "Python 3",
   "language": "python",
   "name": "python3"
  },
  "language_info": {
   "codemirror_mode": {
    "name": "ipython",
    "version": 3
   },
   "file_extension": ".py",
   "mimetype": "text/x-python",
   "name": "python",
   "nbconvert_exporter": "python",
   "pygments_lexer": "ipython3",
   "version": "3.6.4"
  }
 },
 "nbformat": 4,
 "nbformat_minor": 2
}
