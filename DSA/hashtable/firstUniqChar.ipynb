{
 "cells": [
  {
   "cell_type": "markdown",
   "metadata": {},
   "source": [
    "Given a string, find the first non-repeating character in it and return it's index. If it doesn't exist, return -1.\n",
    "\n",
    "Examples:\n",
    "\n",
    "    s = \"leetcode\"\n",
    "    return 0.\n",
    "\n",
    "    s = \"loveleetcode\",\n",
    "    return 2.\n",
    "\n",
    "Note: You may assume the string contain only lowercase letters."
   ]
  },
  {
   "cell_type": "code",
   "execution_count": 1,
   "metadata": {},
   "outputs": [
    {
     "name": "stdout",
     "output_type": "stream",
     "text": [
      "2\n"
     ]
    }
   ],
   "source": [
    "class Solution:\n",
    "    def firstUniqChar(self, s):\n",
    "        '''\n",
    "        :param s: str\n",
    "        :return: int\n",
    "        '''\n",
    "        from collections import OrderedDict\n",
    "        d = OrderedDict()\n",
    "        for i in s:\n",
    "            if i not in d:\n",
    "                d[i] = 1\n",
    "            else:\n",
    "                d[i] += 1\n",
    "        for j in d:\n",
    "            if d[j] == 1:\n",
    "                return s.index(j)\n",
    "        return -1\n",
    "\n",
    "# test\n",
    "s = 'loveleetcode'\n",
    "print(Solution().firstUniqChar(s))"
   ]
  },
  {
   "cell_type": "code",
   "execution_count": 2,
   "metadata": {},
   "outputs": [
    {
     "name": "stdout",
     "output_type": "stream",
     "text": [
      "2\n"
     ]
    }
   ],
   "source": [
    "# faster than above\n",
    "\n",
    "class Solution:\n",
    "    def firstUniqChar(self, s):\n",
    "        '''\n",
    "        :param s: str\n",
    "        :return: int\n",
    "        '''\n",
    "        from collections import Counter\n",
    "        d = Counter(s)\n",
    "        for i in range(len(s)):\n",
    "            if d[s[i]] == 1:\n",
    "                return i\n",
    "        return -1\n",
    "\n",
    "\n",
    "# test\n",
    "s = 'loveleetcode'\n",
    "print(Solution().firstUniqChar(s))"
   ]
  },
  {
   "cell_type": "code",
   "execution_count": 3,
   "metadata": {},
   "outputs": [
    {
     "name": "stdout",
     "output_type": "stream",
     "text": [
      "2\n"
     ]
    }
   ],
   "source": [
    "# fastest\n",
    "\n",
    "class Solution:\n",
    "    def firstUniqChar(self, s):\n",
    "        '''\n",
    "        :param s: str\n",
    "        :return: int\n",
    "        '''\n",
    "        letters='abcdefghijklmnopqrstuvwxyz'\n",
    "        index=[s.index(l) for l in letters if s.count(l) == 1]\n",
    "        return min(index) if len(index) > 0 else -1\n",
    "\n",
    "\n",
    "# test\n",
    "s = 'loveleetcode'\n",
    "print(Solution().firstUniqChar(s))"
   ]
  }
 ],
 "metadata": {
  "kernelspec": {
   "display_name": "Python 3",
   "language": "python",
   "name": "python3"
  },
  "language_info": {
   "codemirror_mode": {
    "name": "ipython",
    "version": 3
   },
   "file_extension": ".py",
   "mimetype": "text/x-python",
   "name": "python",
   "nbconvert_exporter": "python",
   "pygments_lexer": "ipython3",
   "version": "3.6.4"
  }
 },
 "nbformat": 4,
 "nbformat_minor": 2
}
