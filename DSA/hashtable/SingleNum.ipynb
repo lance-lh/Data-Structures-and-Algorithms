{
 "cells": [
  {
   "cell_type": "markdown",
   "metadata": {},
   "source": [
    "Given a non-empty array of integers,\n",
    "every element appears twice except for one.\n",
    "Find that single one.\n",
    "\n",
    "Note:\n",
    "\n",
    "Your algorithm should have a linear runtime complexity.\n",
    "Could you implement it without using extra memory?\n",
    "\n",
    "    Example 1:\n",
    "\n",
    "    Input: [2,2,1]\n",
    "    Output: 1\n",
    "    Example 2:\n",
    "\n",
    "    Input: [4,1,2,1,2]\n",
    "    Output: 4"
   ]
  },
  {
   "cell_type": "code",
   "execution_count": 1,
   "metadata": {},
   "outputs": [],
   "source": [
    "def singleNumber(nums):\n",
    "    '''\n",
    "    :param nums: list\n",
    "    :return: int\n",
    "    '''\n",
    "    d = {}\n",
    "    for k,v in enumerate(nums):\n",
    "        if v not in d:\n",
    "            d[v] = 1\n",
    "        else:\n",
    "            d[v] = 2\n",
    "    for i in d:\n",
    "        if d[i] == 1:\n",
    "            return i\n"
   ]
  },
  {
   "cell_type": "code",
   "execution_count": 2,
   "metadata": {},
   "outputs": [
    {
     "name": "stdout",
     "output_type": "stream",
     "text": [
      "1\n"
     ]
    }
   ],
   "source": [
    "# test\n",
    "nums = [2,2,1]\n",
    "print(singleNumber(nums))"
   ]
  }
 ],
 "metadata": {
  "kernelspec": {
   "display_name": "Python 3",
   "language": "python",
   "name": "python3"
  },
  "language_info": {
   "codemirror_mode": {
    "name": "ipython",
    "version": 3
   },
   "file_extension": ".py",
   "mimetype": "text/x-python",
   "name": "python",
   "nbconvert_exporter": "python",
   "pygments_lexer": "ipython3",
   "version": "3.6.4"
  }
 },
 "nbformat": 4,
 "nbformat_minor": 2
}
