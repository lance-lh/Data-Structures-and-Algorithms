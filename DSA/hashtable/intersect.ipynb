{
 "cells": [
  {
   "cell_type": "markdown",
   "metadata": {},
   "source": [
    "Given two arrays, write a function to compute their intersection.\n",
    "\n",
    "Example 1:\n",
    "\n",
    "    Input: nums1 = [1,2,2,1], nums2 = [2,2]\n",
    "    Output: [2,2]\n",
    "Example 2:\n",
    "\n",
    "    Input: nums1 = [4,9,5], nums2 = [9,4,9,8,4]\n",
    "    Output: [4,9]\n",
    "Note:\n",
    "\n",
    "- Each element in the result should appear as many times as it shows in both arrays.\n",
    "- The result can be in any order.\n",
    "\n",
    "Follow up:\n",
    "\n",
    "- What if the given array is already sorted? How would you optimize your algorithm?\n",
    "- What if nums1's size is small compared to nums2's size? Which algorithm is better?\n",
    "- What if elements of nums2 are stored on disk, and the memory is limited such that you cannot load all elements into the memory at once?"
   ]
  },
  {
   "cell_type": "code",
   "execution_count": 1,
   "metadata": {},
   "outputs": [
    {
     "name": "stdout",
     "output_type": "stream",
     "text": [
      "[2, 2]\n"
     ]
    }
   ],
   "source": [
    "class Solution:\n",
    "    def intersect(self, nums1, nums2):\n",
    "        '''\n",
    "        :param nums1: List[int]\n",
    "        :param nums2: List[int]\n",
    "        :return: List[int]\n",
    "        '''\n",
    "        from collections import Counter\n",
    "        a, b = Counter(nums1), Counter(nums2)\n",
    "        res = []\n",
    "        for i in a:\n",
    "            if i in b:\n",
    "                tmp = min(a[i],b[i])\n",
    "                while tmp:\n",
    "                    res.append(i)\n",
    "                    tmp -= 1\n",
    "        return res\n",
    "        \n",
    "# test\n",
    "a = [1,2,2,1]\n",
    "b = [2,2]\n",
    "print(Solution().intersect(a,b))"
   ]
  }
 ],
 "metadata": {
  "kernelspec": {
   "display_name": "Python 3",
   "language": "python",
   "name": "python3"
  },
  "language_info": {
   "codemirror_mode": {
    "name": "ipython",
    "version": 3
   },
   "file_extension": ".py",
   "mimetype": "text/x-python",
   "name": "python",
   "nbconvert_exporter": "python",
   "pygments_lexer": "ipython3",
   "version": "3.6.4"
  }
 },
 "nbformat": 4,
 "nbformat_minor": 2
}
