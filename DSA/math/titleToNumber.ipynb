{
 "cells": [
  {
   "cell_type": "markdown",
   "metadata": {},
   "source": [
    "Given a column title as appear in an Excel sheet, return its corresponding column number.\n",
    "\n",
    "For example:\n",
    "\n",
    "    A -> 1\n",
    "    B -> 2\n",
    "    C -> 3\n",
    "    ...\n",
    "    Z -> 26\n",
    "    AA -> 27\n",
    "    AB -> 28 \n",
    "    ...\n",
    "Example 1:\n",
    "\n",
    "    Input: \"A\"\n",
    "    Output: 1\n",
    "Example 2:\n",
    "\n",
    "    Input: \"AB\"\n",
    "    Output: 28\n",
    "Example 3:\n",
    "\n",
    "    Input: \"ZY\"\n",
    "    Output: 701"
   ]
  },
  {
   "cell_type": "code",
   "execution_count": 1,
   "metadata": {},
   "outputs": [
    {
     "name": "stdout",
     "output_type": "stream",
     "text": [
      "701\n"
     ]
    }
   ],
   "source": [
    "class Solution:\n",
    "    def titleToNumber(self, s: str) -> int:\n",
    "        from functools import reduce\n",
    "        return reduce(lambda x,y: x*26+y, [ord(c)-ord('A')+1 for c in s])\n",
    "\n",
    "# test\n",
    "alpha = 'ZY'\n",
    "print(Solution().titleToNumber(alpha))"
   ]
  }
 ],
 "metadata": {
  "kernelspec": {
   "display_name": "Python 3",
   "language": "python",
   "name": "python3"
  },
  "language_info": {
   "codemirror_mode": {
    "name": "ipython",
    "version": 3
   },
   "file_extension": ".py",
   "mimetype": "text/x-python",
   "name": "python",
   "nbconvert_exporter": "python",
   "pygments_lexer": "ipython3",
   "version": "3.6.4"
  }
 },
 "nbformat": 4,
 "nbformat_minor": 2
}
