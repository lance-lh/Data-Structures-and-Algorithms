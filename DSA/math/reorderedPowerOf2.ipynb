{
 "cells": [
  {
   "cell_type": "markdown",
   "metadata": {},
   "source": [
    "Starting with a positive integer N, we reorder the digits in any order (including the original order) such that the leading digit is not zero.\n",
    "\n",
    "Return true if and only if we can do this in a way such that the resulting number is a power of 2.\n",
    "\n",
    " \n",
    "\n",
    "Example 1:\n",
    "\n",
    "    Input: 1\n",
    "    Output: true\n",
    "Example 2:\n",
    "\n",
    "    Input: 10\n",
    "    Output: false\n",
    "Example 3:\n",
    "\n",
    "    Input: 16\n",
    "    Output: true\n",
    "Example 4:\n",
    "\n",
    "    Input: 24\n",
    "    Output: false\n",
    "Example 5:\n",
    "\n",
    "    Input: 46\n",
    "    Output: true\n",
    " \n",
    "\n",
    "Note:\n",
    "\n",
    "    1 <= N <= 10^9\n"
   ]
  },
  {
   "cell_type": "code",
   "execution_count": 1,
   "metadata": {},
   "outputs": [
    {
     "data": {
      "text/plain": [
       "True"
      ]
     },
     "execution_count": 1,
     "metadata": {},
     "output_type": "execute_result"
    }
   ],
   "source": [
    "class Solution:\n",
    "    def reorderedPowerOf2(self, N: int) -> bool:\n",
    "        from collections import Counter\n",
    "        c = Counter(str(N))\n",
    "        return any(c == Counter(str(1 << i)) for i in range(30))\n",
    "    \n",
    "# test\n",
    "Solution().reorderedPowerOf2(46)"
   ]
  }
 ],
 "metadata": {
  "kernelspec": {
   "display_name": "Python 3",
   "language": "python",
   "name": "python3"
  },
  "language_info": {
   "codemirror_mode": {
    "name": "ipython",
    "version": 3
   },
   "file_extension": ".py",
   "mimetype": "text/x-python",
   "name": "python",
   "nbconvert_exporter": "python",
   "pygments_lexer": "ipython3",
   "version": "3.6.4"
  }
 },
 "nbformat": 4,
 "nbformat_minor": 2
}
