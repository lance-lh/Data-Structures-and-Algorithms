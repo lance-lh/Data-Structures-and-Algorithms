{
 "cells": [
  {
   "cell_type": "markdown",
   "metadata": {},
   "source": [
    "Given an integer, write a function to determine if it is a power of three.\n",
    "\n",
    "Example 1:\n",
    "\n",
    "    Input: 27\n",
    "    Output: true\n",
    "Example 2:\n",
    "\n",
    "    Input: 0\n",
    "    Output: false\n",
    "Example 3:\n",
    "\n",
    "    Input: 9\n",
    "    Output: true\n",
    "Example 4:\n",
    "\n",
    "    Input: 45\n",
    "    Output: false\n",
    "Follow up:\n",
    "- Could you do it without using any loop / recursion?"
   ]
  },
  {
   "cell_type": "markdown",
   "metadata": {},
   "source": [
    "- [Math 1-liner, no log, with explanation](https://leetcode.com/problems/power-of-three/discuss/77977/Math-1-liner-no-log-with-explanation)\n",
    "\n",
    "> The positive divisors of 3^19 are exactly the powers of 3 from 3^0 to 3^19. That's all powers of 3 in the possible range here (signed 32-bit integer). So just check whether the number is positive and whether it divides 3^19.\n",
    "\n",
    "2 ^ 20 = 2147483648   \n",
    "3 ^ 19 = 1162261467"
   ]
  },
  {
   "cell_type": "code",
   "execution_count": 1,
   "metadata": {},
   "outputs": [
    {
     "data": {
      "text/plain": [
       "True"
      ]
     },
     "execution_count": 1,
     "metadata": {},
     "output_type": "execute_result"
    }
   ],
   "source": [
    "class Solution:\n",
    "    def isPowerOfThree(self, n: int) -> bool:\n",
    "        return n > 0 == 3 ** 19 % n\n",
    "    \n",
    "# test\n",
    "n = 27\n",
    "Solution().isPowerOfThree(n)"
   ]
  }
 ],
 "metadata": {
  "kernelspec": {
   "display_name": "Python 3",
   "language": "python",
   "name": "python3"
  },
  "language_info": {
   "codemirror_mode": {
    "name": "ipython",
    "version": 3
   },
   "file_extension": ".py",
   "mimetype": "text/x-python",
   "name": "python",
   "nbconvert_exporter": "python",
   "pygments_lexer": "ipython3",
   "version": "3.6.4"
  }
 },
 "nbformat": 4,
 "nbformat_minor": 2
}
