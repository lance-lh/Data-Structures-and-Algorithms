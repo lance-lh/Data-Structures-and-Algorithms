{
 "cells": [
  {
   "cell_type": "markdown",
   "metadata": {},
   "source": [
    "Given an integer n, return the number of trailing zeroes in n!.\n",
    "\n",
    "Example 1:\n",
    "\n",
    "    Input: 3\n",
    "    Output: 0\n",
    "    Explanation: 3! = 6, no trailing zero.\n",
    "Example 2:\n",
    "\n",
    "    Input: 5\n",
    "    Output: 1\n",
    "    Explanation: 5! = 120, one trailing zero.\n",
    "    \n",
    "Note: Your solution should be in logarithmic time complexity."
   ]
  },
  {
   "cell_type": "code",
   "execution_count": 1,
   "metadata": {},
   "outputs": [
    {
     "data": {
      "text/plain": [
       "6"
      ]
     },
     "execution_count": 1,
     "metadata": {},
     "output_type": "execute_result"
    }
   ],
   "source": [
    "class Solution:\n",
    "    def trailingZeroes(self, n: int) -> int:\n",
    "        return 0 if n == 0 else n // 5 + self.trailingZeroes(n // 5)\n",
    "\n",
    "# test\n",
    "n = 25\n",
    "Solution().trailingZeroes(n)"
   ]
  }
 ],
 "metadata": {
  "kernelspec": {
   "display_name": "Python 3",
   "language": "python",
   "name": "python3"
  },
  "language_info": {
   "codemirror_mode": {
    "name": "ipython",
    "version": 3
   },
   "file_extension": ".py",
   "mimetype": "text/x-python",
   "name": "python",
   "nbconvert_exporter": "python",
   "pygments_lexer": "ipython3",
   "version": "3.6.4"
  }
 },
 "nbformat": 4,
 "nbformat_minor": 2
}
