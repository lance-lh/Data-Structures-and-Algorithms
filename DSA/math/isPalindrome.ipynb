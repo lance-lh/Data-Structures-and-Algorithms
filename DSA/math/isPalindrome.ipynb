{
 "cells": [
  {
   "cell_type": "markdown",
   "metadata": {},
   "source": [
    "Determine whether an integer is a palindrome. An integer is a palindrome when it reads the same backward as forward.\n",
    "\n",
    "Example 1:\n",
    "\n",
    "    Input: 121\n",
    "    Output: true\n",
    "Example 2:\n",
    "\n",
    "    Input: -121\n",
    "    Output: false\n",
    "    Explanation: From left to right, it reads -121. From right to left, it becomes 121-. Therefore it is not a palindrome.\n",
    "Example 3:\n",
    "\n",
    "    Input: 10\n",
    "    Output: false\n",
    "    Explanation: Reads 01 from right to left. Therefore it is not a palindrome.\n",
    "Follow up:\n",
    "\n",
    "    Coud you solve it without converting the integer to a string?"
   ]
  },
  {
   "cell_type": "code",
   "execution_count": 1,
   "metadata": {},
   "outputs": [
    {
     "name": "stdout",
     "output_type": "stream",
     "text": [
      "True\n"
     ]
    }
   ],
   "source": [
    "class Solution:\n",
    "    def isPalindrome(self, x: int) -> bool:\n",
    "        if x < 0:\n",
    "            return False\n",
    "        x = str(x)\n",
    "        if len(x) % 2 == 0:\n",
    "            if x[:len(x)//2] == x[len(x)//2:][::-1]:\n",
    "                return True\n",
    "            else:\n",
    "                return False\n",
    "        else:\n",
    "            if x[:len(x) // 2] == x[len(x) // 2 + 1:][::-1]:\n",
    "                return True\n",
    "            else:\n",
    "                return False\n",
    "\n",
    "\n",
    "# test\n",
    "x = 121\n",
    "print(Solution().isPalindrome(x))"
   ]
  },
  {
   "cell_type": "code",
   "execution_count": 2,
   "metadata": {},
   "outputs": [
    {
     "name": "stdout",
     "output_type": "stream",
     "text": [
      "True\n"
     ]
    }
   ],
   "source": [
    "class Solution:\n",
    "    def isPalindrome(self, x: int) -> bool:\n",
    "        return str(x) == str(x)[::-1]\n",
    "\n",
    "\n",
    "# test\n",
    "x = 121\n",
    "print(Solution().isPalindrome(x))"
   ]
  },
  {
   "cell_type": "code",
   "execution_count": 3,
   "metadata": {},
   "outputs": [
    {
     "name": "stdout",
     "output_type": "stream",
     "text": [
      "True\n"
     ]
    }
   ],
   "source": [
    "class Solution:\n",
    "    def isPalindrome(self, x: int) -> bool:\n",
    "        reverse = 0\n",
    "        number = x\n",
    "        while (number > 0):\n",
    "            reminder = number % 10  # getting last digit (units) from the number\n",
    "            reverse = (reverse * 10) + reminder  # creating new reversed number\n",
    "            number = number // 10  # getting the number without last digit (cutting units)\n",
    "        \n",
    "        # x has to be bigger than 0 because negative numbers don't meet the criteria\n",
    "        if x >= 0 and x == reverse:    \n",
    "            return True\n",
    "        else:\n",
    "            return False\n",
    "\n",
    "# test\n",
    "x = 121\n",
    "print(Solution().isPalindrome(x))"
   ]
  }
 ],
 "metadata": {
  "kernelspec": {
   "display_name": "Python 3",
   "language": "python",
   "name": "python3"
  },
  "language_info": {
   "codemirror_mode": {
    "name": "ipython",
    "version": 3
   },
   "file_extension": ".py",
   "mimetype": "text/x-python",
   "name": "python",
   "nbconvert_exporter": "python",
   "pygments_lexer": "ipython3",
   "version": "3.6.4"
  }
 },
 "nbformat": 4,
 "nbformat_minor": 2
}
