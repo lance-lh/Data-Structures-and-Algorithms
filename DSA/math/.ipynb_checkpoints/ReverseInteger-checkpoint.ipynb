{
 "cells": [
  {
   "cell_type": "markdown",
   "metadata": {},
   "source": [
    "Given a 32-bit signed integer, reverse digits of an integer.\n",
    "\n",
    "Example 1:\n",
    "\n",
    "    Input: 123\n",
    "    Output: 321\n",
    "    Example 2:\n",
    "\n",
    "    Input: -123\n",
    "    Output: -321\n",
    "    Example 3:\n",
    "\n",
    "    Input: 120\n",
    "    Output: 21\n",
    "\n",
    "Note:\n",
    "\n",
    "Assume we are dealing with an environment which could only store integers within the 32-bit signed integer range: [−231,  231 − 1]. For the purpose of this problem, assume that your function returns 0 when the reversed integer overflows."
   ]
  },
  {
   "cell_type": "markdown",
   "metadata": {},
   "source": [
    "TypeError: 'int' object is not subscriptable\n",
    "\n",
    "`ans = abs(x)[::-1]`\n",
    "\n",
    "`ans = int(str(abs(x))[::-1])`"
   ]
  },
  {
   "cell_type": "code",
   "execution_count": 1,
   "metadata": {},
   "outputs": [],
   "source": [
    "def reverse(x):\n",
    "    sign = -1 if x <0 else 1\n",
    "    #slice, reverse\n",
    "    ans = int(str(abs(x))[::-1])\n",
    "    if ans > 2**31 - 1:\n",
    "        return 0\n",
    "    else:\n",
    "        return ans * sign"
   ]
  },
  {
   "cell_type": "code",
   "execution_count": 2,
   "metadata": {},
   "outputs": [
    {
     "data": {
      "text/plain": [
       "-321"
      ]
     },
     "execution_count": 2,
     "metadata": {},
     "output_type": "execute_result"
    }
   ],
   "source": [
    "# test\n",
    "x = -123\n",
    "reverse(x)"
   ]
  }
 ],
 "metadata": {
  "kernelspec": {
   "display_name": "Python 3",
   "language": "python",
   "name": "python3"
  },
  "language_info": {
   "codemirror_mode": {
    "name": "ipython",
    "version": 3
   },
   "file_extension": ".py",
   "mimetype": "text/x-python",
   "name": "python",
   "nbconvert_exporter": "python",
   "pygments_lexer": "ipython3",
   "version": "3.6.4"
  }
 },
 "nbformat": 4,
 "nbformat_minor": 2
}
