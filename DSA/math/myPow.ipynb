{
 "cells": [
  {
   "cell_type": "markdown",
   "metadata": {},
   "source": [
    "Implement pow(x, n), which calculates x raised to the power n (xn).\n",
    "\n",
    "Example 1:\n",
    "\n",
    "    Input: 2.00000, 10\n",
    "    Output: 1024.00000\n",
    "Example 2:\n",
    "\n",
    "    Input: 2.10000, 3\n",
    "    Output: 9.26100\n",
    "Example 3:\n",
    "\n",
    "    Input: 2.00000, -2\n",
    "    Output: 0.25000\n",
    "    Explanation: 2-2 = 1/22 = 1/4 = 0.25\n",
    "Note:\n",
    "\n",
    "    -100.0 < x < 100.0\n",
    "    n is a 32-bit signed integer, within the range [−231, 231 − 1]"
   ]
  },
  {
   "cell_type": "code",
   "execution_count": 1,
   "metadata": {},
   "outputs": [
    {
     "name": "stdout",
     "output_type": "stream",
     "text": [
      "9.261000000000001\n"
     ]
    }
   ],
   "source": [
    "class Solution:\n",
    "    def myPow(self, x, n):\n",
    "        '''\n",
    "        :param x: float\n",
    "        :param n: int\n",
    "        :return: float\n",
    "        '''\n",
    "\n",
    "        if not n:\n",
    "            return 1\n",
    "        if n < 0:\n",
    "            return 1 / self.myPow(x, -n)\n",
    "        if n % 2:\n",
    "            return x * self.myPow(x, n-1)\n",
    "        #　execute when n is even\n",
    "        return self.myPow(x*x, n/2)\n",
    "\n",
    "\n",
    "# test\n",
    "x = 2.10000\n",
    "n = 3\n",
    "print(Solution().myPow(x, n))"
   ]
  },
  {
   "cell_type": "code",
   "execution_count": 2,
   "metadata": {},
   "outputs": [
    {
     "name": "stdout",
     "output_type": "stream",
     "text": [
      "9.261000000000001\n"
     ]
    }
   ],
   "source": [
    "class Solution:\n",
    "    def myPow(self, x, n):\n",
    "        '''\n",
    "        :param x: float\n",
    "        :param n: int\n",
    "        :return: float\n",
    "        '''\n",
    "        return x ** n\n",
    "\n",
    "\n",
    "# test\n",
    "x = 2.10000\n",
    "n = 3\n",
    "print(Solution().myPow(x, n))"
   ]
  }
 ],
 "metadata": {
  "kernelspec": {
   "display_name": "Python 3",
   "language": "python",
   "name": "python3"
  },
  "language_info": {
   "codemirror_mode": {
    "name": "ipython",
    "version": 3
   },
   "file_extension": ".py",
   "mimetype": "text/x-python",
   "name": "python",
   "nbconvert_exporter": "python",
   "pygments_lexer": "ipython3",
   "version": "3.6.4"
  }
 },
 "nbformat": 4,
 "nbformat_minor": 2
}
