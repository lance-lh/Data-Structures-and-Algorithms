{
 "cells": [
  {
   "cell_type": "markdown",
   "metadata": {},
   "source": [
    "Implement a trie with insert, search, and startsWith methods.\n",
    "\n",
    "Example:\n",
    "\n",
    "    Trie trie = new Trie();\n",
    "\n",
    "    trie.insert(\"apple\");\n",
    "    trie.search(\"apple\");   // returns true\n",
    "    trie.search(\"app\");     // returns false\n",
    "    trie.startsWith(\"app\"); // returns true\n",
    "    trie.insert(\"app\");   \n",
    "    trie.search(\"app\");     // returns true\n",
    "Note:\n",
    "\n",
    "- You may assume that all inputs are consist of lowercase letters a-z.\n",
    "- All inputs are guaranteed to be non-empty strings.\n"
   ]
  },
  {
   "cell_type": "code",
   "execution_count": 1,
   "metadata": {},
   "outputs": [
    {
     "name": "stdout",
     "output_type": "stream",
     "text": [
      "True\n",
      "True\n"
     ]
    }
   ],
   "source": [
    "from collections import defaultdict\n",
    "\n",
    "class TrieNode:\n",
    "    def __init__(self):\n",
    "        self.children = defaultdict(TrieNode)\n",
    "        self.isEnd = False\n",
    "\n",
    "class Trie:\n",
    "\n",
    "    def __init__(self):\n",
    "        \"\"\"\n",
    "        Initialize your data structure here.\n",
    "        \"\"\"\n",
    "        self.root = TrieNode()\n",
    "        \n",
    "\n",
    "    def insert(self, word: str) -> None:\n",
    "        \"\"\"\n",
    "        Inserts a word into the trie.\n",
    "        \"\"\"\n",
    "        cur = self.root\n",
    "        for ch in word:\n",
    "            cur = cur.children[ch]\n",
    "        cur.isEnd = True\n",
    "        \n",
    "\n",
    "    def search(self, word: str) -> bool:\n",
    "        \"\"\"\n",
    "        Returns if the word is in the trie.\n",
    "        \"\"\"\n",
    "        cur = self.root\n",
    "        for ch in word:\n",
    "            cur = cur.children.get(ch)\n",
    "            if not cur:\n",
    "                return False\n",
    "        return cur.isEnd\n",
    "        \n",
    "\n",
    "    def startsWith(self, prefix: str) -> bool:\n",
    "        \"\"\"\n",
    "        Returns if there is any word in the trie that starts with the given prefix.\n",
    "        \"\"\"\n",
    "        cur = self.root\n",
    "        for ch in prefix:\n",
    "            cur = cur.children.get(ch)\n",
    "            if not cur:\n",
    "                return False\n",
    "        return True\n",
    "\n",
    "\n",
    "# Your Trie object will be instantiated and called as such:\n",
    "word = \"apple\"\n",
    "prefix = \"app\"\n",
    "\n",
    "obj = Trie()\n",
    "obj.insert(word)\n",
    "param_2 = obj.search(word)\n",
    "param_3 = obj.startsWith(prefix)\n",
    "print(param_2)\n",
    "print(param_3)"
   ]
  }
 ],
 "metadata": {
  "kernelspec": {
   "display_name": "Python 3",
   "language": "python",
   "name": "python3"
  },
  "language_info": {
   "codemirror_mode": {
    "name": "ipython",
    "version": 3
   },
   "file_extension": ".py",
   "mimetype": "text/x-python",
   "name": "python",
   "nbconvert_exporter": "python",
   "pygments_lexer": "ipython3",
   "version": "3.6.4"
  }
 },
 "nbformat": 4,
 "nbformat_minor": 2
}
